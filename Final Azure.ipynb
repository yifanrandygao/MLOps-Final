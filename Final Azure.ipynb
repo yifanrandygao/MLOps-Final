{
 "cells": [
  {
   "cell_type": "markdown",
   "metadata": {},
   "source": [
    "### Final: Azure Platform\n",
    "#### Author: Yifan Gao\n",
    "#### Group:  7\n",
    "#### Date:  Dec 8, 2021"
   ]
  },
  {
   "cell_type": "markdown",
   "metadata": {},
   "source": [
    "## Create a workspace on Microsoft Azure"
   ]
  },
  {
   "cell_type": "code",
   "execution_count": 26,
   "metadata": {},
   "outputs": [
    {
     "name": "stdout",
     "output_type": "stream",
     "text": [
      "^C\n"
     ]
    }
   ],
   "source": [
    "# !pip install azureml-core==1.35.0 --user"
   ]
  },
  {
   "cell_type": "code",
   "execution_count": 2,
   "metadata": {},
   "outputs": [
    {
     "ename": "WorkspaceException",
     "evalue": "WorkspaceException:\n\tMessage: Workspace with name 'FinalAzurePipeline' already exists under resource group with name 'Final_Pipeline_1'.\n\tInnerException None\n\tErrorResponse \n{\n    \"error\": {\n        \"message\": \"Workspace with name 'FinalAzurePipeline' already exists under resource group with name 'Final_Pipeline_1'.\"\n    }\n}",
     "output_type": "error",
     "traceback": [
      "\u001b[1;31m---------------------------------------------------------------------------\u001b[0m",
      "\u001b[1;31mWorkspaceException\u001b[0m                        Traceback (most recent call last)",
      "\u001b[1;32m~\\AppData\\Local\\Temp/ipykernel_28856/1921969832.py\u001b[0m in \u001b[0;36m<module>\u001b[1;34m\u001b[0m\n\u001b[0;32m     11\u001b[0m                       \u001b[0mresource_group\u001b[0m\u001b[1;33m=\u001b[0m\u001b[0mresource_group\u001b[0m\u001b[1;33m,\u001b[0m\u001b[1;33m\u001b[0m\u001b[1;33m\u001b[0m\u001b[0m\n\u001b[0;32m     12\u001b[0m                       \u001b[0mcreate_resource_group\u001b[0m\u001b[1;33m=\u001b[0m\u001b[1;32mTrue\u001b[0m\u001b[1;33m,\u001b[0m\u001b[1;33m\u001b[0m\u001b[1;33m\u001b[0m\u001b[0m\n\u001b[1;32m---> 13\u001b[1;33m                       \u001b[0mlocation\u001b[0m\u001b[1;33m=\u001b[0m\u001b[1;34m'eastus2'\u001b[0m\u001b[1;33m\u001b[0m\u001b[1;33m\u001b[0m\u001b[0m\n\u001b[0m\u001b[0;32m     14\u001b[0m                      )\n\u001b[0;32m     15\u001b[0m \u001b[1;33m\u001b[0m\u001b[0m\n",
      "\u001b[1;32m~\\AppData\\Roaming\\Python\\Python37\\site-packages\\azureml\\core\\workspace.py\u001b[0m in \u001b[0;36mcreate\u001b[1;34m(name, auth, subscription_id, resource_group, location, create_resource_group, sku, tags, friendly_name, storage_account, key_vault, app_insights, container_registry, adb_workspace, primary_user_assigned_identity, cmk_keyvault, resource_cmk_uri, hbi_workspace, default_cpu_compute_target, default_gpu_compute_target, private_endpoint_config, private_endpoint_auto_approval, exist_ok, show_output, user_assigned_identity_for_cmk_encryption, system_datastores_auth_mode)\u001b[0m\n\u001b[0;32m    560\u001b[0m             \u001b[0mshow_output\u001b[0m\u001b[1;33m=\u001b[0m\u001b[0mshow_output\u001b[0m\u001b[1;33m,\u001b[0m\u001b[1;33m\u001b[0m\u001b[1;33m\u001b[0m\u001b[0m\n\u001b[0;32m    561\u001b[0m             \u001b[0muser_assigned_identity_for_cmk_encryption\u001b[0m\u001b[1;33m=\u001b[0m\u001b[0muser_assigned_identity_for_cmk_encryption\u001b[0m\u001b[1;33m,\u001b[0m\u001b[1;33m\u001b[0m\u001b[1;33m\u001b[0m\u001b[0m\n\u001b[1;32m--> 562\u001b[1;33m             system_datastores_auth_mode=system_datastores_auth_mode)\n\u001b[0m\u001b[0;32m    563\u001b[0m \u001b[1;33m\u001b[0m\u001b[0m\n\u001b[0;32m    564\u001b[0m     \u001b[1;33m@\u001b[0m\u001b[0mstaticmethod\u001b[0m\u001b[1;33m\u001b[0m\u001b[1;33m\u001b[0m\u001b[0m\n",
      "\u001b[1;32m~\\AppData\\Roaming\\Python\\Python37\\site-packages\\azureml\\core\\workspace.py\u001b[0m in \u001b[0;36m_create_legacy\u001b[1;34m(auth, subscription_id, resource_group_name, workspace_name, location, create_resource_group, sku, tags, friendly_name, storage_account, key_vault, app_insights, container_registry, adb_workspace, primary_user_assigned_identity, cmk_keyvault, resource_cmk_uri, hbi_workspace, default_cpu_compute_target, default_gpu_compute_target, private_endpoint_config, private_endpoint_auto_approval, exist_ok, show_output, user_assigned_identity_for_cmk_encryption, system_datastores_auth_mode)\u001b[0m\n\u001b[0;32m   1719\u001b[0m             \u001b[0mexist_ok\u001b[0m\u001b[1;33m=\u001b[0m\u001b[0mexist_ok\u001b[0m\u001b[1;33m,\u001b[0m \u001b[0mshow_output\u001b[0m\u001b[1;33m=\u001b[0m\u001b[0mshow_output\u001b[0m\u001b[1;33m,\u001b[0m\u001b[1;33m\u001b[0m\u001b[1;33m\u001b[0m\u001b[0m\n\u001b[0;32m   1720\u001b[0m             \u001b[0muser_assigned_identity_for_cmk_encryption\u001b[0m\u001b[1;33m=\u001b[0m\u001b[0muser_assigned_identity_for_cmk_encryption\u001b[0m\u001b[1;33m,\u001b[0m\u001b[1;33m\u001b[0m\u001b[1;33m\u001b[0m\u001b[0m\n\u001b[1;32m-> 1721\u001b[1;33m             system_datastores_auth_mode=system_datastores_auth_mode)\n\u001b[0m\u001b[0;32m   1722\u001b[0m         \u001b[1;32mif\u001b[0m \u001b[1;32mnot\u001b[0m \u001b[0mworkspace_object_autorest\u001b[0m\u001b[1;33m:\u001b[0m\u001b[1;33m\u001b[0m\u001b[1;33m\u001b[0m\u001b[0m\n\u001b[0;32m   1723\u001b[0m             \u001b[1;32mraise\u001b[0m \u001b[0mWorkspaceException\u001b[0m\u001b[1;33m(\u001b[0m\u001b[1;34m\"Couldn't create the workspace.\"\u001b[0m\u001b[1;33m)\u001b[0m\u001b[1;33m\u001b[0m\u001b[1;33m\u001b[0m\u001b[0m\n",
      "\u001b[1;32m~\\AppData\\Roaming\\Python\\Python37\\site-packages\\azureml\\_project\\_commands.py\u001b[0m in \u001b[0;36mcreate_or_update_workspace\u001b[1;34m(auth, resource_group_name, workspace_name, subscription_id, location, create_resource_group, sku, tags, friendly_name, storage_account, key_vault, app_insights, containerRegistry, adb_workspace, primary_user_assigned_identity, cmk_keyvault, resource_cmk_uri, hbi_workspace, default_cpu_compute_target, default_gpu_compute_target, private_endpoint_config, private_endpoint_auto_approval, exist_ok, show_output, user_assigned_identity_for_cmk_encryption, system_datastores_auth_mode, is_update_dependent_resources, api_version)\u001b[0m\n\u001b[0;32m    388\u001b[0m         \u001b[0msystem_datastores_auth_mode\u001b[0m\u001b[1;33m=\u001b[0m\u001b[0msystem_datastores_auth_mode\u001b[0m\u001b[1;33m,\u001b[0m\u001b[1;33m\u001b[0m\u001b[1;33m\u001b[0m\u001b[0m\n\u001b[0;32m    389\u001b[0m         \u001b[0mis_update_dependent_resources\u001b[0m\u001b[1;33m=\u001b[0m\u001b[0mis_update_dependent_resources\u001b[0m\u001b[1;33m,\u001b[0m\u001b[1;33m\u001b[0m\u001b[1;33m\u001b[0m\u001b[0m\n\u001b[1;32m--> 390\u001b[1;33m         api_version=api_version)\n\u001b[0m\u001b[0;32m    391\u001b[0m \u001b[1;33m\u001b[0m\u001b[0m\n\u001b[0;32m    392\u001b[0m \u001b[1;33m\u001b[0m\u001b[0m\n",
      "\u001b[1;32m~\\AppData\\Roaming\\Python\\Python37\\site-packages\\azureml\\_workspace\\custom.py\u001b[0m in \u001b[0;36mml_workspace_create_resources\u001b[1;34m(auth, client, resource_group_name, workspace_name, location, vnet_location, subscription_id, friendly_name, storage_account, key_vault, app_insights, containerRegistry, adbWorkspace, primary_user_assigned_identity, cmk_keyvault, resource_cmk_uri, hbi_workspace, default_cpu_compute_target, default_gpu_compute_target, private_endpoint_config, private_endpoint_auto_approval, exist_ok, show_output, sku, tags, user_assigned_identity_for_cmk_encryption, system_datastores_auth_mode, is_update_dependent_resources, api_version)\u001b[0m\n\u001b[0;32m     79\u001b[0m                 \u001b[1;34m\"Workspace with name '{0}' already exists under\"\u001b[0m\u001b[1;33m\u001b[0m\u001b[1;33m\u001b[0m\u001b[0m\n\u001b[0;32m     80\u001b[0m                 \" resource group with name '{1}'.\".format(\n\u001b[1;32m---> 81\u001b[1;33m                     workspace_name, resource_group_name))\n\u001b[0m\u001b[0;32m     82\u001b[0m     \u001b[1;32mexcept\u001b[0m \u001b[0mErrorResponseWrapperException\u001b[0m \u001b[1;32mas\u001b[0m \u001b[0mresponse_exception\u001b[0m\u001b[1;33m:\u001b[0m\u001b[1;33m\u001b[0m\u001b[1;33m\u001b[0m\u001b[0m\n\u001b[0;32m     83\u001b[0m         \u001b[1;32mif\u001b[0m \u001b[0mresponse_exception\u001b[0m\u001b[1;33m.\u001b[0m\u001b[0mresponse\u001b[0m\u001b[1;33m.\u001b[0m\u001b[0mstatus_code\u001b[0m \u001b[1;33m!=\u001b[0m \u001b[1;36m404\u001b[0m\u001b[1;33m:\u001b[0m\u001b[1;33m\u001b[0m\u001b[1;33m\u001b[0m\u001b[0m\n",
      "\u001b[1;31mWorkspaceException\u001b[0m: WorkspaceException:\n\tMessage: Workspace with name 'FinalAzurePipeline' already exists under resource group with name 'Final_Pipeline_1'.\n\tInnerException None\n\tErrorResponse \n{\n    \"error\": {\n        \"message\": \"Workspace with name 'FinalAzurePipeline' already exists under resource group with name 'Final_Pipeline_1'.\"\n    }\n}"
     ]
    }
   ],
   "source": [
    "from azureml.core import Workspace\n",
    "import warnings\n",
    "warnings.filterwarnings(\"ignore\")\n",
    "subscription_id = 'd3805069-b2bd-4ab6-ac52-e7fabe76f043' # Copy this from Azure portal\n",
    "resource_group  = 'Final_Pipeline_1' # Arbitrary name\n",
    "workspace_name  = 'FinalAzurePipeline' # Arbitrary name\n",
    "\n",
    "# Create new workspace\n",
    "# ws = Workspace.create(name=workspace_name,\n",
    "#                       subscription_id=subscription_id,\n",
    "#                       resource_group=resource_group,\n",
    "#                       create_resource_group=True,\n",
    "#                       location='eastus2'\n",
    "#                      )\n",
    "\n",
    "# Load existing workspace\n",
    "ws = Workspace.get(name=workspace_name,\n",
    "                      subscription_id=subscription_id,\n",
    "                      resource_group=resource_group\n",
    "                     )"
   ]
  },
  {
   "cell_type": "markdown",
   "metadata": {},
   "source": [
    "## Create workspace configuration file to authenticate"
   ]
  },
  {
   "cell_type": "code",
   "execution_count": 3,
   "metadata": {},
   "outputs": [
    {
     "name": "stdout",
     "output_type": "stream",
     "text": [
      "Library configuration succeeded\n"
     ]
    }
   ],
   "source": [
    "try:\n",
    "    wsc = Workspace(subscription_id = subscription_id, resource_group = resource_group, workspace_name = workspace_name)\n",
    "    wsc.write_config()\n",
    "    print('Library configuration succeeded')\n",
    "except:\n",
    "    print('Workspace not found')"
   ]
  },
  {
   "cell_type": "markdown",
   "metadata": {},
   "source": [
    "## Attach the workspace"
   ]
  },
  {
   "cell_type": "code",
   "execution_count": 4,
   "metadata": {},
   "outputs": [],
   "source": [
    "import azureml.core\n",
    "from azureml.core import Datastore\n",
    "\n",
    "ws = Workspace.from_config()"
   ]
  },
  {
   "cell_type": "markdown",
   "metadata": {},
   "source": [
    "## Set up machine learning resources"
   ]
  },
  {
   "cell_type": "code",
   "execution_count": 5,
   "metadata": {},
   "outputs": [],
   "source": [
    "# Default datastore \n",
    "def_data_store = ws.get_default_datastore()\n",
    "\n",
    "# # Get the blob storage associated with the workspace\n",
    "# def_blob_store = Datastore(ws, \"workspaceblobstore\")\n",
    "\n",
    "# Get file storage associated with the workspace\n",
    "def_file_store = Datastore(ws, \"workspacefilestore\")"
   ]
  },
  {
   "cell_type": "markdown",
   "metadata": {},
   "source": [
    "### Upload data to cloud for future use"
   ]
  },
  {
   "cell_type": "code",
   "execution_count": 6,
   "metadata": {},
   "outputs": [
    {
     "name": "stdout",
     "output_type": "stream",
     "text": [
      "Uploading an estimated of 1 files\n",
      "Uploading C:\\Users\\mars_\\Documents\\Personal Document\\MSCA classes\\MSCA 32021 1 Machine Learning Operations\\Week 8/Data/train.csv\n",
      "Uploaded C:\\Users\\mars_\\Documents\\Personal Document\\MSCA classes\\MSCA 32021 1 Machine Learning Operations\\Week 8/Data/train.csv, 1 files out of an estimated total of 1\n",
      "Uploaded 1 files\n",
      "Uploading an estimated of 1 files\n",
      "Uploading C:\\Users\\mars_\\Documents\\Personal Document\\MSCA classes\\MSCA 32021 1 Machine Learning Operations\\Week 8/Data/test.csv\n",
      "Uploaded C:\\Users\\mars_\\Documents\\Personal Document\\MSCA classes\\MSCA 32021 1 Machine Learning Operations\\Week 8/Data/test.csv, 1 files out of an estimated total of 1\n",
      "Uploaded 1 files\n"
     ]
    },
    {
     "data": {
      "text/plain": [
       "{\n",
       "  \"source\": [\n",
       "    \"('workspaceblobstore', 'assignment4_test')\"\n",
       "  ],\n",
       "  \"definition\": [\n",
       "    \"GetDatastoreFiles\",\n",
       "    \"ParseDelimited\",\n",
       "    \"DropColumns\",\n",
       "    \"SetColumnTypes\"\n",
       "  ],\n",
       "  \"registration\": {\n",
       "    \"id\": \"69885d54-54a4-445c-bda9-2fccadc5fb46\",\n",
       "    \"name\": \"Assignment4_Test\",\n",
       "    \"version\": 1,\n",
       "    \"workspace\": \"Workspace.create(name='Assignment4AzurePipeline', subscription_id='d3805069-b2bd-4ab6-ac52-e7fabe76f043', resource_group='Assignment4_Pipeline_1')\"\n",
       "  }\n",
       "}"
      ]
     },
     "execution_count": 6,
     "metadata": {},
     "output_type": "execute_result"
    }
   ],
   "source": [
    "import os\n",
    "from azureml.core import Dataset\n",
    "import pandas as pd\n",
    "data_folder = os.getcwd() + '/Data'\n",
    "# # Add a new feature\n",
    "# train_df = pd.read_csv(data_folder + \"/train.csv\")\n",
    "# test_df = pd.read_csv(data_folder + \"/test.csv\")\n",
    "# train_df['Net Delay in Minutes'] = train_df['Arrival Delay in Minutes'] - train_df['Departure Delay in Minutes']\n",
    "# test_df['Net Delay in Minutes'] = test_df['Arrival Delay in Minutes'] - test_df['Departure Delay in Minutes']\n",
    "# train_df.to_csv(data_folder + \"/train.csv\")\n",
    "# test_df.to_csv(data_folder + \"/test.csv\")\n",
    "\n",
    "data_reference_train = def_data_store.upload_files(files=[data_folder + \"/train.csv\"], target_path='assignment4_train', overwrite=True, show_progress=True)\n",
    "data_reference_test = def_data_store.upload_files(files=[data_folder + \"/test.csv\"], target_path='assignment4_test', overwrite=True, show_progress=True)\n",
    "trainset = Dataset.Tabular.from_delimited_files(path=data_reference_train)\n",
    "testset = Dataset.Tabular.from_delimited_files(path=data_reference_test)\n",
    "trainset.register(workspace=ws, name=\"Assignment4_Train\", create_new_version=True) # dataset will get a new version whenever it's registered\n",
    "testset.register(workspace=ws, name=\"Assignment4_Test\", create_new_version=True)"
   ]
  },
  {
   "cell_type": "code",
   "execution_count": 7,
   "metadata": {},
   "outputs": [],
   "source": [
    "# !pip install azureml-dataset-runtime --upgrade"
   ]
  },
  {
   "cell_type": "code",
   "execution_count": 8,
   "metadata": {},
   "outputs": [],
   "source": [
    "# !pip install cloudpickle~=1.2.0"
   ]
  },
  {
   "cell_type": "markdown",
   "metadata": {},
   "source": [
    "## Set up a compute target"
   ]
  },
  {
   "cell_type": "code",
   "execution_count": 9,
   "metadata": {},
   "outputs": [
    {
     "name": "stdout",
     "output_type": "stream",
     "text": [
      "Found compute target: aml-compute\n"
     ]
    }
   ],
   "source": [
    "from azureml.core.compute import ComputeTarget, AmlCompute\n",
    "\n",
    "compute_name = \"aml-compute\"\n",
    "vm_size = \"Standard_DS3_v2\"\n",
    "# vm_size = \"Standard_D11\"\n",
    "if compute_name in ws.compute_targets:\n",
    "    compute_target = ws.compute_targets[compute_name]\n",
    "    if compute_target and type(compute_target) is AmlCompute:\n",
    "        print('Found compute target: ' + compute_name)\n",
    "else:\n",
    "    print('Creating a new compute target...')\n",
    "    provisioning_config = AmlCompute.provisioning_configuration(vm_size=vm_size,  # STANDARD_NC6 is GPU-enabled\n",
    "                                                                min_nodes=0,\n",
    "                                                                max_nodes=4)\n",
    "    # create the compute target\n",
    "    compute_target = ComputeTarget.create(\n",
    "        ws, compute_name, provisioning_config)\n",
    "\n",
    "    # Can poll for a minimum number of nodes and for a specific timeout.\n",
    "    # If no min node count is provided it will use the scale settings for the cluster\n",
    "    compute_target.wait_for_completion(\n",
    "        show_output=True, min_node_count=None, timeout_in_minutes=20)\n",
    "\n",
    "    # For a more detailed view of current cluster status, use the 'status' property\n",
    "    print(compute_target.status.serialize())"
   ]
  },
  {
   "cell_type": "markdown",
   "metadata": {},
   "source": [
    "## Configure automl"
   ]
  },
  {
   "cell_type": "code",
   "execution_count": 10,
   "metadata": {},
   "outputs": [],
   "source": [
    "import logging\n",
    "\n",
    "automl_settings = {\n",
    "    \"iteration_timeout_minutes\": 10,\n",
    "    \"experiment_timeout_hours\": 0.3,\n",
    "    \"enable_early_stopping\": True,\n",
    "    \"primary_metric\": 'accuracy',\n",
    "    \"featurization\": 'auto',\n",
    "    \"verbosity\": logging.INFO,\n",
    "    \"n_cross_validations\": 5\n",
    "}"
   ]
  },
  {
   "cell_type": "code",
   "execution_count": 11,
   "metadata": {},
   "outputs": [],
   "source": [
    "from azureml.train.automl import AutoMLConfig\n",
    "\n",
    "automl_config = AutoMLConfig(task='classification',\n",
    "                             debug_log='automated_ml_errors.log',\n",
    "                             training_data=trainset,\n",
    "                             test_data=testset,\n",
    "# for some reason XGBoost has a deep dependency on other packages and it causes error\n",
    "# so I have to block it. The metrics do not impact as much when excluding XGBoost.\n",
    "                             blocked_models = ['XGBoostClassifier'], \n",
    "                             label_column_name=\"satisfaction\",\n",
    "                             compute_target = compute_target,\n",
    "                             **automl_settings)"
   ]
  },
  {
   "cell_type": "code",
   "execution_count": 12,
   "metadata": {},
   "outputs": [
    {
     "name": "stdout",
     "output_type": "stream",
     "text": [
      "Submitting remote run.\n",
      "No run_configuration provided, running on aml-compute with default configuration\n",
      "Running on remote compute: aml-compute\n"
     ]
    },
    {
     "data": {
      "text/html": [
       "<table style=\"width:100%\"><tr><th>Experiment</th><th>Id</th><th>Type</th><th>Status</th><th>Details Page</th><th>Docs Page</th></tr><tr><td>Experiment14</td><td>AutoML_15d6cd88-71b1-4b36-b937-2f80dabb78bc</td><td>automl</td><td>NotStarted</td><td><a href=\"https://ml.azure.com/runs/AutoML_15d6cd88-71b1-4b36-b937-2f80dabb78bc?wsid=/subscriptions/d3805069-b2bd-4ab6-ac52-e7fabe76f043/resourcegroups/Assignment4_Pipeline_1/workspaces/Assignment4AzurePipeline&amp;tid=83b02c92-5f26-48ed-9e5b-6c2fca46a8e6\" target=\"_blank\" rel=\"noopener\">Link to Azure Machine Learning studio</a></td><td><a href=\"https://docs.microsoft.com/en-us/python/api/overview/azure/ml/intro?view=azure-ml-py\" target=\"_blank\" rel=\"noopener\">Link to Documentation</a></td></tr></table>"
      ],
      "text/plain": [
       "<IPython.core.display.HTML object>"
      ]
     },
     "metadata": {},
     "output_type": "display_data"
    },
    {
     "name": "stdout",
     "output_type": "stream",
     "text": [
      "\n",
      "Current status: FeaturesGeneration. Generating features for the dataset.\n",
      "Current status: DatasetFeaturization. Beginning to fit featurizers and featurize the dataset.\n",
      "Current status: DatasetCrossValidationSplit. Generating individually featurized CV splits.\n",
      "Current status: ModelSelection. Beginning model selection.\n",
      "\n",
      "****************************************************************************************************\n",
      "DATA GUARDRAILS: \n",
      "\n",
      "TYPE:         Class balancing detection\n",
      "STATUS:       PASSED\n",
      "DESCRIPTION:  Your inputs were analyzed, and all classes are balanced in your training data.\n",
      "              Learn more about imbalanced data: https://aka.ms/AutomatedMLImbalancedData\n",
      "\n",
      "****************************************************************************************************\n",
      "\n",
      "TYPE:         Missing feature values imputation\n",
      "STATUS:       DONE\n",
      "DESCRIPTION:  If the missing values are expected, let the run complete. Otherwise cancel the current run and use a script to customize the handling of missing feature values that may be more appropriate based on the data type and business requirement.\n",
      "              Learn more about missing value imputation: https://aka.ms/AutomatedMLFeaturization\n",
      "DETAILS:      \n",
      "+---------------------------------+---------------------------------+---------------------------------+\n",
      "|Column name                      |Missing value count              |Imputation type                  |\n",
      "+=================================+=================================+=================================+\n",
      "|Arrival Delay in Minutes         |310                              |mean                             |\n",
      "+---------------------------------+---------------------------------+---------------------------------+\n",
      "\n",
      "****************************************************************************************************\n",
      "\n",
      "TYPE:         High cardinality feature detection\n",
      "STATUS:       PASSED\n",
      "DESCRIPTION:  Your inputs were analyzed, and no high cardinality features were detected.\n",
      "              Learn more about high cardinality feature handling: https://aka.ms/AutomatedMLFeaturization\n",
      "\n",
      "****************************************************************************************************\n",
      "\n",
      "****************************************************************************************************\n",
      "ITERATION: The iteration being evaluated.\n",
      "PIPELINE: A summary description of the pipeline being evaluated.\n",
      "DURATION: Time taken for the current iteration.\n",
      "METRIC: The result of computing score on the fitted pipeline.\n",
      "BEST: The best observed score thus far.\n",
      "****************************************************************************************************\n",
      "\n",
      " ITERATION   PIPELINE                                       DURATION      METRIC      BEST\n",
      "         0                                                  0:01:03          nan       nan\n",
      "ERROR: {\n",
      "    \"additional_properties\": {},\n",
      "    \"error\": {\n",
      "        \"additional_properties\": {\n",
      "            \"debugInfo\": null\n",
      "        },\n",
      "        \"code\": \"SystemError\",\n",
      "        \"severity\": null,\n",
      "        \"message\": \"Failed to submit script run to remote compute.\",\n",
      "        \"message_format\": \"Failed to submit script run to remote compute.\",\n",
      "        \"message_parameters\": {},\n",
      "        \"reference_code\": null,\n",
      "        \"details_uri\": null,\n",
      "        \"target\": null,\n",
      "        \"details\": [],\n",
      "        \"inner_error\": {\n",
      "            \"additional_properties\": {},\n",
      "            \"code\": \"InternalError\",\n",
      "            \"inner_error\": {\n",
      "                \"additional_properties\": {},\n",
      "                \"code\": \"ChildRunSubmitFailed\",\n",
      "                \"inner_error\": null\n",
      "            }\n",
      "        },\n",
      "        \"additional_info\": null\n",
      "    },\n",
      "    \"correlation\": null,\n",
      "    \"environment\": null,\n",
      "    \"location\": null,\n",
      "    \"time\": {},\n",
      "    \"component_name\": null\n",
      "}\n",
      "         1   MaxAbsScaler ExtremeRandomTrees                0:02:00       0.8882    0.8882\n",
      "         2   MaxAbsScaler LightGBM                          0:01:44       0.9484    0.9484\n",
      "         3   MaxAbsScaler LightGBM                          0:00:41       0.9279    0.9484\n",
      "         4   MaxAbsScaler LogisticRegression                0:00:54       0.9341    0.9484\n",
      "         5   StandardScalerWrapper ExtremeRandomTrees       0:00:45       0.8935    0.9484\n",
      "         6   SparseNormalizer LightGBM                      0:00:40       0.8942    0.9484\n",
      "         7   MaxAbsScaler LogisticRegression                0:00:55       0.9341    0.9484\n",
      "         8   MaxAbsScaler SGD                               0:00:38       0.9324    0.9484\n",
      "         9   SparseNormalizer RandomForest                  0:01:57       0.9062    0.9484\n",
      "        10   StandardScalerWrapper LogisticRegression       0:00:46       0.6765    0.9484\n",
      "        11   StandardScalerWrapper RandomForest             0:01:13       0.9128    0.9484\n",
      "        12   TruncatedSVDWrapper RandomForest               0:02:09          nan    0.9484\n",
      "ERROR: {\n",
      "    \"additional_properties\": {},\n",
      "    \"error\": {\n",
      "        \"additional_properties\": {\n",
      "            \"debugInfo\": null\n",
      "        },\n",
      "        \"code\": \"UserError\",\n",
      "        \"severity\": null,\n",
      "        \"message\": \"Experiment timeout reached, please consider increasing your experiment timeout.\",\n",
      "        \"message_format\": \"Experiment timeout reached, please consider increasing your experiment timeout.\",\n",
      "        \"message_parameters\": {},\n",
      "        \"reference_code\": null,\n",
      "        \"details_uri\": null,\n",
      "        \"target\": null,\n",
      "        \"details\": [],\n",
      "        \"inner_error\": {\n",
      "            \"additional_properties\": {},\n",
      "            \"code\": \"ResourceExhausted\",\n",
      "            \"inner_error\": {\n",
      "                \"additional_properties\": {},\n",
      "                \"code\": \"Timeout\",\n",
      "                \"inner_error\": {\n",
      "                    \"additional_properties\": {},\n",
      "                    \"code\": \"ExperimentTimeoutForIterations\",\n",
      "                    \"inner_error\": null\n",
      "                }\n",
      "            }\n",
      "        },\n",
      "        \"additional_info\": null\n",
      "    },\n",
      "    \"correlation\": null,\n",
      "    \"environment\": null,\n",
      "    \"location\": null,\n",
      "    \"time\": {},\n",
      "    \"component_name\": null\n",
      "}\n",
      "        13    VotingEnsemble                                0:00:56       0.9638    0.9638\n",
      "        14    StackEnsemble                                 0:01:25       0.9650    0.9650\n"
     ]
    }
   ],
   "source": [
    "from azureml.core.experiment import Experiment\n",
    "experiment = Experiment(ws, \"Experiment14\")\n",
    "local_run = experiment.submit(automl_config, show_output=True)"
   ]
  },
  {
   "cell_type": "markdown",
   "metadata": {},
   "source": [
    "### Explore the results"
   ]
  },
  {
   "cell_type": "markdown",
   "metadata": {},
   "source": [
    "When sorting by validation score (interation metric), the top 3 models are: StackEnsemble, MaxAbsScaler/LightGBM and VotingEnsemble. \\\n",
    "When sorting by speed (duration), the top 3 models are: SparseNormalizer/LightGBM, MaxAbsScaler/SGD and MaxAbsScaler/LightGBM."
   ]
  },
  {
   "cell_type": "code",
   "execution_count": 13,
   "metadata": {
    "scrolled": false
   },
   "outputs": [
    {
     "data": {
      "application/vnd.jupyter.widget-view+json": {
       "model_id": "b4a4f4a08ca24c5790ec02cf8eb34a8b",
       "version_major": 2,
       "version_minor": 0
      },
      "text/plain": [
       "_AutoMLWidget(widget_settings={'childWidgetDisplay': 'popup', 'send_telemetry': False, 'log_level': 'INFO', 's…"
      ]
     },
     "metadata": {},
     "output_type": "display_data"
    },
    {
     "data": {
      "application/aml.mini.widget.v1": "{\"status\": \"Completed\", \"workbench_run_details_uri\": \"https://ml.azure.com/runs/AutoML_15d6cd88-71b1-4b36-b937-2f80dabb78bc?wsid=/subscriptions/d3805069-b2bd-4ab6-ac52-e7fabe76f043/resourcegroups/Assignment4_Pipeline_1/workspaces/Assignment4AzurePipeline&tid=83b02c92-5f26-48ed-9e5b-6c2fca46a8e6\", \"run_id\": \"AutoML_15d6cd88-71b1-4b36-b937-2f80dabb78bc\", \"run_properties\": {\"run_id\": \"AutoML_15d6cd88-71b1-4b36-b937-2f80dabb78bc\", \"created_utc\": \"2021-12-06T08:06:36.684755Z\", \"properties\": {\"num_iterations\": \"1000\", \"training_type\": \"TrainFull\", \"acquisition_function\": \"EI\", \"primary_metric\": \"accuracy\", \"train_split\": \"0\", \"acquisition_parameter\": \"0\", \"num_cross_validation\": \"5\", \"target\": \"aml-compute\", \"AMLSettingsJsonString\": \"{\\\"path\\\":null,\\\"name\\\":\\\"Experiment14\\\",\\\"subscription_id\\\":\\\"d3805069-b2bd-4ab6-ac52-e7fabe76f043\\\",\\\"resource_group\\\":\\\"Assignment4_Pipeline_1\\\",\\\"workspace_name\\\":\\\"Assignment4AzurePipeline\\\",\\\"region\\\":\\\"eastus2\\\",\\\"compute_target\\\":\\\"aml-compute\\\",\\\"spark_service\\\":null,\\\"azure_service\\\":\\\"remote\\\",\\\"many_models\\\":false,\\\"pipeline_fetch_max_batch_size\\\":1,\\\"enable_batch_run\\\":false,\\\"enable_run_restructure\\\":false,\\\"start_auxiliary_runs_before_parent_complete\\\":true,\\\"enable_code_generation\\\":false,\\\"iterations\\\":1000,\\\"primary_metric\\\":\\\"accuracy\\\",\\\"task_type\\\":\\\"classification\\\",\\\"positive_label\\\":null,\\\"data_script\\\":null,\\\"test_size\\\":0.0,\\\"test_include_predictions_only\\\":false,\\\"validation_size\\\":0.0,\\\"n_cross_validations\\\":5,\\\"y_min\\\":null,\\\"y_max\\\":null,\\\"num_classes\\\":null,\\\"featurization\\\":\\\"auto\\\",\\\"_ignore_package_version_incompatibilities\\\":false,\\\"is_timeseries\\\":false,\\\"max_cores_per_iteration\\\":1,\\\"max_concurrent_iterations\\\":1,\\\"iteration_timeout_minutes\\\":10,\\\"mem_in_mb\\\":null,\\\"enforce_time_on_windows\\\":true,\\\"experiment_timeout_minutes\\\":18,\\\"experiment_exit_score\\\":null,\\\"whitelist_models\\\":null,\\\"blacklist_algos\\\":[\\\"XGBoostClassifier\\\",\\\"TensorFlowLinearClassifier\\\",\\\"TensorFlowDNN\\\"],\\\"supported_models\\\":[\\\"TensorFlowLinearClassifier\\\",\\\"GradientBoosting\\\",\\\"KNN\\\",\\\"LightGBM\\\",\\\"SVM\\\",\\\"RandomForest\\\",\\\"LogisticRegression\\\",\\\"SGD\\\",\\\"TensorFlowDNN\\\",\\\"ExtremeRandomTrees\\\",\\\"XGBoostClassifier\\\",\\\"BernoulliNaiveBayes\\\",\\\"DecisionTree\\\",\\\"LinearSVM\\\",\\\"MultinomialNaiveBayes\\\",\\\"AveragedPerceptronClassifier\\\"],\\\"private_models\\\":[\\\"TabnetClassifier\\\"],\\\"auto_blacklist\\\":true,\\\"blacklist_samples_reached\\\":false,\\\"exclude_nan_labels\\\":true,\\\"verbosity\\\":20,\\\"_debug_log\\\":\\\"azureml_automl.log\\\",\\\"show_warnings\\\":false,\\\"model_explainability\\\":true,\\\"service_url\\\":null,\\\"sdk_url\\\":null,\\\"sdk_packages\\\":null,\\\"enable_onnx_compatible_models\\\":false,\\\"enable_split_onnx_featurizer_estimator_models\\\":false,\\\"vm_type\\\":\\\"STANDARD_DS3_V2\\\",\\\"telemetry_verbosity\\\":20,\\\"send_telemetry\\\":true,\\\"enable_dnn\\\":false,\\\"scenario\\\":\\\"SDK-1.13.0\\\",\\\"environment_label\\\":null,\\\"save_mlflow\\\":false,\\\"enable_categorical_indicators\\\":false,\\\"force_text_dnn\\\":false,\\\"enable_feature_sweeping\\\":true,\\\"enable_early_stopping\\\":true,\\\"early_stopping_n_iters\\\":10,\\\"arguments\\\":null,\\\"dataset_id\\\":null,\\\"hyperdrive_config\\\":null,\\\"validation_dataset_id\\\":null,\\\"run_source\\\":null,\\\"metrics\\\":null,\\\"enable_metric_confidence\\\":false,\\\"enable_ensembling\\\":true,\\\"enable_stack_ensembling\\\":true,\\\"ensemble_iterations\\\":15,\\\"enable_tf\\\":false,\\\"enable_subsampling\\\":null,\\\"subsample_seed\\\":null,\\\"enable_nimbusml\\\":false,\\\"enable_streaming\\\":false,\\\"force_streaming\\\":false,\\\"track_child_runs\\\":true,\\\"allowed_private_models\\\":[],\\\"label_column_name\\\":\\\"satisfaction\\\",\\\"weight_column_name\\\":null,\\\"cv_split_column_names\\\":null,\\\"enable_local_managed\\\":false,\\\"_local_managed_run_id\\\":null,\\\"cost_mode\\\":1,\\\"lag_length\\\":0,\\\"metric_operation\\\":\\\"maximize\\\",\\\"preprocess\\\":true}\", \"DataPrepJsonString\": \"{\\\\\\\"training_data\\\\\\\": {\\\\\\\"datasetId\\\\\\\": \\\\\\\"9dfa67f7-7281-460a-af8b-3b01e4b67119\\\\\\\"}, \\\\\\\"test_data\\\\\\\": {\\\\\\\"datasetId\\\\\\\": \\\\\\\"69885d54-54a4-445c-bda9-2fccadc5fb46\\\\\\\"}, \\\\\\\"datasets\\\\\\\": 0}\", \"EnableSubsampling\": null, \"runTemplate\": \"AutoML\", \"azureml.runsource\": \"automl\", \"display_task_type\": \"classification\", \"dependencies_versions\": \"{\\\"azureml-train-restclients-hyperdrive\\\": \\\"1.36.0\\\", \\\"azureml-train-core\\\": \\\"1.36.0\\\", \\\"azureml-train-automl-client\\\": \\\"1.36.0\\\", \\\"azureml-telemetry\\\": \\\"1.36.0\\\", \\\"azureml-mlflow\\\": \\\"1.36.0\\\", \\\"azureml-inference-server-http\\\": \\\"0.4.2\\\", \\\"azureml-defaults\\\": \\\"1.36.0\\\", \\\"azureml-dataset-runtime\\\": \\\"1.36.0\\\", \\\"azureml-dataprep\\\": \\\"2.24.3\\\", \\\"azureml-dataprep-rslex\\\": \\\"2.0.3\\\", \\\"azureml-core\\\": \\\"1.36.0\\\", \\\"azureml-automl-runtime\\\": \\\"1.36.0\\\", \\\"azureml-automl-core\\\": \\\"1.36.0\\\", \\\"azureml-widgets\\\": \\\"1.35.0\\\", \\\"azureml-pipeline-steps\\\": \\\"1.35.0\\\", \\\"azureml-pipeline-core\\\": \\\"1.35.0\\\", \\\"azureml-interpret\\\": \\\"1.36.0\\\", \\\"azureml-dataprep-native\\\": \\\"38.0.0\\\"}\", \"_aml_system_scenario_identification\": \"Remote.Parent\", \"ClientType\": \"SDK\", \"environment_cpu_name\": \"AzureML-AutoML\", \"environment_cpu_label\": \"prod\", \"environment_gpu_name\": \"AzureML-AutoML-GPU\", \"environment_gpu_label\": \"prod\", \"root_attribution\": \"automl\", \"attribution\": \"AutoML\", \"Orchestrator\": \"AutoML\", \"CancelUri\": \"https://eastus2.api.azureml.ms/jasmine/v1.0/subscriptions/d3805069-b2bd-4ab6-ac52-e7fabe76f043/resourceGroups/Assignment4_Pipeline_1/providers/Microsoft.MachineLearningServices/workspaces/Assignment4AzurePipeline/experimentids/3dd6fef4-1087-45eb-8a91-e939c3bacdfe/cancel/AutoML_15d6cd88-71b1-4b36-b937-2f80dabb78bc\", \"ClientSdkVersion\": \"1.36.1\", \"snapshotId\": \"00000000-0000-0000-0000-000000000000\", \"SetupRunId\": \"AutoML_15d6cd88-71b1-4b36-b937-2f80dabb78bc_setup\", \"SetupRunContainerId\": \"dcid.AutoML_15d6cd88-71b1-4b36-b937-2f80dabb78bc_setup\", \"FeaturizationRunJsonPath\": \"featurizer_container.json\", \"FeaturizationRunId\": \"AutoML_15d6cd88-71b1-4b36-b937-2f80dabb78bc_featurize\", \"ProblemInfoJsonString\": \"{\\\"dataset_num_categorical\\\": 0, \\\"is_sparse\\\": true, \\\"subsampling\\\": false, \\\"has_extra_col\\\": true, \\\"dataset_classes\\\": 2, \\\"dataset_features\\\": 95, \\\"dataset_samples\\\": 103904, \\\"single_frequency_class_detected\\\": false}\", \"ModelExplainRunId\": \"AutoML_15d6cd88-71b1-4b36-b937-2f80dabb78bc_ModelExplain\"}, \"tags\": {\"model_explain_run\": \"best_run\", \"_aml_system_azureml.automlComponent\": \"AutoML\", \"pipeline_id\": \"\", \"score\": \"\", \"predicted_cost\": \"\", \"fit_time\": \"\", \"training_percent\": \"\", \"iteration\": \"\", \"run_preprocessor\": \"\", \"run_algorithm\": \"\", \"_aml_system_azureml.automl_early_exit_message\": \"Experiment timeout reached, hence experiment stopped. Current experiment timeout: 0 hour(s) 18 minute(s)\", \"automl_best_child_run_id\": \"AutoML_15d6cd88-71b1-4b36-b937-2f80dabb78bc_14\", \"model_explain_best_run_child_id\": \"AutoML_15d6cd88-71b1-4b36-b937-2f80dabb78bc_14\"}, \"end_time_utc\": \"2021-12-06T08:34:05.876242Z\", \"status\": \"Completed\", \"log_files\": {}, \"log_groups\": [], \"run_duration\": \"0:27:29\", \"run_number\": \"1\", \"run_queued_details\": {\"status\": \"Completed\", \"details\": null}}, \"child_runs\": [{\"run_id\": \"AutoML_15d6cd88-71b1-4b36-b937-2f80dabb78bc_setup\", \"run_number\": 2, \"metric\": null, \"status\": \"Completed\", \"run_type\": \"azureml.scriptrun\", \"training_percent\": null, \"start_time\": \"2021-12-06T08:06:48.820211Z\", \"end_time\": \"2021-12-06T08:07:46.672642Z\", \"created_time\": \"2021-12-06T08:06:48.820211Z\", \"created_time_dt\": \"2021-12-06T08:06:48.820211Z\", \"duration\": \"0:00:57\", \"iteration\": null, \"goal\": null, \"run_name\": \"Completed\", \"run_properties\": null}, {\"run_id\": \"AutoML_15d6cd88-71b1-4b36-b937-2f80dabb78bc_featurize\", \"run_number\": 3, \"metric\": null, \"status\": \"Completed\", \"run_type\": \"automl.featurization\", \"training_percent\": null, \"start_time\": \"2021-12-06T08:07:47.412776Z\", \"end_time\": \"2021-12-06T08:13:38.28461Z\", \"created_time\": \"2021-12-06T08:07:47.065415Z\", \"created_time_dt\": \"2021-12-06T08:07:47.065415Z\", \"duration\": \"0:05:51\", \"iteration\": null, \"goal\": null, \"run_name\": \"Completed\", \"run_properties\": null}, {\"run_id\": \"AutoML_15d6cd88-71b1-4b36-b937-2f80dabb78bc_0\", \"run_number\": 5, \"metric\": null, \"status\": \"Failed\", \"run_type\": \"azureml.scriptrun\", \"training_percent\": \"100\", \"start_time\": \"2021-12-06T08:13:38.868028Z\", \"end_time\": \"2021-12-06T08:14:41.839989Z\", \"created_time\": \"2021-12-06T08:13:38.868028Z\", \"created_time_dt\": \"2021-12-06T08:13:38.868028Z\", \"duration\": \"0:01:02\", \"iteration\": \"0\", \"goal\": \"accuracy_max\", \"run_name\": \"MaxAbsScaler, LightGBM\", \"run_properties\": \"copy=True\", \"primary_metric\": 0.96516978, \"best_metric\": 0.96516978}, {\"run_id\": \"AutoML_15d6cd88-71b1-4b36-b937-2f80dabb78bc_1\", \"run_number\": 6, \"metric\": null, \"status\": \"Completed\", \"run_type\": \"azureml.scriptrun\", \"training_percent\": \"100\", \"start_time\": \"2021-12-06T08:14:42.880269Z\", \"end_time\": \"2021-12-06T08:16:42.50017Z\", \"created_time\": \"2021-12-06T08:14:42.880269Z\", \"created_time_dt\": \"2021-12-06T08:14:42.880269Z\", \"duration\": \"0:01:59\", \"iteration\": \"1\", \"goal\": \"accuracy_max\", \"run_name\": \"MaxAbsScaler, ExtremeRandomTrees\", \"run_properties\": \"copy=True\", \"primary_metric\": 0.8882141, \"best_metric\": 0.96516978}, {\"run_id\": \"AutoML_15d6cd88-71b1-4b36-b937-2f80dabb78bc_2\", \"run_number\": 7, \"metric\": null, \"status\": \"Completed\", \"run_type\": \"azureml.scriptrun\", \"training_percent\": \"100\", \"start_time\": \"2021-12-06T08:16:44.724798Z\", \"end_time\": \"2021-12-06T08:18:29.078375Z\", \"created_time\": \"2021-12-06T08:16:44.724798Z\", \"created_time_dt\": \"2021-12-06T08:16:44.724798Z\", \"duration\": \"0:01:44\", \"iteration\": \"2\", \"goal\": \"accuracy_max\", \"run_name\": \"MaxAbsScaler, LightGBM\", \"run_properties\": \"copy=True\", \"primary_metric\": 0.94844281, \"best_metric\": 0.96516978}, {\"run_id\": \"AutoML_15d6cd88-71b1-4b36-b937-2f80dabb78bc_3\", \"run_number\": 8, \"metric\": null, \"status\": \"Completed\", \"run_type\": \"azureml.scriptrun\", \"training_percent\": \"100\", \"start_time\": \"2021-12-06T08:18:30.980801Z\", \"end_time\": \"2021-12-06T08:19:12.051303Z\", \"created_time\": \"2021-12-06T08:18:30.980801Z\", \"created_time_dt\": \"2021-12-06T08:18:30.980801Z\", \"duration\": \"0:00:41\", \"iteration\": \"3\", \"goal\": \"accuracy_max\", \"run_name\": \"MaxAbsScaler, LightGBM\", \"run_properties\": \"copy=True\", \"primary_metric\": 0.92794313, \"best_metric\": 0.96516978}, {\"run_id\": \"AutoML_15d6cd88-71b1-4b36-b937-2f80dabb78bc_4\", \"run_number\": 9, \"metric\": null, \"status\": \"Completed\", \"run_type\": \"azureml.scriptrun\", \"training_percent\": \"100\", \"start_time\": \"2021-12-06T08:19:13.641951Z\", \"end_time\": \"2021-12-06T08:20:07.731513Z\", \"created_time\": \"2021-12-06T08:19:13.641951Z\", \"created_time_dt\": \"2021-12-06T08:19:13.641951Z\", \"duration\": \"0:00:54\", \"iteration\": \"4\", \"goal\": \"accuracy_max\", \"run_name\": \"MaxAbsScaler, LogisticRegression\", \"run_properties\": \"copy=True\", \"primary_metric\": 0.93408339, \"best_metric\": 0.96516978}, {\"run_id\": \"AutoML_15d6cd88-71b1-4b36-b937-2f80dabb78bc_5\", \"run_number\": 10, \"metric\": null, \"status\": \"Completed\", \"run_type\": \"azureml.scriptrun\", \"training_percent\": \"100\", \"start_time\": \"2021-12-06T08:20:09.162448Z\", \"end_time\": \"2021-12-06T08:20:53.779919Z\", \"created_time\": \"2021-12-06T08:20:09.162448Z\", \"created_time_dt\": \"2021-12-06T08:20:09.162448Z\", \"duration\": \"0:00:44\", \"iteration\": \"5\", \"goal\": \"accuracy_max\", \"run_name\": \"StandardScalerWrapper, ExtremeRandomTrees\", \"run_properties\": \"\\n    copy=True,\\n    with_mean=False,\\n    with_std=False\\n\", \"primary_metric\": 0.89348828, \"best_metric\": 0.96516978}, {\"run_id\": \"AutoML_15d6cd88-71b1-4b36-b937-2f80dabb78bc_6\", \"run_number\": 11, \"metric\": null, \"status\": \"Completed\", \"run_type\": \"azureml.scriptrun\", \"training_percent\": \"100\", \"start_time\": \"2021-12-06T08:20:55.125798Z\", \"end_time\": \"2021-12-06T08:21:35.345394Z\", \"created_time\": \"2021-12-06T08:20:55.125798Z\", \"created_time_dt\": \"2021-12-06T08:20:55.125798Z\", \"duration\": \"0:00:40\", \"iteration\": \"6\", \"goal\": \"accuracy_max\", \"run_name\": \"SparseNormalizer, LightGBM\", \"run_properties\": \"copy=True, norm='l1'\", \"primary_metric\": 0.89423893, \"best_metric\": 0.96516978}, {\"run_id\": \"AutoML_15d6cd88-71b1-4b36-b937-2f80dabb78bc_7\", \"run_number\": 12, \"metric\": null, \"status\": \"Completed\", \"run_type\": \"azureml.scriptrun\", \"training_percent\": \"100\", \"start_time\": \"2021-12-06T08:21:36.61842Z\", \"end_time\": \"2021-12-06T08:22:31.615355Z\", \"created_time\": \"2021-12-06T08:21:36.61842Z\", \"created_time_dt\": \"2021-12-06T08:21:36.61842Z\", \"duration\": \"0:00:54\", \"iteration\": \"7\", \"goal\": \"accuracy_max\", \"run_name\": \"MaxAbsScaler, LogisticRegression\", \"run_properties\": \"copy=True\", \"primary_metric\": 0.93408339, \"best_metric\": 0.96516978}, {\"run_id\": \"AutoML_15d6cd88-71b1-4b36-b937-2f80dabb78bc_8\", \"run_number\": 13, \"metric\": null, \"status\": \"Completed\", \"run_type\": \"azureml.scriptrun\", \"training_percent\": \"100\", \"start_time\": \"2021-12-06T08:22:33.143104Z\", \"end_time\": \"2021-12-06T08:23:11.186152Z\", \"created_time\": \"2021-12-06T08:22:33.143104Z\", \"created_time_dt\": \"2021-12-06T08:22:33.143104Z\", \"duration\": \"0:00:38\", \"iteration\": \"8\", \"goal\": \"accuracy_max\", \"run_name\": \"MaxAbsScaler, SGD\", \"run_properties\": \"copy=True\", \"primary_metric\": 0.93235103, \"best_metric\": 0.96516978}, {\"run_id\": \"AutoML_15d6cd88-71b1-4b36-b937-2f80dabb78bc_9\", \"run_number\": 14, \"metric\": null, \"status\": \"Completed\", \"run_type\": \"azureml.scriptrun\", \"training_percent\": \"100\", \"start_time\": \"2021-12-06T08:23:12.547229Z\", \"end_time\": \"2021-12-06T08:25:09.887961Z\", \"created_time\": \"2021-12-06T08:23:12.547229Z\", \"created_time_dt\": \"2021-12-06T08:23:12.547229Z\", \"duration\": \"0:01:57\", \"iteration\": \"9\", \"goal\": \"accuracy_max\", \"run_name\": \"SparseNormalizer, RandomForest\", \"run_properties\": \"copy=True, norm='l2'\", \"primary_metric\": 0.9062404, \"best_metric\": 0.96516978}, {\"run_id\": \"AutoML_15d6cd88-71b1-4b36-b937-2f80dabb78bc_10\", \"run_number\": 15, \"metric\": null, \"status\": \"Completed\", \"run_type\": \"azureml.scriptrun\", \"training_percent\": \"100\", \"start_time\": \"2021-12-06T08:25:11.370993Z\", \"end_time\": \"2021-12-06T08:25:57.245692Z\", \"created_time\": \"2021-12-06T08:25:11.370993Z\", \"created_time_dt\": \"2021-12-06T08:25:11.370993Z\", \"duration\": \"0:00:45\", \"iteration\": \"10\", \"goal\": \"accuracy_max\", \"run_name\": \"StandardScalerWrapper, LogisticRegression\", \"run_properties\": \"\\n    copy=True,\\n    with_mean=False,\\n    with_std=False\\n\", \"primary_metric\": 0.67647983, \"best_metric\": 0.96516978}, {\"run_id\": \"AutoML_15d6cd88-71b1-4b36-b937-2f80dabb78bc_11\", \"run_number\": 16, \"metric\": null, \"status\": \"Completed\", \"run_type\": \"azureml.scriptrun\", \"training_percent\": \"100\", \"start_time\": \"2021-12-06T08:25:58.77446Z\", \"end_time\": \"2021-12-06T08:27:11.819652Z\", \"created_time\": \"2021-12-06T08:25:58.77446Z\", \"created_time_dt\": \"2021-12-06T08:25:58.77446Z\", \"duration\": \"0:01:13\", \"iteration\": \"11\", \"goal\": \"accuracy_max\", \"run_name\": \"StandardScalerWrapper, RandomForest\", \"run_properties\": \"\\n    copy=True,\\n    with_mean=False,\\n    with_std=False\\n\", \"primary_metric\": 0.91282338, \"best_metric\": 0.96516978}, {\"run_id\": \"AutoML_15d6cd88-71b1-4b36-b937-2f80dabb78bc_12\", \"run_number\": 17, \"metric\": null, \"status\": \"Canceled\", \"run_type\": \"azureml.scriptrun\", \"training_percent\": \"100\", \"start_time\": \"2021-12-06T08:29:30.591019Z\", \"end_time\": \"2021-12-06T08:31:39.824445Z\", \"created_time\": \"2021-12-06T08:27:13.232608Z\", \"created_time_dt\": \"2021-12-06T08:27:13.232608Z\", \"duration\": \"0:04:26\", \"iteration\": \"12\", \"goal\": null, \"run_name\": \"TruncatedSVDWrapper, RandomForest\", \"run_properties\": null}, {\"run_id\": \"AutoML_15d6cd88-71b1-4b36-b937-2f80dabb78bc_13\", \"run_number\": 18, \"metric\": null, \"status\": \"Completed\", \"run_type\": \"azureml.scriptrun\", \"training_percent\": \"100\", \"start_time\": \"2021-12-06T08:31:40.862701Z\", \"end_time\": \"2021-12-06T08:32:37.27956Z\", \"created_time\": \"2021-12-06T08:31:40.862701Z\", \"created_time_dt\": \"2021-12-06T08:31:40.862701Z\", \"duration\": \"0:00:56\", \"iteration\": \"13\", \"goal\": \"accuracy_max\", \"run_name\": \"VotingEnsemble\", \"run_properties\": \"\\n    estimators=[('0', Pipeline(\\n        memory=None,\\n        steps=[('maxabsscaler', MaxAbsScaler(\\n            copy=True\\n        \", \"primary_metric\": 0.96376464, \"best_metric\": 0.96516978}, {\"run_id\": \"AutoML_15d6cd88-71b1-4b36-b937-2f80dabb78bc_14\", \"run_number\": 19, \"metric\": null, \"status\": \"Completed\", \"run_type\": \"azureml.scriptrun\", \"training_percent\": \"100\", \"start_time\": \"2021-12-06T08:32:38.171894Z\", \"end_time\": \"2021-12-06T08:34:03.316569Z\", \"created_time\": \"2021-12-06T08:32:38.171894Z\", \"created_time_dt\": \"2021-12-06T08:32:38.171894Z\", \"duration\": \"0:01:25\", \"iteration\": \"14\", \"goal\": \"accuracy_max\", \"run_name\": \"StackEnsemble\", \"run_properties\": \"\\n    base_learners=[('0', Pipeline(\\n        memory=None,\\n        steps=[('maxabsscaler', MaxAbsScaler(\\n            copy=True\\n        \", \"primary_metric\": 0.96498692, \"best_metric\": 0.96516978}], \"children_metrics\": {\"categories\": [0], \"series\": {\"balanced_accuracy\": [{\"categories\": [\"0\", \"1\", \"2\", \"3\", \"4\", \"5\", \"6\", \"7\", \"8\", \"9\", \"10\", \"11\", \"13\", \"14\"], \"mode\": \"markers\", \"name\": \"balanced_accuracy\", \"stepped\": false, \"type\": \"scatter\", \"data\": [0.9625340288777234, 0.8845371356682996, 0.9451746823706735, 0.9221511606407716, 0.9317232873693297, 0.8842166780573587, 0.8882080240932455, 0.9317207771532144, 0.930756816302517, 0.9026935399514668, 0.6590688856478151, 0.9063291488139977, 0.9610503370040613, 0.9628537917776313]}, {\"categories\": [\"0\", \"1\", \"2\", \"3\", \"4\", \"5\", \"6\", \"7\", \"8\", \"9\", \"10\", \"11\", \"13\", \"14\"], \"mode\": \"lines\", \"name\": \"balanced_accuracy_max\", \"stepped\": true, \"type\": \"scatter\", \"data\": [0.9625340288777234, 0.9625340288777234, 0.9625340288777234, 0.9625340288777234, 0.9625340288777234, 0.9625340288777234, 0.9625340288777234, 0.9625340288777234, 0.9625340288777234, 0.9625340288777234, 0.9625340288777234, 0.9625340288777234, 0.9625340288777234, 0.9628537917776313]}], \"AUC_weighted\": [{\"categories\": [\"0\", \"1\", \"2\", \"3\", \"4\", \"5\", \"6\", \"7\", \"8\", \"9\", \"10\", \"11\", \"13\", \"14\"], \"mode\": \"markers\", \"name\": \"AUC_weighted\", \"stepped\": false, \"type\": \"scatter\", \"data\": [0.9952637276615505, 0.9544503181644283, 0.9897336574614629, 0.9804132655197906, 0.9792911701012033, 0.9620547101730983, 0.9677982660376327, 0.9793113008402947, 0.9765553687595411, 0.9682561964445273, 0.7063180425607193, 0.9730628023586616, 0.9942721678695877, 0.9951897726373099]}, {\"categories\": [\"0\", \"1\", \"2\", \"3\", \"4\", \"5\", \"6\", \"7\", \"8\", \"9\", \"10\", \"11\", \"13\", \"14\"], \"mode\": \"lines\", \"name\": \"AUC_weighted_max\", \"stepped\": true, \"type\": \"scatter\", \"data\": [0.9952637276615505, 0.9952637276615505, 0.9952637276615505, 0.9952637276615505, 0.9952637276615505, 0.9952637276615505, 0.9952637276615505, 0.9952637276615505, 0.9952637276615505, 0.9952637276615505, 0.9952637276615505, 0.9952637276615505, 0.9952637276615505, 0.9952637276615505]}], \"recall_score_weighted\": [{\"categories\": [\"0\", \"1\", \"2\", \"3\", \"4\", \"5\", \"6\", \"7\", \"8\", \"9\", \"10\", \"11\", \"13\", \"14\"], \"mode\": \"markers\", \"name\": \"recall_score_weighted\", \"stepped\": false, \"type\": \"scatter\", \"data\": [0.9651697840335848, 0.8882140961386631, 0.9484428097239747, 0.9279431348293785, 0.9340833919560507, 0.8934882783974905, 0.8942389279946298, 0.9340833891771743, 0.9323510300994482, 0.9062404013549988, 0.676479831214741, 0.9128233761322011, 0.9637646404534312, 0.9649869246909158]}, {\"categories\": [\"0\", \"1\", \"2\", \"3\", \"4\", \"5\", \"6\", \"7\", \"8\", \"9\", \"10\", \"11\", \"13\", \"14\"], \"mode\": \"lines\", \"name\": \"recall_score_weighted_max\", \"stepped\": true, \"type\": \"scatter\", \"data\": [0.9651697840335848, 0.9651697840335848, 0.9651697840335848, 0.9651697840335848, 0.9651697840335848, 0.9651697840335848, 0.9651697840335848, 0.9651697840335848, 0.9651697840335848, 0.9651697840335848, 0.9651697840335848, 0.9651697840335848, 0.9651697840335848, 0.9651697840335848]}], \"norm_macro_recall\": [{\"categories\": [\"0\", \"1\", \"2\", \"3\", \"4\", \"5\", \"6\", \"7\", \"8\", \"9\", \"10\", \"11\", \"13\", \"14\"], \"mode\": \"markers\", \"name\": \"norm_macro_recall\", \"stepped\": false, \"type\": \"scatter\", \"data\": [0.9250680577554471, 0.7690742713365991, 0.8903493647413467, 0.8443023212815433, 0.8634465747386596, 0.7684333561147173, 0.7764160481864909, 0.8634415543064288, 0.8615136326050343, 0.8053870799029337, 0.3181377712956302, 0.8126582976279957, 0.9221006740081228, 0.9257075835552625]}, {\"categories\": [\"0\", \"1\", \"2\", \"3\", \"4\", \"5\", \"6\", \"7\", \"8\", \"9\", \"10\", \"11\", \"13\", \"14\"], \"mode\": \"lines\", \"name\": \"norm_macro_recall_max\", \"stepped\": true, \"type\": \"scatter\", \"data\": [0.9250680577554471, 0.9250680577554471, 0.9250680577554471, 0.9250680577554471, 0.9250680577554471, 0.9250680577554471, 0.9250680577554471, 0.9250680577554471, 0.9250680577554471, 0.9250680577554471, 0.9250680577554471, 0.9250680577554471, 0.9250680577554471, 0.9257075835552625]}], \"precision_score_micro\": [{\"categories\": [\"0\", \"1\", \"2\", \"3\", \"4\", \"5\", \"6\", \"7\", \"8\", \"9\", \"10\", \"11\", \"13\", \"14\"], \"mode\": \"markers\", \"name\": \"precision_score_micro\", \"stepped\": false, \"type\": \"scatter\", \"data\": [0.9651697840335848, 0.8882140961386631, 0.9484428097239747, 0.9279431348293785, 0.9340833919560507, 0.8934882783974905, 0.8942389279946298, 0.9340833891771743, 0.9323510300994482, 0.9062404013549988, 0.676479831214741, 0.9128233761322011, 0.9637646404534312, 0.9649869246909158]}, {\"categories\": [\"0\", \"1\", \"2\", \"3\", \"4\", \"5\", \"6\", \"7\", \"8\", \"9\", \"10\", \"11\", \"13\", \"14\"], \"mode\": \"lines\", \"name\": \"precision_score_micro_max\", \"stepped\": true, \"type\": \"scatter\", \"data\": [0.9651697840335848, 0.9651697840335848, 0.9651697840335848, 0.9651697840335848, 0.9651697840335848, 0.9651697840335848, 0.9651697840335848, 0.9651697840335848, 0.9651697840335848, 0.9651697840335848, 0.9651697840335848, 0.9651697840335848, 0.9651697840335848, 0.9651697840335848]}], \"weighted_accuracy\": [{\"categories\": [\"0\", \"1\", \"2\", \"3\", \"4\", \"5\", \"6\", \"7\", \"8\", \"9\", \"10\", \"11\", \"13\", \"14\"], \"mode\": \"markers\", \"name\": \"weighted_accuracy\", \"stepped\": false, \"type\": \"scatter\", \"data\": [0.9677134090255197, 0.8917631305123894, 0.9515966820055958, 0.9335326507619032, 0.936360974931406, 0.9024359057250562, 0.9000593424968704, 0.936363396861665, 0.933889677355306, 0.9096633022366195, 0.6932790824651767, 0.9190904942627206, 0.9663840133828547, 0.9670455233750477]}, {\"categories\": [\"0\", \"1\", \"2\", \"3\", \"4\", \"5\", \"6\", \"7\", \"8\", \"9\", \"10\", \"11\", \"13\", \"14\"], \"mode\": \"lines\", \"name\": \"weighted_accuracy_max\", \"stepped\": true, \"type\": \"scatter\", \"data\": [0.9677134090255197, 0.9677134090255197, 0.9677134090255197, 0.9677134090255197, 0.9677134090255197, 0.9677134090255197, 0.9677134090255197, 0.9677134090255197, 0.9677134090255197, 0.9677134090255197, 0.9677134090255197, 0.9677134090255197, 0.9677134090255197, 0.9677134090255197]}], \"average_precision_score_weighted\": [{\"categories\": [\"0\", \"1\", \"2\", \"3\", \"4\", \"5\", \"6\", \"7\", \"8\", \"9\", \"10\", \"11\", \"13\", \"14\"], \"mode\": \"markers\", \"name\": \"average_precision_score_weighted\", \"stepped\": false, \"type\": \"scatter\", \"data\": [0.9954645634250733, 0.9567885604897034, 0.9902061380443744, 0.9812634029827991, 0.9795223407827456, 0.9634715441530698, 0.9688966364852034, 0.9795699805045588, 0.9738249288562555, 0.9699113916935447, 0.6909933310122878, 0.9744235000207271, 0.9945338056555949, 0.9953548623515387]}, {\"categories\": [\"0\", \"1\", \"2\", \"3\", \"4\", \"5\", \"6\", \"7\", \"8\", \"9\", \"10\", \"11\", \"13\", \"14\"], \"mode\": \"lines\", \"name\": \"average_precision_score_weighted_max\", \"stepped\": true, \"type\": \"scatter\", \"data\": [0.9954645634250733, 0.9954645634250733, 0.9954645634250733, 0.9954645634250733, 0.9954645634250733, 0.9954645634250733, 0.9954645634250733, 0.9954645634250733, 0.9954645634250733, 0.9954645634250733, 0.9954645634250733, 0.9954645634250733, 0.9954645634250733, 0.9954645634250733]}], \"AUC_macro\": [{\"categories\": [\"0\", \"1\", \"2\", \"3\", \"4\", \"5\", \"6\", \"7\", \"8\", \"9\", \"10\", \"11\", \"13\", \"14\"], \"mode\": \"markers\", \"name\": \"AUC_macro\", \"stepped\": false, \"type\": \"scatter\", \"data\": [0.9952637276615505, 0.9544503181644283, 0.9897336574614627, 0.9804132655197906, 0.9792911701012033, 0.9620547101730983, 0.9677982660376327, 0.9793113008402947, 0.9765553687595411, 0.9682561964445273, 0.7063180425607193, 0.9730628023586618, 0.9942721678695877, 0.9951897726373099]}, {\"categories\": [\"0\", \"1\", \"2\", \"3\", \"4\", \"5\", \"6\", \"7\", \"8\", \"9\", \"10\", \"11\", \"13\", \"14\"], \"mode\": \"lines\", \"name\": \"AUC_macro_max\", \"stepped\": true, \"type\": \"scatter\", \"data\": [0.9952637276615505, 0.9952637276615505, 0.9952637276615505, 0.9952637276615505, 0.9952637276615505, 0.9952637276615505, 0.9952637276615505, 0.9952637276615505, 0.9952637276615505, 0.9952637276615505, 0.9952637276615505, 0.9952637276615505, 0.9952637276615505, 0.9952637276615505]}], \"f1_score_weighted\": [{\"categories\": [\"0\", \"1\", \"2\", \"3\", \"4\", \"5\", \"6\", \"7\", \"8\", \"9\", \"10\", \"11\", \"13\", \"14\"], \"mode\": \"markers\", \"name\": \"f1_score_weighted\", \"stepped\": false, \"type\": \"scatter\", \"data\": [0.965091859711651, 0.8880019531908795, 0.9483061532288941, 0.927535420053708, 0.9340012222118987, 0.8923666800315176, 0.8936975176665578, 0.9340010573206421, 0.932321898614892, 0.9060481261652298, 0.6695218234475793, 0.9122709860513771, 0.9636812059178286, 0.9649299357221395]}, {\"categories\": [\"0\", \"1\", \"2\", \"3\", \"4\", \"5\", \"6\", \"7\", \"8\", \"9\", \"10\", \"11\", \"13\", \"14\"], \"mode\": \"lines\", \"name\": \"f1_score_weighted_max\", \"stepped\": true, \"type\": \"scatter\", \"data\": [0.965091859711651, 0.965091859711651, 0.965091859711651, 0.965091859711651, 0.965091859711651, 0.965091859711651, 0.965091859711651, 0.965091859711651, 0.965091859711651, 0.965091859711651, 0.965091859711651, 0.965091859711651, 0.965091859711651, 0.965091859711651]}], \"accuracy\": [{\"categories\": [\"0\", \"1\", \"2\", \"3\", \"4\", \"5\", \"6\", \"7\", \"8\", \"9\", \"10\", \"11\", \"13\", \"14\"], \"mode\": \"markers\", \"name\": \"accuracy\", \"stepped\": false, \"type\": \"scatter\", \"data\": [0.9651697840335848, 0.8882140961386631, 0.9484428097239747, 0.9279431348293785, 0.9340833919560507, 0.8934882783974905, 0.8942389279946298, 0.9340833891771743, 0.9323510300994482, 0.9062404013549988, 0.676479831214741, 0.9128233761322011, 0.9637646404534312, 0.9649869246909158]}, {\"categories\": [\"0\", \"1\", \"2\", \"3\", \"4\", \"5\", \"6\", \"7\", \"8\", \"9\", \"10\", \"11\", \"13\", \"14\"], \"mode\": \"lines\", \"name\": \"accuracy_max\", \"stepped\": true, \"type\": \"scatter\", \"data\": [0.9651697840335848, 0.9651697840335848, 0.9651697840335848, 0.9651697840335848, 0.9651697840335848, 0.9651697840335848, 0.9651697840335848, 0.9651697840335848, 0.9651697840335848, 0.9651697840335848, 0.9651697840335848, 0.9651697840335848, 0.9651697840335848, 0.9651697840335848]}], \"f1_score_macro\": [{\"categories\": [\"0\", \"1\", \"2\", \"3\", \"4\", \"5\", \"6\", \"7\", \"8\", \"9\", \"10\", \"11\", \"13\", \"14\"], \"mode\": \"markers\", \"name\": \"f1_score_macro\", \"stepped\": false, \"type\": \"scatter\", \"data\": [0.9643885326985376, 0.8857834926468382, 0.9472469622780331, 0.9258908631909574, 0.9327277875138652, 0.8896078732501035, 0.8913260303371195, 0.9327275254010685, 0.9310739958874255, 0.9041694099769824, 0.6593993324452395, 0.9102411137856471, 0.9629473965762909, 0.9642413692211591]}, {\"categories\": [\"0\", \"1\", \"2\", \"3\", \"4\", \"5\", \"6\", \"7\", \"8\", \"9\", \"10\", \"11\", \"13\", \"14\"], \"mode\": \"lines\", \"name\": \"f1_score_macro_max\", \"stepped\": true, \"type\": \"scatter\", \"data\": [0.9643885326985376, 0.9643885326985376, 0.9643885326985376, 0.9643885326985376, 0.9643885326985376, 0.9643885326985376, 0.9643885326985376, 0.9643885326985376, 0.9643885326985376, 0.9643885326985376, 0.9643885326985376, 0.9643885326985376, 0.9643885326985376, 0.9643885326985376]}], \"average_precision_score_micro\": [{\"categories\": [\"0\", \"1\", \"2\", \"3\", \"4\", \"5\", \"6\", \"7\", \"8\", \"9\", \"10\", \"11\", \"13\", \"14\"], \"mode\": \"markers\", \"name\": \"average_precision_score_micro\", \"stepped\": false, \"type\": \"scatter\", \"data\": [0.9958585930236342, 0.9584994044207035, 0.9903311529179859, 0.975203726298646, 0.9797140259937146, 0.9611174164534748, 0.968582322248104, 0.9797687595271451, 0.9738857423290884, 0.9707805600394147, 0.6982984888289436, 0.9738074589560964, 0.9949712906369929, 0.995552905205939]}, {\"categories\": [\"0\", \"1\", \"2\", \"3\", \"4\", \"5\", \"6\", \"7\", \"8\", \"9\", \"10\", \"11\", \"13\", \"14\"], \"mode\": \"lines\", \"name\": \"average_precision_score_micro_max\", \"stepped\": true, \"type\": \"scatter\", \"data\": [0.9958585930236342, 0.9958585930236342, 0.9958585930236342, 0.9958585930236342, 0.9958585930236342, 0.9958585930236342, 0.9958585930236342, 0.9958585930236342, 0.9958585930236342, 0.9958585930236342, 0.9958585930236342, 0.9958585930236342, 0.9958585930236342, 0.9958585930236342]}], \"recall_score_micro\": [{\"categories\": [\"0\", \"1\", \"2\", \"3\", \"4\", \"5\", \"6\", \"7\", \"8\", \"9\", \"10\", \"11\", \"13\", \"14\"], \"mode\": \"markers\", \"name\": \"recall_score_micro\", \"stepped\": false, \"type\": \"scatter\", \"data\": [0.9651697840335848, 0.8882140961386631, 0.9484428097239747, 0.9279431348293785, 0.9340833919560507, 0.8934882783974905, 0.8942389279946298, 0.9340833891771743, 0.9323510300994482, 0.9062404013549988, 0.676479831214741, 0.9128233761322011, 0.9637646404534312, 0.9649869246909158]}, {\"categories\": [\"0\", \"1\", \"2\", \"3\", \"4\", \"5\", \"6\", \"7\", \"8\", \"9\", \"10\", \"11\", \"13\", \"14\"], \"mode\": \"lines\", \"name\": \"recall_score_micro_max\", \"stepped\": true, \"type\": \"scatter\", \"data\": [0.9651697840335848, 0.9651697840335848, 0.9651697840335848, 0.9651697840335848, 0.9651697840335848, 0.9651697840335848, 0.9651697840335848, 0.9651697840335848, 0.9651697840335848, 0.9651697840335848, 0.9651697840335848, 0.9651697840335848, 0.9651697840335848, 0.9651697840335848]}], \"recall_score_macro\": [{\"categories\": [\"0\", \"1\", \"2\", \"3\", \"4\", \"5\", \"6\", \"7\", \"8\", \"9\", \"10\", \"11\", \"13\", \"14\"], \"mode\": \"markers\", \"name\": \"recall_score_macro\", \"stepped\": false, \"type\": \"scatter\", \"data\": [0.9625340288777234, 0.8845371356682996, 0.9451746823706735, 0.9221511606407716, 0.9317232873693297, 0.8842166780573587, 0.8882080240932455, 0.9317207771532144, 0.930756816302517, 0.9026935399514668, 0.6590688856478151, 0.9063291488139977, 0.9610503370040613, 0.9628537917776313]}, {\"categories\": [\"0\", \"1\", \"2\", \"3\", \"4\", \"5\", \"6\", \"7\", \"8\", \"9\", \"10\", \"11\", \"13\", \"14\"], \"mode\": \"lines\", \"name\": \"recall_score_macro_max\", \"stepped\": true, \"type\": \"scatter\", \"data\": [0.9625340288777234, 0.9625340288777234, 0.9625340288777234, 0.9625340288777234, 0.9625340288777234, 0.9625340288777234, 0.9625340288777234, 0.9625340288777234, 0.9625340288777234, 0.9625340288777234, 0.9625340288777234, 0.9625340288777234, 0.9625340288777234, 0.9628537917776313]}], \"precision_score_macro\": [{\"categories\": [\"0\", \"1\", \"2\", \"3\", \"4\", \"5\", \"6\", \"7\", \"8\", \"9\", \"10\", \"11\", \"13\", \"14\"], \"mode\": \"markers\", \"name\": \"precision_score_macro\", \"stepped\": false, \"type\": \"scatter\", \"data\": [0.9666931914251494, 0.8874167667960595, 0.9499204223222769, 0.9318325656964044, 0.9338788369638504, 0.9007686213186872, 0.8962349171661275, 0.9338816135275932, 0.9315824114669888, 0.9060086732502768, 0.6709304656024255, 0.9167598721632917, 0.9653187705778852, 0.9658818340885501]}, {\"categories\": [\"0\", \"1\", \"2\", \"3\", \"4\", \"5\", \"6\", \"7\", \"8\", \"9\", \"10\", \"11\", \"13\", \"14\"], \"mode\": \"lines\", \"name\": \"precision_score_macro_max\", \"stepped\": true, \"type\": \"scatter\", \"data\": [0.9666931914251494, 0.9666931914251494, 0.9666931914251494, 0.9666931914251494, 0.9666931914251494, 0.9666931914251494, 0.9666931914251494, 0.9666931914251494, 0.9666931914251494, 0.9666931914251494, 0.9666931914251494, 0.9666931914251494, 0.9666931914251494, 0.9666931914251494]}], \"AUC_micro\": [{\"categories\": [\"0\", \"1\", \"2\", \"3\", \"4\", \"5\", \"6\", \"7\", \"8\", \"9\", \"10\", \"11\", \"13\", \"14\"], \"mode\": \"markers\", \"name\": \"AUC_micro\", \"stepped\": false, \"type\": \"scatter\", \"data\": [0.995747778308728, 0.9574547578219166, 0.990104052539003, 0.9755472410654278, 0.980222783462643, 0.960576533607143, 0.9677238155733106, 0.9802448636392136, 0.9772413149532684, 0.9697801746761847, 0.7235173811337464, 0.9729532465201091, 0.9948408613585864, 0.9955132718754477]}, {\"categories\": [\"0\", \"1\", \"2\", \"3\", \"4\", \"5\", \"6\", \"7\", \"8\", \"9\", \"10\", \"11\", \"13\", \"14\"], \"mode\": \"lines\", \"name\": \"AUC_micro_max\", \"stepped\": true, \"type\": \"scatter\", \"data\": [0.995747778308728, 0.995747778308728, 0.995747778308728, 0.995747778308728, 0.995747778308728, 0.995747778308728, 0.995747778308728, 0.995747778308728, 0.995747778308728, 0.995747778308728, 0.995747778308728, 0.995747778308728, 0.995747778308728, 0.995747778308728]}], \"log_loss\": [{\"categories\": [\"0\", \"1\", \"2\", \"3\", \"4\", \"5\", \"6\", \"7\", \"8\", \"9\", \"10\", \"11\", \"13\", \"14\"], \"mode\": \"markers\", \"name\": \"log_loss\", \"stepped\": false, \"type\": \"scatter\", \"data\": [0.0867767824501024, 0.39625331391912155, 0.17836791902692073, 0.41814139946106366, 0.17825322353085557, 0.35478996301598126, 0.3081919757150686, 0.1781630486211312, 0.3886069701336242, 0.3127615219496813, 0.6208094610303778, 0.2794561054183887, 0.10244266149114205, 0.09618791653931535]}, {\"categories\": [\"0\", \"1\", \"2\", \"3\", \"4\", \"5\", \"6\", \"7\", \"8\", \"9\", \"10\", \"11\", \"13\", \"14\"], \"mode\": \"lines\", \"name\": \"log_loss_min\", \"stepped\": true, \"type\": \"scatter\", \"data\": [0.0867767824501024, 0.0867767824501024, 0.0867767824501024, 0.0867767824501024, 0.0867767824501024, 0.0867767824501024, 0.0867767824501024, 0.0867767824501024, 0.0867767824501024, 0.0867767824501024, 0.0867767824501024, 0.0867767824501024, 0.0867767824501024, 0.0867767824501024]}], \"average_precision_score_macro\": [{\"categories\": [\"0\", \"1\", \"2\", \"3\", \"4\", \"5\", \"6\", \"7\", \"8\", \"9\", \"10\", \"11\", \"13\", \"14\"], \"mode\": \"markers\", \"name\": \"average_precision_score_macro\", \"stepped\": false, \"type\": \"scatter\", \"data\": [0.9953384970834318, 0.9561123566039396, 0.9899603340357036, 0.9808050365226733, 0.979064373223621, 0.9627656586619799, 0.9680200763941876, 0.9791212718531334, 0.9734320135462721, 0.9692261463884837, 0.6862797460280993, 0.973812743772059, 0.9943964581969759, 0.9952287087010065]}, {\"categories\": [\"0\", \"1\", \"2\", \"3\", \"4\", \"5\", \"6\", \"7\", \"8\", \"9\", \"10\", \"11\", \"13\", \"14\"], \"mode\": \"lines\", \"name\": \"average_precision_score_macro_max\", \"stepped\": true, \"type\": \"scatter\", \"data\": [0.9953384970834318, 0.9953384970834318, 0.9953384970834318, 0.9953384970834318, 0.9953384970834318, 0.9953384970834318, 0.9953384970834318, 0.9953384970834318, 0.9953384970834318, 0.9953384970834318, 0.9953384970834318, 0.9953384970834318, 0.9953384970834318, 0.9953384970834318]}], \"matthews_correlation\": [{\"categories\": [\"0\", \"1\", \"2\", \"3\", \"4\", \"5\", \"6\", \"7\", \"8\", \"9\", \"10\", \"11\", \"13\", \"14\"], \"mode\": \"markers\", \"name\": \"matthews_correlation\", \"stepped\": false, \"type\": \"scatter\", \"data\": [0.9292178868545509, 0.7719463661576818, 0.8950824603595118, 0.8539285681500728, 0.8655994282091349, 0.7848105676624679, 0.7844013615519295, 0.8655996791199664, 0.8623361748156398, 0.8086952794450804, 0.3297342671628001, 0.8230223741095196, 0.9263592170927062, 0.9287306357721995]}, {\"categories\": [\"0\", \"1\", \"2\", \"3\", \"4\", \"5\", \"6\", \"7\", \"8\", \"9\", \"10\", \"11\", \"13\", \"14\"], \"mode\": \"lines\", \"name\": \"matthews_correlation_max\", \"stepped\": true, \"type\": \"scatter\", \"data\": [0.9292178868545509, 0.9292178868545509, 0.9292178868545509, 0.9292178868545509, 0.9292178868545509, 0.9292178868545509, 0.9292178868545509, 0.9292178868545509, 0.9292178868545509, 0.9292178868545509, 0.9292178868545509, 0.9292178868545509, 0.9292178868545509, 0.9292178868545509]}], \"f1_score_micro\": [{\"categories\": [\"0\", \"1\", \"2\", \"3\", \"4\", \"5\", \"6\", \"7\", \"8\", \"9\", \"10\", \"11\", \"13\", \"14\"], \"mode\": \"markers\", \"name\": \"f1_score_micro\", \"stepped\": false, \"type\": \"scatter\", \"data\": [0.9651697840335848, 0.8882140961386631, 0.9484428097239747, 0.9279431348293785, 0.9340833919560507, 0.8934882783974905, 0.8942389279946296, 0.9340833891771743, 0.9323510300994482, 0.9062404013549987, 0.676479831214741, 0.9128233761322011, 0.9637646404534312, 0.9649869246909158]}, {\"categories\": [\"0\", \"1\", \"2\", \"3\", \"4\", \"5\", \"6\", \"7\", \"8\", \"9\", \"10\", \"11\", \"13\", \"14\"], \"mode\": \"lines\", \"name\": \"f1_score_micro_max\", \"stepped\": true, \"type\": \"scatter\", \"data\": [0.9651697840335848, 0.9651697840335848, 0.9651697840335848, 0.9651697840335848, 0.9651697840335848, 0.9651697840335848, 0.9651697840335848, 0.9651697840335848, 0.9651697840335848, 0.9651697840335848, 0.9651697840335848, 0.9651697840335848, 0.9651697840335848, 0.9651697840335848]}], \"precision_score_weighted\": [{\"categories\": [\"0\", \"1\", \"2\", \"3\", \"4\", \"5\", \"6\", \"7\", \"8\", \"9\", \"10\", \"11\", \"13\", \"14\"], \"mode\": \"markers\", \"name\": \"precision_score_weighted\", \"stepped\": false, \"type\": \"scatter\", \"data\": [0.9654469861978887, 0.8881625718389758, 0.9487476677958657, 0.9292379434342826, 0.9340603458686205, 0.8967509728725354, 0.8948751239123244, 0.9340607808302845, 0.9324776024533818, 0.9062059854370323, 0.6732718517220171, 0.914215562149646, 0.9640540003926681, 0.965116461617121]}, {\"categories\": [\"0\", \"1\", \"2\", \"3\", \"4\", \"5\", \"6\", \"7\", \"8\", \"9\", \"10\", \"11\", \"13\", \"14\"], \"mode\": \"lines\", \"name\": \"precision_score_weighted_max\", \"stepped\": true, \"type\": \"scatter\", \"data\": [0.9654469861978887, 0.9654469861978887, 0.9654469861978887, 0.9654469861978887, 0.9654469861978887, 0.9654469861978887, 0.9654469861978887, 0.9654469861978887, 0.9654469861978887, 0.9654469861978887, 0.9654469861978887, 0.9654469861978887, 0.9654469861978887, 0.9654469861978887]}]}, \"metricName\": null, \"primaryMetricName\": \"accuracy\", \"showLegend\": false}, \"run_metrics\": [{\"name\": \"experiment_status\", \"run_id\": \"AutoML_15d6cd88-71b1-4b36-b937-2f80dabb78bc\", \"categories\": [0, 1, 2, 3, 4, 5, 6, 7, 8, 9, 10, 11], \"series\": [{\"data\": [\"DatasetEvaluation\", \"FeaturesGeneration\", \"DatasetFeaturization\", \"DatasetFeaturizationCompleted\", \"DatasetCrossValidationSplit\", \"ModelSelection\", \"BestRunExplainModel\", \"ModelExplanationDataSetSetup\", \"PickSurrogateModel\", \"EngineeredFeatureExplanations\", \"EngineeredFeatureExplanations\", \"RawFeaturesExplanations\"]}]}, {\"name\": \"experiment_status_description\", \"run_id\": \"AutoML_15d6cd88-71b1-4b36-b937-2f80dabb78bc\", \"categories\": [0, 1, 2, 3, 4, 5, 6, 7, 8, 9, 10, 11], \"series\": [{\"data\": [\"Gathering dataset statistics.\", \"Generating features for the dataset.\", \"Beginning to fit featurizers and featurize the dataset.\", \"Completed fit featurizers and featurizing the dataset.\", \"Generating individually featurized CV splits.\", \"Beginning model selection.\", \"Best run model explanations started\", \"Model explanations data setup completed\", \"Choosing LightGBM as the surrogate model for explanations\", \"Computation of engineered features started\", \"Computation of engineered features completed\", \"Computation of raw features started\"]}]}, {\"name\": \"precision_score_weighted\", \"run_id\": \"AutoML_15d6cd88-71b1-4b36-b937-2f80dabb78bc\", \"categories\": [0], \"series\": [{\"data\": [0.965116461617121]}]}, {\"name\": \"average_precision_score_micro\", \"run_id\": \"AutoML_15d6cd88-71b1-4b36-b937-2f80dabb78bc\", \"categories\": [0], \"series\": [{\"data\": [0.995552905205939]}]}, {\"name\": \"average_precision_score_macro\", \"run_id\": \"AutoML_15d6cd88-71b1-4b36-b937-2f80dabb78bc\", \"categories\": [0], \"series\": [{\"data\": [0.9952287087010065]}]}, {\"name\": \"matthews_correlation\", \"run_id\": \"AutoML_15d6cd88-71b1-4b36-b937-2f80dabb78bc\", \"categories\": [0], \"series\": [{\"data\": [0.9287306357721995]}]}, {\"name\": \"AUC_weighted\", \"run_id\": \"AutoML_15d6cd88-71b1-4b36-b937-2f80dabb78bc\", \"categories\": [0], \"series\": [{\"data\": [0.9951897726373099]}]}, {\"name\": \"weighted_accuracy\", \"run_id\": \"AutoML_15d6cd88-71b1-4b36-b937-2f80dabb78bc\", \"categories\": [0], \"series\": [{\"data\": [0.9670455233750477]}]}, {\"name\": \"f1_score_weighted\", \"run_id\": \"AutoML_15d6cd88-71b1-4b36-b937-2f80dabb78bc\", \"categories\": [0], \"series\": [{\"data\": [0.9649299357221395]}]}, {\"name\": \"log_loss\", \"run_id\": \"AutoML_15d6cd88-71b1-4b36-b937-2f80dabb78bc\", \"categories\": [0], \"series\": [{\"data\": [0.09618791653931535]}]}, {\"name\": \"recall_score_micro\", \"run_id\": \"AutoML_15d6cd88-71b1-4b36-b937-2f80dabb78bc\", \"categories\": [0], \"series\": [{\"data\": [0.9649869246909158]}]}, {\"name\": \"accuracy\", \"run_id\": \"AutoML_15d6cd88-71b1-4b36-b937-2f80dabb78bc\", \"categories\": [0], \"series\": [{\"data\": [0.9649869246909158]}]}, {\"name\": \"recall_score_weighted\", \"run_id\": \"AutoML_15d6cd88-71b1-4b36-b937-2f80dabb78bc\", \"categories\": [0], \"series\": [{\"data\": [0.9649869246909158]}]}, {\"name\": \"norm_macro_recall\", \"run_id\": \"AutoML_15d6cd88-71b1-4b36-b937-2f80dabb78bc\", \"categories\": [0], \"series\": [{\"data\": [0.9257075835552625]}]}, {\"name\": \"precision_score_micro\", \"run_id\": \"AutoML_15d6cd88-71b1-4b36-b937-2f80dabb78bc\", \"categories\": [0], \"series\": [{\"data\": [0.9649869246909158]}]}, {\"name\": \"AUC_macro\", \"run_id\": \"AutoML_15d6cd88-71b1-4b36-b937-2f80dabb78bc\", \"categories\": [0], \"series\": [{\"data\": [0.9951897726373099]}]}, {\"name\": \"recall_score_macro\", \"run_id\": \"AutoML_15d6cd88-71b1-4b36-b937-2f80dabb78bc\", \"categories\": [0], \"series\": [{\"data\": [0.9628537917776313]}]}, {\"name\": \"f1_score_macro\", \"run_id\": \"AutoML_15d6cd88-71b1-4b36-b937-2f80dabb78bc\", \"categories\": [0], \"series\": [{\"data\": [0.9642413692211591]}]}, {\"name\": \"average_precision_score_weighted\", \"run_id\": \"AutoML_15d6cd88-71b1-4b36-b937-2f80dabb78bc\", \"categories\": [0], \"series\": [{\"data\": [0.9953548623515387]}]}, {\"name\": \"f1_score_micro\", \"run_id\": \"AutoML_15d6cd88-71b1-4b36-b937-2f80dabb78bc\", \"categories\": [0], \"series\": [{\"data\": [0.9649869246909158]}]}, {\"name\": \"balanced_accuracy\", \"run_id\": \"AutoML_15d6cd88-71b1-4b36-b937-2f80dabb78bc\", \"categories\": [0], \"series\": [{\"data\": [0.9628537917776313]}]}, {\"name\": \"AUC_micro\", \"run_id\": \"AutoML_15d6cd88-71b1-4b36-b937-2f80dabb78bc\", \"categories\": [0], \"series\": [{\"data\": [0.9955132718754477]}]}, {\"name\": \"precision_score_macro\", \"run_id\": \"AutoML_15d6cd88-71b1-4b36-b937-2f80dabb78bc\", \"categories\": [0], \"series\": [{\"data\": [0.9658818340885501]}]}], \"run_logs\": \"\\nRun is completed.\", \"graph\": {}, \"widget_settings\": {\"childWidgetDisplay\": \"popup\", \"send_telemetry\": false, \"log_level\": \"INFO\", \"sdk_version\": \"1.36.0\"}, \"loading\": false}"
     },
     "metadata": {},
     "output_type": "display_data"
    }
   ],
   "source": [
    "warnings.filterwarnings(\"ignore\")\n",
    "from azureml.widgets import RunDetails\n",
    "RunDetails(local_run).show()"
   ]
  },
  {
   "cell_type": "code",
   "execution_count": 21,
   "metadata": {},
   "outputs": [
    {
     "name": "stdout",
     "output_type": "stream",
     "text": [
      "Collecting azureml-train-automl-runtime==1.36.1\n",
      "  Using cached azureml_train_automl_runtime-1.36.1-py3-none-any.whl (274 kB)\n",
      "Requirement already satisfied: onnxmltools==1.4.1 in c:\\users\\mars_\\appdata\\roaming\\python\\python37\\site-packages (from azureml-train-automl-runtime==1.36.1) (1.4.1)\n",
      "Requirement already satisfied: pandas<1.0.0,>=0.21.0 in c:\\users\\mars_\\appdata\\roaming\\python\\python37\\site-packages (from azureml-train-automl-runtime==1.36.1) (0.25.3)\n",
      "Requirement already satisfied: statsmodels<=0.10.2,>=0.9.0 in c:\\users\\mars_\\appdata\\roaming\\python\\python37\\site-packages (from azureml-train-automl-runtime==1.36.1) (0.10.2)\n",
      "Requirement already satisfied: skl2onnx==1.4.9 in c:\\users\\mars_\\appdata\\roaming\\python\\python37\\site-packages (from azureml-train-automl-runtime==1.36.1) (1.4.9)\n",
      "Requirement already satisfied: onnxconverter-common<=1.6.0,>=1.4.2 in c:\\users\\mars_\\appdata\\roaming\\python\\python37\\site-packages (from azureml-train-automl-runtime==1.36.1) (1.6.0)\n",
      "Requirement already satisfied: gensim<3.9.0 in c:\\users\\mars_\\appdata\\roaming\\python\\python37\\site-packages (from azureml-train-automl-runtime==1.36.1) (3.8.3)\n",
      "Requirement already satisfied: onnxruntime<=1.8.0,>=1.3.0 in c:\\users\\mars_\\appdata\\roaming\\python\\python37\\site-packages (from azureml-train-automl-runtime==1.36.1) (1.8.0)\n",
      "Requirement already satisfied: distributed<=2.30.1 in c:\\users\\mars_\\appdata\\roaming\\python\\python37\\site-packages (from azureml-train-automl-runtime==1.36.1) (2.30.1)\n",
      "Requirement already satisfied: azureml-dataset-runtime[fuse,pandas]~=1.36.0 in c:\\users\\mars_\\appdata\\roaming\\python\\python37\\site-packages (from azureml-train-automl-runtime==1.36.1) (1.36.0)\n",
      "Collecting azureml-automl-core~=1.36.1\n",
      "  Using cached azureml_automl_core-1.36.1-py3-none-any.whl (221 kB)\n",
      "Requirement already satisfied: numpy<1.19.0,>=1.16.0 in c:\\users\\mars_\\appdata\\roaming\\python\\python37\\site-packages (from azureml-train-automl-runtime==1.36.1) (1.18.5)\n",
      "Requirement already satisfied: keras2onnx<=1.6.0,>=1.4.0 in c:\\users\\mars_\\appdata\\roaming\\python\\python37\\site-packages (from azureml-train-automl-runtime==1.36.1) (1.6.0)\n",
      "Collecting scikit-learn<0.23.0,>=0.19.0\n",
      "  Using cached scikit_learn-0.22.2.post1-cp37-cp37m-win_amd64.whl (6.5 MB)\n",
      "Requirement already satisfied: sklearn-pandas<=1.7.0,>=1.4.0 in c:\\users\\mars_\\appdata\\roaming\\python\\python37\\site-packages (from azureml-train-automl-runtime==1.36.1) (1.7.0)\n",
      "Requirement already satisfied: azureml-mlflow~=1.36.0 in c:\\users\\mars_\\appdata\\roaming\\python\\python37\\site-packages (from azureml-train-automl-runtime==1.36.1) (1.36.0)\n",
      "Requirement already satisfied: azureml-core~=1.36.0 in c:\\users\\mars_\\anaconda3\\lib\\site-packages (from azureml-train-automl-runtime==1.36.1) (1.36.0.post2)\n",
      "Requirement already satisfied: boto3<=1.15.18 in c:\\users\\mars_\\appdata\\roaming\\python\\python37\\site-packages (from azureml-train-automl-runtime==1.36.1) (1.15.18)\n",
      "Requirement already satisfied: smart-open<=1.9.0 in c:\\users\\mars_\\appdata\\roaming\\python\\python37\\site-packages (from azureml-train-automl-runtime==1.36.1) (1.9.0)\n",
      "Requirement already satisfied: azureml-defaults~=1.36.0 in c:\\users\\mars_\\appdata\\roaming\\python\\python37\\site-packages (from azureml-train-automl-runtime==1.36.1) (1.36.0)\n",
      "Requirement already satisfied: azureml-telemetry~=1.36.0 in c:\\users\\mars_\\appdata\\roaming\\python\\python37\\site-packages (from azureml-train-automl-runtime==1.36.1) (1.36.0)\n",
      "Requirement already satisfied: azure-storage-queue~=12.1 in c:\\users\\mars_\\appdata\\roaming\\python\\python37\\site-packages (from azureml-train-automl-runtime==1.36.1) (12.1.6)\n",
      "Requirement already satisfied: onnx<=1.7.0,>=1.6.0 in c:\\users\\mars_\\appdata\\roaming\\python\\python37\\site-packages (from azureml-train-automl-runtime==1.36.1) (1.7.0)\n",
      "Requirement already satisfied: jinja2<=2.11.2 in c:\\users\\mars_\\appdata\\roaming\\python\\python37\\site-packages (from azureml-train-automl-runtime==1.36.1) (2.11.2)\n",
      "Requirement already satisfied: dask[complete]<=2.30.0 in c:\\users\\mars_\\appdata\\roaming\\python\\python37\\site-packages (from azureml-train-automl-runtime==1.36.1) (2.30.0)\n",
      "Requirement already satisfied: azureml-train-automl-client~=1.36.0 in c:\\users\\mars_\\appdata\\roaming\\python\\python37\\site-packages (from azureml-train-automl-runtime==1.36.1) (1.36.0)\n",
      "Requirement already satisfied: lightgbm<=2.3.0,>=2.0.11 in c:\\users\\mars_\\appdata\\roaming\\python\\python37\\site-packages (from azureml-train-automl-runtime==1.36.1) (2.3.0)\n",
      "Requirement already satisfied: scipy<=1.5.2,>=1.0.0 in c:\\users\\mars_\\appdata\\roaming\\python\\python37\\site-packages (from azureml-train-automl-runtime==1.36.1) (1.5.2)\n",
      "Requirement already satisfied: azureml-interpret~=1.36.0 in c:\\users\\mars_\\anaconda3\\lib\\site-packages (from azureml-train-automl-runtime==1.36.1) (1.36.0)\n",
      "Collecting azureml-automl-runtime~=1.36.1\n",
      "  Using cached azureml_automl_runtime-1.36.1-py3-none-any.whl (2.1 MB)\n",
      "Requirement already satisfied: botocore<=1.18.18 in c:\\users\\mars_\\appdata\\roaming\\python\\python37\\site-packages (from azureml-train-automl-runtime==1.36.1) (1.18.18)\n",
      "Requirement already satisfied: protobuf in c:\\users\\mars_\\anaconda3\\lib\\site-packages (from onnxmltools==1.4.1->azureml-train-automl-runtime==1.36.1) (3.17.2)\n",
      "Requirement already satisfied: six in c:\\users\\mars_\\anaconda3\\lib\\site-packages (from onnxmltools==1.4.1->azureml-train-automl-runtime==1.36.1) (1.16.0)\n",
      "Requirement already satisfied: msrest>=0.6.18 in c:\\users\\mars_\\anaconda3\\lib\\site-packages (from azure-storage-queue~=12.1->azureml-train-automl-runtime==1.36.1) (0.6.21)\n",
      "Requirement already satisfied: azure-core<2.0.0,>=1.10.0 in c:\\users\\mars_\\anaconda3\\lib\\site-packages (from azure-storage-queue~=12.1->azureml-train-automl-runtime==1.36.1) (1.19.0)\n",
      "Requirement already satisfied: cryptography>=2.1.4 in c:\\users\\mars_\\anaconda3\\lib\\site-packages (from azure-storage-queue~=12.1->azureml-train-automl-runtime==1.36.1) (3.4.8)\n",
      "Requirement already satisfied: requests>=2.18.4 in c:\\users\\mars_\\anaconda3\\lib\\site-packages (from azure-core<2.0.0,>=1.10.0->azure-storage-queue~=12.1->azureml-train-automl-runtime==1.36.1) (2.26.0)\n",
      "Requirement already satisfied: nimbusml<=1.8.0,>=1.7.1 in c:\\users\\mars_\\appdata\\roaming\\python\\python37\\site-packages (from azureml-automl-runtime~=1.36.1->azureml-train-automl-runtime==1.36.1) (1.8.0)\n",
      "Requirement already satisfied: psutil<6.0.0,>=5.2.2 in c:\\users\\mars_\\anaconda3\\lib\\site-packages (from azureml-automl-runtime~=1.36.1->azureml-train-automl-runtime==1.36.1) (5.8.0)\n",
      "Requirement already satisfied: pmdarima==1.1.1 in c:\\users\\mars_\\appdata\\roaming\\python\\python37\\site-packages (from azureml-automl-runtime~=1.36.1->azureml-train-automl-runtime==1.36.1) (1.1.1)\n",
      "Requirement already satisfied: joblib==0.14.1 in c:\\users\\mars_\\appdata\\roaming\\python\\python37\\site-packages (from azureml-automl-runtime~=1.36.1->azureml-train-automl-runtime==1.36.1) (0.14.1)\n",
      "Requirement already satisfied: dataclasses<=0.8,>=0.6 in c:\\users\\mars_\\appdata\\roaming\\python\\python37\\site-packages (from azureml-automl-runtime~=1.36.1->azureml-train-automl-runtime==1.36.1) (0.6)\n",
      "Requirement already satisfied: dill<0.4.0,>=0.2.8 in c:\\users\\mars_\\anaconda3\\lib\\site-packages (from azureml-automl-runtime~=1.36.1->azureml-train-automl-runtime==1.36.1) (0.3.4)\n",
      "Requirement already satisfied: Cython>=0.29 in c:\\users\\mars_\\appdata\\roaming\\python\\python37\\site-packages (from pmdarima==1.1.1->azureml-automl-runtime~=1.36.1->azureml-train-automl-runtime==1.36.1) (0.29.14)\n",
      "Requirement already satisfied: azure-mgmt-containerregistry>=2.0.0 in c:\\users\\mars_\\anaconda3\\lib\\site-packages (from azureml-core~=1.36.0->azureml-train-automl-runtime==1.36.1) (8.2.0)\n",
      "Requirement already satisfied: pytz in c:\\users\\mars_\\anaconda3\\lib\\site-packages (from azureml-core~=1.36.0->azureml-train-automl-runtime==1.36.1) (2021.3)\n",
      "Requirement already satisfied: python-dateutil<3.0.0,>=2.7.3 in c:\\users\\mars_\\anaconda3\\lib\\site-packages (from azureml-core~=1.36.0->azureml-train-automl-runtime==1.36.1) (2.8.2)\n",
      "Requirement already satisfied: azure-common<2.0.0,>=1.1.12 in c:\\users\\mars_\\anaconda3\\lib\\site-packages (from azureml-core~=1.36.0->azureml-train-automl-runtime==1.36.1) (1.1.27)\n",
      "Requirement already satisfied: jmespath<1.0.0 in c:\\users\\mars_\\anaconda3\\lib\\site-packages (from azureml-core~=1.36.0->azureml-train-automl-runtime==1.36.1) (0.10.0)\n",
      "Requirement already satisfied: azure-graphrbac<1.0.0,>=0.40.0 in c:\\users\\mars_\\anaconda3\\lib\\site-packages (from azureml-core~=1.36.0->azureml-train-automl-runtime==1.36.1) (0.61.1)\n",
      "Requirement already satisfied: docker<6.0.0 in c:\\users\\mars_\\anaconda3\\lib\\site-packages (from azureml-core~=1.36.0->azureml-train-automl-runtime==1.36.1) (5.0.3)\n",
      "Requirement already satisfied: azure-mgmt-storage<16.0.0,>=1.5.0 in c:\\users\\mars_\\anaconda3\\lib\\site-packages (from azureml-core~=1.36.0->azureml-train-automl-runtime==1.36.1) (11.2.0)\n",
      "Requirement already satisfied: ndg-httpsclient<=0.5.1 in c:\\users\\mars_\\anaconda3\\lib\\site-packages (from azureml-core~=1.36.0->azureml-train-automl-runtime==1.36.1) (0.5.1)\n",
      "Requirement already satisfied: pathspec<1.0.0 in c:\\users\\mars_\\anaconda3\\lib\\site-packages (from azureml-core~=1.36.0->azureml-train-automl-runtime==1.36.1) (0.9.0)\n",
      "Requirement already satisfied: azure-mgmt-authorization<1.0.0,>=0.40.0 in c:\\users\\mars_\\anaconda3\\lib\\site-packages (from azureml-core~=1.36.0->azureml-train-automl-runtime==1.36.1) (0.61.0)\n",
      "Requirement already satisfied: jsonpickle<3.0.0 in c:\\users\\mars_\\anaconda3\\lib\\site-packages (from azureml-core~=1.36.0->azureml-train-automl-runtime==1.36.1) (2.0.0)\n",
      "Requirement already satisfied: backports.tempfile in c:\\users\\mars_\\anaconda3\\lib\\site-packages (from azureml-core~=1.36.0->azureml-train-automl-runtime==1.36.1) (1.0)\n",
      "Requirement already satisfied: msrestazure<=0.6.4,>=0.4.33 in c:\\users\\mars_\\anaconda3\\lib\\site-packages (from azureml-core~=1.36.0->azureml-train-automl-runtime==1.36.1) (0.6.4)\n",
      "Requirement already satisfied: contextlib2<22.0.0 in c:\\users\\mars_\\anaconda3\\lib\\site-packages (from azureml-core~=1.36.0->azureml-train-automl-runtime==1.36.1) (21.6.0)\n",
      "Requirement already satisfied: azure-mgmt-keyvault<10.0.0,>=0.40.0 in c:\\users\\mars_\\anaconda3\\lib\\site-packages (from azureml-core~=1.36.0->azureml-train-automl-runtime==1.36.1) (9.2.0)\n",
      "Requirement already satisfied: pyopenssl<21.0.0 in c:\\users\\mars_\\appdata\\roaming\\python\\python37\\site-packages (from azureml-core~=1.36.0->azureml-train-automl-runtime==1.36.1) (20.0.1)\n",
      "Requirement already satisfied: PyJWT<3.0.0 in c:\\users\\mars_\\anaconda3\\lib\\site-packages (from azureml-core~=1.36.0->azureml-train-automl-runtime==1.36.1) (2.1.0)\n",
      "Requirement already satisfied: azure-mgmt-resource<15.0.0,>=1.2.1 in c:\\users\\mars_\\anaconda3\\lib\\site-packages (from azureml-core~=1.36.0->azureml-train-automl-runtime==1.36.1) (13.0.0)\n",
      "Requirement already satisfied: adal<=1.2.7,>=1.2.0 in c:\\users\\mars_\\anaconda3\\lib\\site-packages (from azureml-core~=1.36.0->azureml-train-automl-runtime==1.36.1) (1.2.7)\n",
      "Requirement already satisfied: SecretStorage<4.0.0 in c:\\users\\mars_\\anaconda3\\lib\\site-packages (from azureml-core~=1.36.0->azureml-train-automl-runtime==1.36.1) (3.3.1)\n",
      "Requirement already satisfied: urllib3<=1.26.7,>=1.23 in c:\\users\\mars_\\anaconda3\\lib\\site-packages (from azureml-core~=1.36.0->azureml-train-automl-runtime==1.36.1) (1.25.11)\n",
      "Requirement already satisfied: azure-mgmt-core<2.0.0,>=1.2.0 in c:\\users\\mars_\\anaconda3\\lib\\site-packages (from azure-mgmt-containerregistry>=2.0.0->azureml-core~=1.36.0->azureml-train-automl-runtime==1.36.1) (1.3.0)\n",
      "Requirement already satisfied: azureml-dataprep<2.25.0a,>=2.24.0a in c:\\users\\mars_\\appdata\\roaming\\python\\python37\\site-packages (from azureml-dataset-runtime[fuse,pandas]~=1.36.0->azureml-train-automl-runtime==1.36.1) (2.24.3)\n",
      "Collecting pyarrow<4.0.0,>=0.17.0\n",
      "  Using cached pyarrow-3.0.0-cp37-cp37m-win_amd64.whl (12.6 MB)\n",
      "Requirement already satisfied: dotnetcore2<3.0.0,>=2.1.14 in c:\\users\\mars_\\anaconda3\\lib\\site-packages (from azureml-dataprep<2.25.0a,>=2.24.0a->azureml-dataset-runtime[fuse,pandas]~=1.36.0->azureml-train-automl-runtime==1.36.1) (2.1.21)\n",
      "Collecting cloudpickle<2.0.0,>=1.1.0\n",
      "  Using cached cloudpickle-1.6.0-py3-none-any.whl (23 kB)\n",
      "Requirement already satisfied: azureml-dataprep-rslex~=2.0.0dev0 in c:\\users\\mars_\\appdata\\roaming\\python\\python37\\site-packages (from azureml-dataprep<2.25.0a,>=2.24.0a->azureml-dataset-runtime[fuse,pandas]~=1.36.0->azureml-train-automl-runtime==1.36.1) (2.0.3)\n",
      "Requirement already satisfied: azure-identity==1.7.0 in c:\\users\\mars_\\appdata\\roaming\\python\\python37\\site-packages (from azureml-dataprep<2.25.0a,>=2.24.0a->azureml-dataset-runtime[fuse,pandas]~=1.36.0->azureml-train-automl-runtime==1.36.1) (1.7.0)\n",
      "Requirement already satisfied: azureml-dataprep-native<39.0.0,>=38.0.0 in c:\\users\\mars_\\anaconda3\\lib\\site-packages (from azureml-dataprep<2.25.0a,>=2.24.0a->azureml-dataset-runtime[fuse,pandas]~=1.36.0->azureml-train-automl-runtime==1.36.1) (38.0.0)\n",
      "Requirement already satisfied: msal-extensions~=0.3.0 in c:\\users\\mars_\\anaconda3\\lib\\site-packages (from azure-identity==1.7.0->azureml-dataprep<2.25.0a,>=2.24.0a->azureml-dataset-runtime[fuse,pandas]~=1.36.0->azureml-train-automl-runtime==1.36.1) (0.3.0)\n",
      "Requirement already satisfied: msal<2.0.0,>=1.12.0 in c:\\users\\mars_\\anaconda3\\lib\\site-packages (from azure-identity==1.7.0->azureml-dataprep<2.25.0a,>=2.24.0a->azureml-dataset-runtime[fuse,pandas]~=1.36.0->azureml-train-automl-runtime==1.36.1) (1.15.0)\n",
      "Requirement already satisfied: fusepy<4.0.0,>=3.0.1 in c:\\users\\mars_\\appdata\\roaming\\python\\python37\\site-packages (from azureml-dataset-runtime[fuse,pandas]~=1.36.0->azureml-train-automl-runtime==1.36.1) (3.0.1)\n",
      "Requirement already satisfied: json-logging-py==0.2 in c:\\users\\mars_\\appdata\\roaming\\python\\python37\\site-packages (from azureml-defaults~=1.36.0->azureml-train-automl-runtime==1.36.1) (0.2)\n",
      "Requirement already satisfied: configparser==3.7.4 in c:\\users\\mars_\\appdata\\roaming\\python\\python37\\site-packages (from azureml-defaults~=1.36.0->azureml-train-automl-runtime==1.36.1) (3.7.4)\n",
      "Requirement already satisfied: azureml-inference-server-http~=0.4.1 in c:\\users\\mars_\\appdata\\roaming\\python\\python37\\site-packages (from azureml-defaults~=1.36.0->azureml-train-automl-runtime==1.36.1) (0.4.2)\n",
      "Requirement already satisfied: flask==1.0.3 in c:\\users\\mars_\\appdata\\roaming\\python\\python37\\site-packages (from azureml-inference-server-http~=0.4.1->azureml-defaults~=1.36.0->azureml-train-automl-runtime==1.36.1) (1.0.3)\n",
      "Requirement already satisfied: waitress==2.0.0 in c:\\users\\mars_\\anaconda3\\lib\\site-packages (from azureml-inference-server-http~=0.4.1->azureml-defaults~=1.36.0->azureml-train-automl-runtime==1.36.1) (2.0.0)\n",
      "Requirement already satisfied: inference-schema==1.3.0 in c:\\users\\mars_\\appdata\\roaming\\python\\python37\\site-packages (from azureml-inference-server-http~=0.4.1->azureml-defaults~=1.36.0->azureml-train-automl-runtime==1.36.1) (1.3.0)\n",
      "Requirement already satisfied: applicationinsights>=0.11.7 in c:\\users\\mars_\\anaconda3\\lib\\site-packages (from azureml-inference-server-http~=0.4.1->azureml-defaults~=1.36.0->azureml-train-automl-runtime==1.36.1) (0.11.10)\n",
      "Requirement already satisfied: itsdangerous>=0.24 in c:\\users\\mars_\\anaconda3\\lib\\site-packages (from flask==1.0.3->azureml-inference-server-http~=0.4.1->azureml-defaults~=1.36.0->azureml-train-automl-runtime==1.36.1) (2.0.1)\n",
      "Requirement already satisfied: Werkzeug>=0.14 in c:\\users\\mars_\\anaconda3\\lib\\site-packages (from flask==1.0.3->azureml-inference-server-http~=0.4.1->azureml-defaults~=1.36.0->azureml-train-automl-runtime==1.36.1) (2.0.2)\n",
      "Requirement already satisfied: click>=5.1 in c:\\users\\mars_\\anaconda3\\lib\\site-packages (from flask==1.0.3->azureml-inference-server-http~=0.4.1->azureml-defaults~=1.36.0->azureml-train-automl-runtime==1.36.1) (8.0.3)\n",
      "Requirement already satisfied: wrapt<=1.12.1,>=1.11.1 in c:\\users\\mars_\\anaconda3\\lib\\site-packages (from inference-schema==1.3.0->azureml-inference-server-http~=0.4.1->azureml-defaults~=1.36.0->azureml-train-automl-runtime==1.36.1) (1.12.1)\n",
      "Requirement already satisfied: interpret-community==0.21.* in c:\\users\\mars_\\appdata\\roaming\\python\\python37\\site-packages (from azureml-interpret~=1.36.0->azureml-train-automl-runtime==1.36.1) (0.21.0)\n",
      "Requirement already satisfied: shap<=0.39.0,>=0.20.0 in c:\\users\\mars_\\anaconda3\\lib\\site-packages (from interpret-community==0.21.*->azureml-interpret~=1.36.0->azureml-train-automl-runtime==1.36.1) (0.39.0)\n",
      "Requirement already satisfied: interpret-core[required]<=0.2.6,>=0.1.20 in c:\\users\\mars_\\anaconda3\\lib\\site-packages (from interpret-community==0.21.*->azureml-interpret~=1.36.0->azureml-train-automl-runtime==1.36.1) (0.2.6)\n",
      "Requirement already satisfied: packaging in c:\\users\\mars_\\anaconda3\\lib\\site-packages (from interpret-community==0.21.*->azureml-interpret~=1.36.0->azureml-train-automl-runtime==1.36.1) (21.0)\n",
      "Collecting numba<0.54.0\n",
      "  Using cached numba-0.53.1-cp37-cp37m-win_amd64.whl (2.3 MB)\n",
      "Requirement already satisfied: mlflow-skinny in c:\\users\\mars_\\anaconda3\\lib\\site-packages (from azureml-mlflow~=1.36.0->azureml-train-automl-runtime==1.36.1) (1.21.0)\n",
      "Requirement already satisfied: azureml-train-core~=1.36.0 in c:\\users\\mars_\\appdata\\roaming\\python\\python37\\site-packages (from azureml-train-automl-client~=1.36.0->azureml-train-automl-runtime==1.36.1) (1.36.0)\n",
      "Requirement already satisfied: azureml-train-restclients-hyperdrive~=1.36.0 in c:\\users\\mars_\\appdata\\roaming\\python\\python37\\site-packages (from azureml-train-core~=1.36.0->azureml-train-automl-client~=1.36.0->azureml-train-automl-runtime==1.36.1) (1.36.0)\n",
      "Requirement already satisfied: s3transfer<0.4.0,>=0.3.0 in c:\\users\\mars_\\appdata\\roaming\\python\\python37\\site-packages (from boto3<=1.15.18->azureml-train-automl-runtime==1.36.1) (0.3.7)\n",
      "Requirement already satisfied: colorama in c:\\users\\mars_\\anaconda3\\lib\\site-packages (from click>=5.1->flask==1.0.3->azureml-inference-server-http~=0.4.1->azureml-defaults~=1.36.0->azureml-train-automl-runtime==1.36.1) (0.4.4)\n",
      "Requirement already satisfied: importlib-metadata in c:\\users\\mars_\\anaconda3\\lib\\site-packages (from click>=5.1->flask==1.0.3->azureml-inference-server-http~=0.4.1->azureml-defaults~=1.36.0->azureml-train-automl-runtime==1.36.1) (4.8.1)\n",
      "Requirement already satisfied: cffi>=1.12 in c:\\users\\mars_\\anaconda3\\lib\\site-packages (from cryptography>=2.1.4->azure-storage-queue~=12.1->azureml-train-automl-runtime==1.36.1) (1.15.0)\n",
      "Requirement already satisfied: pycparser in c:\\users\\mars_\\anaconda3\\lib\\site-packages (from cffi>=1.12->cryptography>=2.1.4->azure-storage-queue~=12.1->azureml-train-automl-runtime==1.36.1) (2.21)\n",
      "Requirement already satisfied: pyyaml in c:\\users\\mars_\\anaconda3\\lib\\site-packages (from dask[complete]<=2.30.0->azureml-train-automl-runtime==1.36.1) (6.0)\n",
      "Requirement already satisfied: bokeh!=2.0.0,>=1.0.0 in c:\\users\\mars_\\appdata\\roaming\\python\\python37\\site-packages (from dask[complete]<=2.30.0->azureml-train-automl-runtime==1.36.1) (2.4.1)\n",
      "Requirement already satisfied: fsspec>=0.6.0 in c:\\users\\mars_\\anaconda3\\lib\\site-packages (from dask[complete]<=2.30.0->azureml-train-automl-runtime==1.36.1) (2021.10.1)\n",
      "Requirement already satisfied: partd>=0.3.10 in c:\\users\\mars_\\anaconda3\\lib\\site-packages (from dask[complete]<=2.30.0->azureml-train-automl-runtime==1.36.1) (1.2.0)\n",
      "Requirement already satisfied: toolz>=0.8.2 in c:\\users\\mars_\\anaconda3\\lib\\site-packages (from dask[complete]<=2.30.0->azureml-train-automl-runtime==1.36.1) (0.11.2)\n",
      "Requirement already satisfied: typing-extensions>=3.10.0 in c:\\users\\mars_\\anaconda3\\lib\\site-packages (from bokeh!=2.0.0,>=1.0.0->dask[complete]<=2.30.0->azureml-train-automl-runtime==1.36.1) (4.0.0)\n",
      "Requirement already satisfied: pillow>=7.1.0 in c:\\users\\mars_\\anaconda3\\lib\\site-packages (from bokeh!=2.0.0,>=1.0.0->dask[complete]<=2.30.0->azureml-train-automl-runtime==1.36.1) (8.4.0)\n",
      "Requirement already satisfied: tornado>=5.1 in c:\\users\\mars_\\anaconda3\\lib\\site-packages (from bokeh!=2.0.0,>=1.0.0->dask[complete]<=2.30.0->azureml-train-automl-runtime==1.36.1) (6.1)\n",
      "Requirement already satisfied: setuptools in c:\\users\\mars_\\anaconda3\\lib\\site-packages (from distributed<=2.30.1->azureml-train-automl-runtime==1.36.1) (58.0.4)\n",
      "Requirement already satisfied: msgpack>=0.6.0 in c:\\users\\mars_\\appdata\\roaming\\python\\python37\\site-packages (from distributed<=2.30.1->azureml-train-automl-runtime==1.36.1) (1.0.2)\n",
      "Requirement already satisfied: sortedcontainers!=2.0.0,!=2.0.1 in c:\\users\\mars_\\appdata\\roaming\\python\\python37\\site-packages (from distributed<=2.30.1->azureml-train-automl-runtime==1.36.1) (2.4.0)\n",
      "Requirement already satisfied: zict>=0.1.3 in c:\\users\\mars_\\appdata\\roaming\\python\\python37\\site-packages (from distributed<=2.30.1->azureml-train-automl-runtime==1.36.1) (2.0.0)\n",
      "Requirement already satisfied: tblib>=1.6.0 in c:\\users\\mars_\\appdata\\roaming\\python\\python37\\site-packages (from distributed<=2.30.1->azureml-train-automl-runtime==1.36.1) (1.7.0)\n",
      "Requirement already satisfied: pywin32==227 in c:\\users\\mars_\\appdata\\roaming\\python\\python37\\site-packages (from docker<6.0.0->azureml-core~=1.36.0->azureml-train-automl-runtime==1.36.1) (227)\n",
      "Requirement already satisfied: websocket-client>=0.32.0 in c:\\users\\mars_\\appdata\\roaming\\python\\python37\\site-packages (from docker<6.0.0->azureml-core~=1.36.0->azureml-train-automl-runtime==1.36.1) (1.2.1)\n",
      "Requirement already satisfied: distro>=1.2.0 in c:\\users\\mars_\\anaconda3\\lib\\site-packages (from dotnetcore2<3.0.0,>=2.1.14->azureml-dataprep<2.25.0a,>=2.24.0a->azureml-dataset-runtime[fuse,pandas]~=1.36.0->azureml-train-automl-runtime==1.36.1) (1.6.0)\n",
      "Requirement already satisfied: MarkupSafe>=0.23 in c:\\users\\mars_\\anaconda3\\lib\\site-packages (from jinja2<=2.11.2->azureml-train-automl-runtime==1.36.1) (2.0.1)\n",
      "Requirement already satisfied: fire in c:\\users\\mars_\\appdata\\roaming\\python\\python37\\site-packages (from keras2onnx<=1.6.0,>=1.4.0->azureml-train-automl-runtime==1.36.1) (0.4.0)\n",
      "Requirement already satisfied: portalocker~=1.6 in c:\\users\\mars_\\anaconda3\\lib\\site-packages (from msal-extensions~=0.3.0->azure-identity==1.7.0->azureml-dataprep<2.25.0a,>=2.24.0a->azureml-dataset-runtime[fuse,pandas]~=1.36.0->azureml-train-automl-runtime==1.36.1) (1.7.1)\n",
      "Requirement already satisfied: certifi>=2017.4.17 in c:\\users\\mars_\\anaconda3\\lib\\site-packages (from msrest>=0.6.18->azure-storage-queue~=12.1->azureml-train-automl-runtime==1.36.1) (2021.10.8)\n",
      "Requirement already satisfied: isodate>=0.6.0 in c:\\users\\mars_\\anaconda3\\lib\\site-packages (from msrest>=0.6.18->azure-storage-queue~=12.1->azureml-train-automl-runtime==1.36.1) (0.6.0)\n",
      "Requirement already satisfied: requests-oauthlib>=0.5.0 in c:\\users\\mars_\\anaconda3\\lib\\site-packages (from msrest>=0.6.18->azure-storage-queue~=12.1->azureml-train-automl-runtime==1.36.1) (1.3.0)\n",
      "Requirement already satisfied: pyasn1>=0.1.1 in c:\\users\\mars_\\anaconda3\\lib\\site-packages (from ndg-httpsclient<=0.5.1->azureml-core~=1.36.0->azureml-train-automl-runtime==1.36.1) (0.4.8)\n",
      "Collecting llvmlite<0.37,>=0.36.0rc1\n",
      "  Using cached llvmlite-0.36.0-cp37-cp37m-win_amd64.whl (16.0 MB)\n",
      "Requirement already satisfied: flatbuffers in c:\\users\\mars_\\appdata\\roaming\\python\\python37\\site-packages (from onnxruntime<=1.8.0,>=1.3.0->azureml-train-automl-runtime==1.36.1) (2.0)\n",
      "Requirement already satisfied: pyparsing>=2.0.2 in c:\\users\\mars_\\anaconda3\\lib\\site-packages (from packaging->interpret-community==0.21.*->azureml-interpret~=1.36.0->azureml-train-automl-runtime==1.36.1) (2.4.2)\n",
      "Requirement already satisfied: locket in c:\\users\\mars_\\anaconda3\\lib\\site-packages\\locket-0.2.1-py3.7.egg (from partd>=0.3.10->dask[complete]<=2.30.0->azureml-train-automl-runtime==1.36.1) (0.2.1)\n",
      "Requirement already satisfied: charset-normalizer~=2.0.0 in c:\\users\\mars_\\anaconda3\\lib\\site-packages (from requests>=2.18.4->azure-core<2.0.0,>=1.10.0->azure-storage-queue~=12.1->azureml-train-automl-runtime==1.36.1) (2.0.4)\n",
      "Requirement already satisfied: idna<4,>=2.5 in c:\\users\\mars_\\anaconda3\\lib\\site-packages (from requests>=2.18.4->azure-core<2.0.0,>=1.10.0->azure-storage-queue~=12.1->azureml-train-automl-runtime==1.36.1) (3.2)\n",
      "Requirement already satisfied: oauthlib>=3.0.0 in c:\\users\\mars_\\anaconda3\\lib\\site-packages (from requests-oauthlib>=0.5.0->msrest>=0.6.18->azure-storage-queue~=12.1->azureml-train-automl-runtime==1.36.1) (3.1.1)\n",
      "Requirement already satisfied: jeepney>=0.6 in c:\\users\\mars_\\anaconda3\\lib\\site-packages (from SecretStorage<4.0.0->azureml-core~=1.36.0->azureml-train-automl-runtime==1.36.1) (0.7.1)\n",
      "Requirement already satisfied: slicer==0.0.7 in c:\\users\\mars_\\anaconda3\\lib\\site-packages (from shap<=0.39.0,>=0.20.0->interpret-community==0.21.*->azureml-interpret~=1.36.0->azureml-train-automl-runtime==1.36.1) (0.0.7)\n",
      "Requirement already satisfied: tqdm>4.25.0 in c:\\users\\mars_\\anaconda3\\lib\\site-packages (from shap<=0.39.0,>=0.20.0->interpret-community==0.21.*->azureml-interpret~=1.36.0->azureml-train-automl-runtime==1.36.1) (4.62.3)\n",
      "Requirement already satisfied: boto>=2.32 in c:\\users\\mars_\\anaconda3\\lib\\site-packages (from smart-open<=1.9.0->azureml-train-automl-runtime==1.36.1) (2.49.0)\n",
      "Requirement already satisfied: patsy>=0.4.0 in c:\\users\\mars_\\anaconda3\\lib\\site-packages (from statsmodels<=0.10.2,>=0.9.0->azureml-train-automl-runtime==1.36.1) (0.5.2)\n",
      "Requirement already satisfied: heapdict in c:\\users\\mars_\\appdata\\roaming\\python\\python37\\site-packages (from zict>=0.1.3->distributed<=2.30.1->azureml-train-automl-runtime==1.36.1) (1.0.1)\n",
      "Requirement already satisfied: backports.weakref in c:\\users\\mars_\\anaconda3\\lib\\site-packages (from backports.tempfile->azureml-core~=1.36.0->azureml-train-automl-runtime==1.36.1) (1.0.post1)\n",
      "Requirement already satisfied: termcolor in c:\\users\\mars_\\anaconda3\\lib\\site-packages (from fire->keras2onnx<=1.6.0,>=1.4.0->azureml-train-automl-runtime==1.36.1) (1.1.0)\n",
      "Requirement already satisfied: zipp>=0.5 in c:\\users\\mars_\\anaconda3\\lib\\site-packages (from importlib-metadata->click>=5.1->flask==1.0.3->azureml-inference-server-http~=0.4.1->azureml-defaults~=1.36.0->azureml-train-automl-runtime==1.36.1) (3.6.0)\n",
      "Requirement already satisfied: gitpython>=2.1.0 in c:\\users\\mars_\\anaconda3\\lib\\site-packages (from mlflow-skinny->azureml-mlflow~=1.36.0->azureml-train-automl-runtime==1.36.1) (3.1.24)\n",
      "Requirement already satisfied: databricks-cli>=0.8.7 in c:\\users\\mars_\\anaconda3\\lib\\site-packages (from mlflow-skinny->azureml-mlflow~=1.36.0->azureml-train-automl-runtime==1.36.1) (0.16.2)\n",
      "Requirement already satisfied: entrypoints in c:\\users\\mars_\\anaconda3\\lib\\site-packages (from mlflow-skinny->azureml-mlflow~=1.36.0->azureml-train-automl-runtime==1.36.1) (0.3)\n",
      "Requirement already satisfied: tabulate>=0.7.7 in c:\\users\\mars_\\appdata\\roaming\\python\\python37\\site-packages (from databricks-cli>=0.8.7->mlflow-skinny->azureml-mlflow~=1.36.0->azureml-train-automl-runtime==1.36.1) (0.8.9)\n",
      "Requirement already satisfied: gitdb<5,>=4.0.1 in c:\\users\\mars_\\anaconda3\\lib\\site-packages (from gitpython>=2.1.0->mlflow-skinny->azureml-mlflow~=1.36.0->azureml-train-automl-runtime==1.36.1) (4.0.9)\n",
      "Requirement already satisfied: smmap<6,>=3.0.1 in c:\\users\\mars_\\anaconda3\\lib\\site-packages (from gitdb<5,>=4.0.1->gitpython>=2.1.0->mlflow-skinny->azureml-mlflow~=1.36.0->azureml-train-automl-runtime==1.36.1) (5.0.0)\n",
      "Installing collected packages: llvmlite, cloudpickle, scikit-learn, pyarrow, numba, azureml-automl-core, azureml-automl-runtime, azureml-train-automl-runtime\n",
      "  Attempting uninstall: llvmlite\n",
      "    Found existing installation: llvmlite 0.37.0\n"
     ]
    },
    {
     "name": "stderr",
     "output_type": "stream",
     "text": [
      "WARNING: Ignoring invalid distribution -atplotlib (c:\\users\\mars_\\appdata\\roaming\\python\\python37\\site-packages)\n",
      "WARNING: Ignoring invalid distribution -atplotlib (c:\\users\\mars_\\appdata\\roaming\\python\\python37\\site-packages)\n",
      "WARNING: Ignoring invalid distribution -atplotlib (c:\\users\\mars_\\appdata\\roaming\\python\\python37\\site-packages)\n",
      "    WARNING: Ignoring invalid distribution -atplotlib (c:\\users\\mars_\\appdata\\roaming\\python\\python37\\site-packages)\n",
      "ERROR: Cannot uninstall 'llvmlite'. It is a distutils installed project and thus we cannot accurately determine which files belong to it which would lead to only a partial uninstall.\n",
      "WARNING: Ignoring invalid distribution -atplotlib (c:\\users\\mars_\\appdata\\roaming\\python\\python37\\site-packages)\n",
      "WARNING: Ignoring invalid distribution -atplotlib (c:\\users\\mars_\\appdata\\roaming\\python\\python37\\site-packages)\n",
      "WARNING: Ignoring invalid distribution -atplotlib (c:\\users\\mars_\\appdata\\roaming\\python\\python37\\site-packages)\n"
     ]
    }
   ],
   "source": [
    "!pip3 install azureml-train-automl-runtime==1.36.1"
   ]
  },
  {
   "cell_type": "markdown",
   "metadata": {},
   "source": [
    "### Retrieve the best model"
   ]
  },
  {
   "cell_type": "code",
   "execution_count": 17,
   "metadata": {},
   "outputs": [
    {
     "data": {
      "text/plain": [
       "'1.35.0'"
      ]
     },
     "execution_count": 17,
     "metadata": {},
     "output_type": "execute_result"
    }
   ],
   "source": [
    "azureml.train.automl.__version__"
   ]
  },
  {
   "cell_type": "code",
   "execution_count": 30,
   "metadata": {},
   "outputs": [],
   "source": []
  },
  {
   "cell_type": "code",
   "execution_count": 16,
   "metadata": {},
   "outputs": [
    {
     "name": "stderr",
     "output_type": "stream",
     "text": [
      "WARNING:root:The model you attempted to retrieve requires 'azureml-train-automl-runtime' to be installed at '==1.36.1'. Please install 'azureml-train-automl-runtime==1.36.1' (e.g. `pip install azureml-train-automl-runtime==1.36.1`) and then rerun the previous command.\n"
     ]
    },
    {
     "name": "stdout",
     "output_type": "stream",
     "text": [
      "Run(Experiment: Experiment14,\n",
      "Id: AutoML_15d6cd88-71b1-4b36-b937-2f80dabb78bc_14,\n",
      "Type: azureml.scriptrun,\n",
      "Status: Completed)\n",
      "None\n"
     ]
    }
   ],
   "source": [
    "best_run, fitted_model = local_run.get_output()\n",
    "print(best_run)\n",
    "print(fitted_model)"
   ]
  },
  {
   "cell_type": "code",
   "execution_count": 16,
   "metadata": {},
   "outputs": [],
   "source": [
    "# !pip install azureml.interpret\n",
    "# !pip install raiwidgets\n",
    "# !pip install azureml-train-automl-runtime --user\n",
    "# !pip install pyparsing==2.4.2"
   ]
  },
  {
   "cell_type": "code",
   "execution_count": 18,
   "metadata": {},
   "outputs": [
    {
     "data": {
      "text/plain": [
       "['123.pkl']"
      ]
     },
     "execution_count": 18,
     "metadata": {},
     "output_type": "execute_result"
    }
   ],
   "source": [
    "import joblib\n",
    "\n",
    "joblib.dump(fitted_model, '123.pkl')"
   ]
  },
  {
   "cell_type": "markdown",
   "metadata": {},
   "source": [
    "### Visualize top features"
   ]
  },
  {
   "cell_type": "code",
   "execution_count": 19,
   "metadata": {},
   "outputs": [
    {
     "ename": "ModuleNotFoundError",
     "evalue": "No module named 'azureml.train.automl.runtime'",
     "output_type": "error",
     "traceback": [
      "\u001b[1;31m---------------------------------------------------------------------------\u001b[0m",
      "\u001b[1;31mModuleNotFoundError\u001b[0m                       Traceback (most recent call last)",
      "\u001b[1;32m~\\AppData\\Local\\Temp/ipykernel_42508/3867564912.py\u001b[0m in \u001b[0;36m<module>\u001b[1;34m\u001b[0m\n\u001b[1;32m----> 1\u001b[1;33m \u001b[1;32mfrom\u001b[0m \u001b[0mazureml\u001b[0m\u001b[1;33m.\u001b[0m\u001b[0mtrain\u001b[0m\u001b[1;33m.\u001b[0m\u001b[0mautoml\u001b[0m\u001b[1;33m.\u001b[0m\u001b[0mruntime\u001b[0m\u001b[1;33m.\u001b[0m\u001b[0mautoml_explain_utilities\u001b[0m \u001b[1;32mimport\u001b[0m \u001b[0mautoml_setup_model_explanations\u001b[0m\u001b[1;33m\u001b[0m\u001b[1;33m\u001b[0m\u001b[0m\n\u001b[0m\u001b[0;32m      2\u001b[0m \u001b[1;31m# from azureml.train.automl.automl_explain_utilities import automl_setup_model_explanations\u001b[0m\u001b[1;33m\u001b[0m\u001b[1;33m\u001b[0m\u001b[1;33m\u001b[0m\u001b[0m\n\u001b[0;32m      3\u001b[0m \u001b[1;32mfrom\u001b[0m \u001b[0mautoml\u001b[0m\u001b[1;33m.\u001b[0m\u001b[0mclient\u001b[0m\u001b[1;33m.\u001b[0m\u001b[0mcore\u001b[0m\u001b[1;33m.\u001b[0m\u001b[0mcommon\u001b[0m\u001b[1;33m.\u001b[0m\u001b[0mconstants\u001b[0m \u001b[1;32mimport\u001b[0m \u001b[0mMODEL_PATH\u001b[0m\u001b[1;33m\u001b[0m\u001b[1;33m\u001b[0m\u001b[0m\n\u001b[0;32m      4\u001b[0m \u001b[1;32mimport\u001b[0m \u001b[0mjoblib\u001b[0m\u001b[1;33m\u001b[0m\u001b[1;33m\u001b[0m\u001b[0m\n\u001b[0;32m      5\u001b[0m \u001b[1;32mfrom\u001b[0m \u001b[0mazureml\u001b[0m\u001b[1;33m.\u001b[0m\u001b[0minterpret\u001b[0m \u001b[1;32mimport\u001b[0m \u001b[0mExplanationClient\u001b[0m\u001b[1;33m,\u001b[0m \u001b[0mMimicWrapper\u001b[0m\u001b[1;33m\u001b[0m\u001b[1;33m\u001b[0m\u001b[0m\n",
      "\u001b[1;31mModuleNotFoundError\u001b[0m: No module named 'azureml.train.automl.runtime'"
     ]
    }
   ],
   "source": [
    "from azureml.train.automl.runtime.automl_explain_utilities import automl_setup_model_explanations\n",
    "# from azureml.train.automl.automl_explain_utilities import automl_setup_model_explanations\n",
    "from automl.client.core.common.constants import MODEL_PATH\n",
    "import joblib\n",
    "from azureml.interpret import ExplanationClient, MimicWrapper\n",
    "from raiwidgets import ExplanationDashboard\n",
    "\n",
    "# # Download the best model from the artifact store\n",
    "# best_run.download_file(name=MODEL_PATH, output_file_path='model.pkl')\n",
    "\n",
    "# # Load the AutoML model into memory\n",
    "# fitted_model = joblib.load('model.pkl')\n",
    "\n",
    "# Drop the lablled column to get the training set.\n",
    "X_train = trainset.drop_columns(columns=['satisfaction'])\n",
    "y_train = trainset.keep_columns(columns=['satisfaction'], validate=True)\n",
    "# Drop the lablled column to get the testing set.\n",
    "X_test = testset.drop_columns(columns=['satisfaction'])\n",
    "\n",
    "automl_explainer_setup_obj = automl_setup_model_explanations(fitted_model, X=X_train, \n",
    "                                                             X_test=X_test, y=y_train, \n",
    "                                                             task='classification')\n",
    "client = ExplanationClient.from_run(best_run)\n",
    "raw_explanations = client.download_model_explanation(raw=True)\n",
    "# Initialize the Mimic Explainer\n",
    "# explainer = MimicWrapper(ws, automl_explainer_setup_obj.automl_estimator,\n",
    "#                          explainable_model=automl_explainer_setup_obj.surrogate_model, \n",
    "#                          init_dataset=automl_explainer_setup_obj.X_transform, run=best_run,\n",
    "#                          features=automl_explainer_setup_obj.engineered_feature_names, \n",
    "#                          feature_maps=[automl_explainer_setup_obj.feature_map],\n",
    "#                          classes=automl_explainer_setup_obj.classes,\n",
    "#                          explainer_kwargs=automl_explainer_setup_obj.surrogate_model_params)\n",
    "# raw_explanations = explainer.explain(['local', 'global'], get_raw=True,\n",
    "#                                      raw_feature_names=automl_explainer_setup_obj.raw_feature_names,\n",
    "#                                      eval_dataset=automl_explainer_setup_obj.X_test_transform)\n",
    "# print(raw_explanations.get_feature_importance_dict())\n",
    "\n",
    "ExplanationDashboard(raw_explanations, automl_explainer_setup_obj.automl_pipeline, dataset=automl_explainer_setup_obj.X_test_raw)"
   ]
  },
  {
   "cell_type": "markdown",
   "metadata": {},
   "source": [
    "Note the feature important bar chart above only shows raw features without transformation. To show transformed features, simply set raw=False. The top 5 features are: 'Inflight wifi service', 'Class', 'Type of Travel', 'Online boarding' and 'Customer Type'."
   ]
  },
  {
   "cell_type": "markdown",
   "metadata": {},
   "source": [
    "## Automl with top 3 features"
   ]
  },
  {
   "cell_type": "code",
   "execution_count": 19,
   "metadata": {},
   "outputs": [
    {
     "data": {
      "text/plain": [
       "{\n",
       "  \"source\": [\n",
       "    \"('workspaceblobstore', 'assignment3_test')\"\n",
       "  ],\n",
       "  \"definition\": [\n",
       "    \"GetDatastoreFiles\",\n",
       "    \"ParseDelimited\",\n",
       "    \"DropColumns\",\n",
       "    \"SetColumnTypes\",\n",
       "    \"KeepColumns\"\n",
       "  ],\n",
       "  \"registration\": {\n",
       "    \"id\": \"d387dc10-0cf1-4d35-96d3-cea6f2af3c43\",\n",
       "    \"name\": \"Assignment3_Test1\",\n",
       "    \"version\": 1,\n",
       "    \"workspace\": \"Workspace.create(name='Assignment3AzurePipeline', subscription_id='d3805069-b2bd-4ab6-ac52-e7fabe76f043', resource_group='Assignment3_Pipeline_1')\"\n",
       "  }\n",
       "}"
      ]
     },
     "execution_count": 19,
     "metadata": {},
     "output_type": "execute_result"
    }
   ],
   "source": [
    "# # Add a new feature\n",
    "# train_df = pd.read_csv(data_folder + \"/train.csv\")\n",
    "# test_df = pd.read_csv(data_folder + \"/test.csv\")\n",
    "# train_df['Net Delay in Minutes'] = train_df['Arrival Delay in Minutes'] - train_df['Departure Delay in Minutes']\n",
    "# test_df['Net Delay in Minutes'] = test_df['Arrival Delay in Minutes'] - test_df['Departure Delay in Minutes']\n",
    "# train_df.to_csv(data_folder + \"/train.csv\")\n",
    "# test_df.to_csv(data_folder + \"/test.csv\")\n",
    "\n",
    "trainset1 = trainset.keep_columns(columns=['Inflight wifi service','Class','Type of Travel','satisfaction'])\n",
    "testset1 = testset.keep_columns(columns=['Inflight wifi service','Class','Type of Travel','satisfaction'])\n",
    "trainset1.register(workspace=ws, name=\"Assignment3_Train1\", create_new_version=True)\n",
    "testset1.register(workspace=ws, name=\"Assignment3_Test1\", create_new_version=True)"
   ]
  },
  {
   "cell_type": "code",
   "execution_count": 20,
   "metadata": {},
   "outputs": [],
   "source": [
    "automl_config1 = AutoMLConfig(task='classification',\n",
    "                             debug_log='automated_ml_errors.log',\n",
    "                             training_data=trainset1,\n",
    "                             test_data=testset1,\n",
    "# for some reason XGBoost has a deep dependency on other packages and it causes error\n",
    "# so I have to block it. The metrics do not impact as much when excluding XGBoost.\n",
    "                             blocked_models = ['XGBoostClassifier'], \n",
    "                             label_column_name=\"satisfaction\",\n",
    "                             compute_target = compute_target,\n",
    "                             **automl_settings)"
   ]
  },
  {
   "cell_type": "code",
   "execution_count": 21,
   "metadata": {},
   "outputs": [
    {
     "name": "stdout",
     "output_type": "stream",
     "text": [
      "Submitting remote run.\n",
      "No run_configuration provided, running on aml-compute with default configuration\n",
      "Running on remote compute: aml-compute\n"
     ]
    },
    {
     "data": {
      "text/html": [
       "<table style=\"width:100%\"><tr><th>Experiment</th><th>Id</th><th>Type</th><th>Status</th><th>Details Page</th><th>Docs Page</th></tr><tr><td>Experiment11</td><td>AutoML_fd09e4c0-7113-4758-9f30-187cfce35465</td><td>automl</td><td>NotStarted</td><td><a href=\"https://ml.azure.com/runs/AutoML_fd09e4c0-7113-4758-9f30-187cfce35465?wsid=/subscriptions/d3805069-b2bd-4ab6-ac52-e7fabe76f043/resourcegroups/Assignment3_Pipeline_1/workspaces/Assignment3AzurePipeline&amp;tid=83b02c92-5f26-48ed-9e5b-6c2fca46a8e6\" target=\"_blank\" rel=\"noopener\">Link to Azure Machine Learning studio</a></td><td><a href=\"https://docs.microsoft.com/en-us/python/api/overview/azure/ml/intro?view=azure-ml-py\" target=\"_blank\" rel=\"noopener\">Link to Documentation</a></td></tr></table>"
      ],
      "text/plain": [
       "<IPython.core.display.HTML object>"
      ]
     },
     "metadata": {},
     "output_type": "display_data"
    },
    {
     "name": "stdout",
     "output_type": "stream",
     "text": [
      "\n"
     ]
    },
    {
     "name": "stderr",
     "output_type": "stream",
     "text": [
      "WARNING:urllib3.connectionpool:Retrying (Retry(total=2, connect=2, read=3, redirect=None, status=None)) after connection broken by 'NewConnectionError('<urllib3.connection.HTTPSConnection object at 0x000001CA91439E48>: Failed to establish a new connection: [WinError 10013] An attempt was made to access a socket in a way forbidden by its access permissions')': /history/v1.0/subscriptions/d3805069-b2bd-4ab6-ac52-e7fabe76f043/resourceGroups/Assignment3_Pipeline_1/providers/Microsoft.MachineLearningServices/workspaces/Assignment3AzurePipeline/experimentids/99e946e9-58c7-44f9-ad51-60443598f013/runs/AutoML_fd09e4c0-7113-4758-9f30-187cfce35465\n",
      "WARNING:urllib3.connectionpool:Retrying (Retry(total=1, connect=1, read=3, redirect=None, status=None)) after connection broken by 'NewConnectionError('<urllib3.connection.HTTPSConnection object at 0x000001CA9143DF48>: Failed to establish a new connection: [WinError 10013] An attempt was made to access a socket in a way forbidden by its access permissions')': /history/v1.0/subscriptions/d3805069-b2bd-4ab6-ac52-e7fabe76f043/resourceGroups/Assignment3_Pipeline_1/providers/Microsoft.MachineLearningServices/workspaces/Assignment3AzurePipeline/experimentids/99e946e9-58c7-44f9-ad51-60443598f013/runs/AutoML_fd09e4c0-7113-4758-9f30-187cfce35465\n"
     ]
    },
    {
     "name": "stdout",
     "output_type": "stream",
     "text": [
      "Current status: FeaturesGeneration. Generating features for the dataset.\n",
      "Current status: DatasetFeaturization. Beginning to fit featurizers and featurize the dataset.\n",
      "Current status: DatasetCrossValidationSplit. Generating individually featurized CV splits.\n",
      "Current status: ModelSelection. Beginning model selection.\n",
      "\n",
      "****************************************************************************************************\n",
      "DATA GUARDRAILS: \n",
      "\n",
      "TYPE:         Class balancing detection\n",
      "STATUS:       PASSED\n",
      "DESCRIPTION:  Your inputs were analyzed, and all classes are balanced in your training data.\n",
      "              Learn more about imbalanced data: https://aka.ms/AutomatedMLImbalancedData\n",
      "\n",
      "****************************************************************************************************\n",
      "\n",
      "TYPE:         Missing feature values imputation\n",
      "STATUS:       PASSED\n",
      "DESCRIPTION:  No feature missing values were detected in the training data.\n",
      "              Learn more about missing value imputation: https://aka.ms/AutomatedMLFeaturization\n",
      "\n",
      "****************************************************************************************************\n",
      "\n",
      "TYPE:         High cardinality feature detection\n",
      "STATUS:       PASSED\n",
      "DESCRIPTION:  Your inputs were analyzed, and no high cardinality features were detected.\n",
      "              Learn more about high cardinality feature handling: https://aka.ms/AutomatedMLFeaturization\n",
      "\n",
      "****************************************************************************************************\n",
      "\n",
      "****************************************************************************************************\n",
      "ITERATION: The iteration being evaluated.\n",
      "PIPELINE: A summary description of the pipeline being evaluated.\n",
      "DURATION: Time taken for the current iteration.\n",
      "METRIC: The result of computing score on the fitted pipeline.\n",
      "BEST: The best observed score thus far.\n",
      "****************************************************************************************************\n",
      "\n",
      " ITERATION   PIPELINE                                       DURATION      METRIC      BEST\n",
      "         0   MaxAbsScaler LightGBM                          0:00:42       0.8294    0.8294\n",
      "         1   MaxAbsScaler ExtremeRandomTrees                0:00:51       0.8085    0.8294\n",
      "         2   MaxAbsScaler LightGBM                          0:00:39       0.8276    0.8294\n",
      "         3   MaxAbsScaler LightGBM                          0:00:41       0.8177    0.8294\n",
      "         4   MaxAbsScaler LogisticRegression                0:00:41       0.8215    0.8294\n",
      "         5   StandardScalerWrapper ExtremeRandomTrees       0:00:41       0.8181    0.8294\n",
      "         6   SparseNormalizer LightGBM                      0:00:39       0.8200    0.8294\n",
      "         7   MaxAbsScaler LogisticRegression                0:00:43       0.8215    0.8294\n",
      "         8   MaxAbsScaler SGD                               0:00:39       0.8263    0.8294\n",
      "         9   SparseNormalizer RandomForest                  0:00:56       0.8184    0.8294\n",
      "        10   StandardScalerWrapper LogisticRegression       0:00:40       0.8215    0.8294\n",
      "        11   StandardScalerWrapper RandomForest             0:00:44       0.8204    0.8294\n",
      "        12   TruncatedSVDWrapper RandomForest               0:00:53       0.8226    0.8294\n",
      "        13   TruncatedSVDWrapper RandomForest               0:01:09       0.8294    0.8294\n",
      "        14   StandardScalerWrapper LogisticRegression       0:00:40       0.8215    0.8294\n",
      "        15   StandardScalerWrapper RandomForest             0:00:39       0.8101    0.8294\n",
      "        16   MaxAbsScaler LightGBM                          0:00:43       0.8000    0.8294\n",
      "        17   StandardScalerWrapper LogisticRegression       0:00:54       0.8215    0.8294\n",
      "        18   SparseNormalizer LightGBM                      0:01:05       0.8116    0.8294\n",
      "        19   TruncatedSVDWrapper LogisticRegression         0:00:41       0.8215    0.8294\n",
      "        20   StandardScalerWrapper ExtremeRandomTrees       0:00:48       0.7603    0.8294\n",
      "        21   StandardScalerWrapper ExtremeRandomTrees       0:01:13       0.8102    0.8294\n",
      "        22   StandardScalerWrapper GradientBoosting         0:01:37       0.7676    0.8294\n",
      "        23    VotingEnsemble                                0:01:17       0.8294    0.8294\n",
      "        24    StackEnsemble                                 0:02:02       0.8276    0.8294\n"
     ]
    }
   ],
   "source": [
    "warnings.filterwarnings(\"ignore\")\n",
    "experiment1 = Experiment(ws, \"Experiment11\")\n",
    "local_run1 = experiment1.submit(automl_config1, show_output=True)"
   ]
  },
  {
   "cell_type": "code",
   "execution_count": 22,
   "metadata": {},
   "outputs": [
    {
     "data": {
      "application/vnd.jupyter.widget-view+json": {
       "model_id": "3710089c4cef4e62822931b50aa18a32",
       "version_major": 2,
       "version_minor": 0
      },
      "text/plain": [
       "_AutoMLWidget(widget_settings={'childWidgetDisplay': 'popup', 'send_telemetry': False, 'log_level': 'INFO', 's…"
      ]
     },
     "metadata": {},
     "output_type": "display_data"
    },
    {
     "data": {
      "application/aml.mini.widget.v1": "{\"status\": \"Completed\", \"workbench_run_details_uri\": \"https://ml.azure.com/runs/AutoML_fd09e4c0-7113-4758-9f30-187cfce35465?wsid=/subscriptions/d3805069-b2bd-4ab6-ac52-e7fabe76f043/resourcegroups/Assignment3_Pipeline_1/workspaces/Assignment3AzurePipeline&tid=83b02c92-5f26-48ed-9e5b-6c2fca46a8e6\", \"run_id\": \"AutoML_fd09e4c0-7113-4758-9f30-187cfce35465\", \"run_properties\": {\"run_id\": \"AutoML_fd09e4c0-7113-4758-9f30-187cfce35465\", \"created_utc\": \"2021-11-16T07:13:32.503619Z\", \"properties\": {\"num_iterations\": \"1000\", \"training_type\": \"TrainFull\", \"acquisition_function\": \"EI\", \"primary_metric\": \"accuracy\", \"train_split\": \"0\", \"acquisition_parameter\": \"0\", \"num_cross_validation\": \"5\", \"target\": \"aml-compute\", \"AMLSettingsJsonString\": \"{\\\"path\\\":null,\\\"name\\\":\\\"Experiment11\\\",\\\"subscription_id\\\":\\\"d3805069-b2bd-4ab6-ac52-e7fabe76f043\\\",\\\"resource_group\\\":\\\"Assignment3_Pipeline_1\\\",\\\"workspace_name\\\":\\\"Assignment3AzurePipeline\\\",\\\"region\\\":\\\"eastus2\\\",\\\"compute_target\\\":\\\"aml-compute\\\",\\\"spark_service\\\":null,\\\"azure_service\\\":\\\"remote\\\",\\\"many_models\\\":false,\\\"pipeline_fetch_max_batch_size\\\":1,\\\"enable_batch_run\\\":false,\\\"enable_run_restructure\\\":false,\\\"start_auxiliary_runs_before_parent_complete\\\":true,\\\"enable_code_generation\\\":false,\\\"iterations\\\":1000,\\\"primary_metric\\\":\\\"accuracy\\\",\\\"task_type\\\":\\\"classification\\\",\\\"positive_label\\\":null,\\\"data_script\\\":null,\\\"test_size\\\":0.0,\\\"test_include_predictions_only\\\":false,\\\"validation_size\\\":0.0,\\\"n_cross_validations\\\":5,\\\"y_min\\\":null,\\\"y_max\\\":null,\\\"num_classes\\\":null,\\\"featurization\\\":\\\"auto\\\",\\\"_ignore_package_version_incompatibilities\\\":false,\\\"is_timeseries\\\":false,\\\"max_cores_per_iteration\\\":1,\\\"max_concurrent_iterations\\\":1,\\\"iteration_timeout_minutes\\\":10,\\\"mem_in_mb\\\":null,\\\"enforce_time_on_windows\\\":true,\\\"experiment_timeout_minutes\\\":18,\\\"experiment_exit_score\\\":null,\\\"whitelist_models\\\":null,\\\"blacklist_algos\\\":[\\\"XGBoostClassifier\\\",\\\"TensorFlowLinearClassifier\\\",\\\"TensorFlowDNN\\\"],\\\"supported_models\\\":[\\\"SGD\\\",\\\"TensorFlowLinearClassifier\\\",\\\"LinearSVM\\\",\\\"KNN\\\",\\\"RandomForest\\\",\\\"DecisionTree\\\",\\\"XGBoostClassifier\\\",\\\"SVM\\\",\\\"TensorFlowDNN\\\",\\\"ExtremeRandomTrees\\\",\\\"LightGBM\\\",\\\"MultinomialNaiveBayes\\\",\\\"GradientBoosting\\\",\\\"LogisticRegression\\\",\\\"BernoulliNaiveBayes\\\",\\\"AveragedPerceptronClassifier\\\"],\\\"private_models\\\":[\\\"TabnetClassifier\\\"],\\\"auto_blacklist\\\":true,\\\"blacklist_samples_reached\\\":false,\\\"exclude_nan_labels\\\":true,\\\"verbosity\\\":20,\\\"_debug_log\\\":\\\"azureml_automl.log\\\",\\\"show_warnings\\\":false,\\\"model_explainability\\\":true,\\\"service_url\\\":null,\\\"sdk_url\\\":null,\\\"sdk_packages\\\":null,\\\"enable_onnx_compatible_models\\\":false,\\\"enable_split_onnx_featurizer_estimator_models\\\":false,\\\"vm_type\\\":\\\"STANDARD_DS3_V2\\\",\\\"telemetry_verbosity\\\":20,\\\"send_telemetry\\\":true,\\\"enable_dnn\\\":false,\\\"scenario\\\":\\\"SDK-1.13.0\\\",\\\"environment_label\\\":null,\\\"save_mlflow\\\":false,\\\"enable_categorical_indicators\\\":false,\\\"force_text_dnn\\\":false,\\\"enable_feature_sweeping\\\":true,\\\"enable_early_stopping\\\":true,\\\"early_stopping_n_iters\\\":10,\\\"arguments\\\":null,\\\"dataset_id\\\":null,\\\"hyperdrive_config\\\":null,\\\"validation_dataset_id\\\":null,\\\"run_source\\\":null,\\\"metrics\\\":null,\\\"enable_metric_confidence\\\":false,\\\"enable_ensembling\\\":true,\\\"enable_stack_ensembling\\\":true,\\\"ensemble_iterations\\\":15,\\\"enable_tf\\\":false,\\\"enable_subsampling\\\":null,\\\"subsample_seed\\\":null,\\\"enable_nimbusml\\\":false,\\\"enable_streaming\\\":false,\\\"force_streaming\\\":false,\\\"track_child_runs\\\":true,\\\"allowed_private_models\\\":[],\\\"label_column_name\\\":\\\"satisfaction\\\",\\\"weight_column_name\\\":null,\\\"cv_split_column_names\\\":null,\\\"enable_local_managed\\\":false,\\\"_local_managed_run_id\\\":null,\\\"cost_mode\\\":1,\\\"lag_length\\\":0,\\\"metric_operation\\\":\\\"maximize\\\",\\\"preprocess\\\":true}\", \"DataPrepJsonString\": \"{\\\\\\\"training_data\\\\\\\": {\\\\\\\"datasetId\\\\\\\": \\\\\\\"c7ba502c-96de-47ca-923e-d2d7e4058827\\\\\\\"}, \\\\\\\"test_data\\\\\\\": {\\\\\\\"datasetId\\\\\\\": \\\\\\\"d387dc10-0cf1-4d35-96d3-cea6f2af3c43\\\\\\\"}, \\\\\\\"datasets\\\\\\\": 0}\", \"EnableSubsampling\": null, \"runTemplate\": \"AutoML\", \"azureml.runsource\": \"automl\", \"display_task_type\": \"classification\", \"dependencies_versions\": \"{\\\"azureml-train-restclients-hyperdrive\\\": \\\"1.36.0\\\", \\\"azureml-train-core\\\": \\\"1.36.0\\\", \\\"azureml-train-automl-runtime\\\": \\\"1.36.0\\\", \\\"azureml-train-automl-client\\\": \\\"1.36.0\\\", \\\"azureml-telemetry\\\": \\\"1.36.0\\\", \\\"azureml-mlflow\\\": \\\"1.36.0\\\", \\\"azureml-inference-server-http\\\": \\\"0.4.2\\\", \\\"azureml-defaults\\\": \\\"1.36.0\\\", \\\"azureml-dataset-runtime\\\": \\\"1.36.0\\\", \\\"azureml-dataprep\\\": \\\"2.24.3\\\", \\\"azureml-dataprep-rslex\\\": \\\"2.0.3\\\", \\\"azureml-automl-runtime\\\": \\\"1.36.0\\\", \\\"azureml-automl-core\\\": \\\"1.36.0\\\", \\\"azureml\\\": \\\"0.2.7\\\", \\\"azureml-widgets\\\": \\\"1.35.0\\\", \\\"azureml-pipeline-steps\\\": \\\"1.35.0\\\", \\\"azureml-pipeline-core\\\": \\\"1.35.0\\\", \\\"azureml-interpret\\\": \\\"1.36.0\\\", \\\"azureml-dataprep-native\\\": \\\"38.0.0\\\", \\\"azureml-core\\\": \\\"1.36.0.post2\\\"}\", \"_aml_system_scenario_identification\": \"Remote.Parent\", \"ClientType\": \"SDK\", \"environment_cpu_name\": \"AzureML-AutoML\", \"environment_cpu_label\": \"prod\", \"environment_gpu_name\": \"AzureML-AutoML-GPU\", \"environment_gpu_label\": \"prod\", \"root_attribution\": \"automl\", \"attribution\": \"AutoML\", \"Orchestrator\": \"AutoML\", \"CancelUri\": \"https://eastus2.api.azureml.ms/jasmine/v1.0/subscriptions/d3805069-b2bd-4ab6-ac52-e7fabe76f043/resourceGroups/Assignment3_Pipeline_1/providers/Microsoft.MachineLearningServices/workspaces/Assignment3AzurePipeline/experimentids/99e946e9-58c7-44f9-ad51-60443598f013/cancel/AutoML_fd09e4c0-7113-4758-9f30-187cfce35465\", \"ClientSdkVersion\": \"1.35.1\", \"snapshotId\": \"00000000-0000-0000-0000-000000000000\", \"SetupRunId\": \"AutoML_fd09e4c0-7113-4758-9f30-187cfce35465_setup\", \"SetupRunContainerId\": \"dcid.AutoML_fd09e4c0-7113-4758-9f30-187cfce35465_setup\", \"FeaturizationRunJsonPath\": \"featurizer_container.json\", \"FeaturizationRunId\": \"AutoML_fd09e4c0-7113-4758-9f30-187cfce35465_featurize\", \"ProblemInfoJsonString\": \"{\\\"dataset_num_categorical\\\": 0, \\\"is_sparse\\\": true, \\\"subsampling\\\": false, \\\"has_extra_col\\\": true, \\\"dataset_classes\\\": 2, \\\"dataset_features\\\": 10, \\\"dataset_samples\\\": 103904, \\\"single_frequency_class_detected\\\": false}\", \"ModelExplainRunId\": \"AutoML_fd09e4c0-7113-4758-9f30-187cfce35465_ModelExplain\"}, \"tags\": {\"model_explain_run\": \"best_run\", \"_aml_system_azureml.automlComponent\": \"AutoML\", \"pipeline_id\": \"\", \"score\": \"\", \"predicted_cost\": \"\", \"fit_time\": \"\", \"training_percent\": \"\", \"iteration\": \"\", \"run_preprocessor\": \"\", \"run_algorithm\": \"\", \"_aml_system_azureml.automl_early_exit_message\": \"Experiment timeout reached, hence experiment stopped. Current experiment timeout: 0 hour(s) 18 minute(s)\", \"automl_best_child_run_id\": \"AutoML_fd09e4c0-7113-4758-9f30-187cfce35465_0\", \"model_explain_best_run_child_id\": \"AutoML_fd09e4c0-7113-4758-9f30-187cfce35465_0\"}, \"end_time_utc\": \"2021-11-16T07:38:46.528273Z\", \"status\": \"Completed\", \"log_files\": {}, \"log_groups\": [], \"run_duration\": \"0:25:14\", \"run_number\": \"32\", \"run_queued_details\": {\"status\": \"Completed\", \"details\": null}}, \"child_runs\": [{\"run_id\": \"AutoML_fd09e4c0-7113-4758-9f30-187cfce35465_setup\", \"run_number\": 33, \"metric\": null, \"status\": \"Completed\", \"run_type\": \"azureml.scriptrun\", \"training_percent\": null, \"start_time\": \"2021-11-16T07:13:44.511147Z\", \"end_time\": \"2021-11-16T07:14:26.015786Z\", \"created_time\": \"2021-11-16T07:13:44.511147Z\", \"created_time_dt\": \"2021-11-16T07:13:44.511147Z\", \"duration\": \"0:00:41\", \"iteration\": null, \"goal\": null, \"run_name\": \"Completed\", \"run_properties\": null}, {\"run_id\": \"AutoML_fd09e4c0-7113-4758-9f30-187cfce35465_featurize\", \"run_number\": 34, \"metric\": null, \"status\": \"Completed\", \"run_type\": \"automl.featurization\", \"training_percent\": null, \"start_time\": \"2021-11-16T07:14:26.768361Z\", \"end_time\": \"2021-11-16T07:15:52.644773Z\", \"created_time\": \"2021-11-16T07:14:26.435581Z\", \"created_time_dt\": \"2021-11-16T07:14:26.435581Z\", \"duration\": \"0:01:26\", \"iteration\": null, \"goal\": null, \"run_name\": \"Completed\", \"run_properties\": null}, {\"run_id\": \"AutoML_fd09e4c0-7113-4758-9f30-187cfce35465_0\", \"run_number\": 36, \"metric\": null, \"status\": \"Completed\", \"run_type\": \"azureml.scriptrun\", \"training_percent\": \"100\", \"start_time\": \"2021-11-16T07:15:53.146554Z\", \"end_time\": \"2021-11-16T07:16:34.674601Z\", \"created_time\": \"2021-11-16T07:15:53.146554Z\", \"created_time_dt\": \"2021-11-16T07:15:53.146554Z\", \"duration\": \"0:00:41\", \"iteration\": \"0\", \"goal\": \"accuracy_max\", \"run_name\": \"MaxAbsScaler, LightGBM\", \"run_properties\": \"copy=True\", \"primary_metric\": 0.82935211, \"best_metric\": 0.82935211}, {\"run_id\": \"AutoML_fd09e4c0-7113-4758-9f30-187cfce35465_1\", \"run_number\": 37, \"metric\": null, \"status\": \"Completed\", \"run_type\": \"azureml.scriptrun\", \"training_percent\": \"100\", \"start_time\": \"2021-11-16T07:16:35.764943Z\", \"end_time\": \"2021-11-16T07:17:26.350273Z\", \"created_time\": \"2021-11-16T07:16:35.764943Z\", \"created_time_dt\": \"2021-11-16T07:16:35.764943Z\", \"duration\": \"0:00:50\", \"iteration\": \"1\", \"goal\": \"accuracy_max\", \"run_name\": \"MaxAbsScaler, ExtremeRandomTrees\", \"run_properties\": \"copy=True\", \"primary_metric\": 0.80850596, \"best_metric\": 0.82935211}, {\"run_id\": \"AutoML_fd09e4c0-7113-4758-9f30-187cfce35465_2\", \"run_number\": 38, \"metric\": null, \"status\": \"Completed\", \"run_type\": \"azureml.scriptrun\", \"training_percent\": \"100\", \"start_time\": \"2021-11-16T07:17:28.098796Z\", \"end_time\": \"2021-11-16T07:18:07.254386Z\", \"created_time\": \"2021-11-16T07:17:28.098796Z\", \"created_time_dt\": \"2021-11-16T07:17:28.098796Z\", \"duration\": \"0:00:39\", \"iteration\": \"2\", \"goal\": \"accuracy_max\", \"run_name\": \"MaxAbsScaler, LightGBM\", \"run_properties\": \"copy=True\", \"primary_metric\": 0.82761013, \"best_metric\": 0.82935211}, {\"run_id\": \"AutoML_fd09e4c0-7113-4758-9f30-187cfce35465_3\", \"run_number\": 39, \"metric\": null, \"status\": \"Completed\", \"run_type\": \"azureml.scriptrun\", \"training_percent\": \"100\", \"start_time\": \"2021-11-16T07:18:08.676192Z\", \"end_time\": \"2021-11-16T07:18:49.83971Z\", \"created_time\": \"2021-11-16T07:18:08.676192Z\", \"created_time_dt\": \"2021-11-16T07:18:08.676192Z\", \"duration\": \"0:00:41\", \"iteration\": \"3\", \"goal\": \"accuracy_max\", \"run_name\": \"MaxAbsScaler, LightGBM\", \"run_properties\": \"copy=True\", \"primary_metric\": 0.81766826, \"best_metric\": 0.82935211}, {\"run_id\": \"AutoML_fd09e4c0-7113-4758-9f30-187cfce35465_4\", \"run_number\": 40, \"metric\": null, \"status\": \"Completed\", \"run_type\": \"azureml.scriptrun\", \"training_percent\": \"100\", \"start_time\": \"2021-11-16T07:18:51.398123Z\", \"end_time\": \"2021-11-16T07:19:32.448947Z\", \"created_time\": \"2021-11-16T07:18:51.398123Z\", \"created_time_dt\": \"2021-11-16T07:18:51.398123Z\", \"duration\": \"0:00:41\", \"iteration\": \"4\", \"goal\": \"accuracy_max\", \"run_name\": \"MaxAbsScaler, LogisticRegression\", \"run_properties\": \"copy=True\", \"primary_metric\": 0.82145059, \"best_metric\": 0.82935211}, {\"run_id\": \"AutoML_fd09e4c0-7113-4758-9f30-187cfce35465_5\", \"run_number\": 41, \"metric\": null, \"status\": \"Completed\", \"run_type\": \"azureml.scriptrun\", \"training_percent\": \"100\", \"start_time\": \"2021-11-16T07:19:33.796435Z\", \"end_time\": \"2021-11-16T07:20:15.220306Z\", \"created_time\": \"2021-11-16T07:19:33.796435Z\", \"created_time_dt\": \"2021-11-16T07:19:33.796435Z\", \"duration\": \"0:00:41\", \"iteration\": \"5\", \"goal\": \"accuracy_max\", \"run_name\": \"StandardScalerWrapper, ExtremeRandomTrees\", \"run_properties\": \"\\n    copy=True,\\n    with_mean=False,\\n    with_std=False\\n\", \"primary_metric\": 0.81811088, \"best_metric\": 0.82935211}, {\"run_id\": \"AutoML_fd09e4c0-7113-4758-9f30-187cfce35465_6\", \"run_number\": 42, \"metric\": null, \"status\": \"Completed\", \"run_type\": \"azureml.scriptrun\", \"training_percent\": \"100\", \"start_time\": \"2021-11-16T07:20:16.532591Z\", \"end_time\": \"2021-11-16T07:20:55.878675Z\", \"created_time\": \"2021-11-16T07:20:16.532591Z\", \"created_time_dt\": \"2021-11-16T07:20:16.532591Z\", \"duration\": \"0:00:39\", \"iteration\": \"6\", \"goal\": \"accuracy_max\", \"run_name\": \"SparseNormalizer, LightGBM\", \"run_properties\": \"copy=True, norm='l1'\", \"primary_metric\": 0.81995883, \"best_metric\": 0.82935211}, {\"run_id\": \"AutoML_fd09e4c0-7113-4758-9f30-187cfce35465_7\", \"run_number\": 43, \"metric\": null, \"status\": \"Completed\", \"run_type\": \"azureml.scriptrun\", \"training_percent\": \"100\", \"start_time\": \"2021-11-16T07:20:57.384986Z\", \"end_time\": \"2021-11-16T07:21:40.32103Z\", \"created_time\": \"2021-11-16T07:20:57.384986Z\", \"created_time_dt\": \"2021-11-16T07:20:57.384986Z\", \"duration\": \"0:00:42\", \"iteration\": \"7\", \"goal\": \"accuracy_max\", \"run_name\": \"MaxAbsScaler, LogisticRegression\", \"run_properties\": \"copy=True\", \"primary_metric\": 0.82145059, \"best_metric\": 0.82935211}, {\"run_id\": \"AutoML_fd09e4c0-7113-4758-9f30-187cfce35465_8\", \"run_number\": 44, \"metric\": null, \"status\": \"Completed\", \"run_type\": \"azureml.scriptrun\", \"training_percent\": \"100\", \"start_time\": \"2021-11-16T07:21:41.639492Z\", \"end_time\": \"2021-11-16T07:22:20.45734Z\", \"created_time\": \"2021-11-16T07:21:41.639492Z\", \"created_time_dt\": \"2021-11-16T07:21:41.639492Z\", \"duration\": \"0:00:38\", \"iteration\": \"8\", \"goal\": \"accuracy_max\", \"run_name\": \"MaxAbsScaler, SGD\", \"run_properties\": \"copy=True\", \"primary_metric\": 0.82627236, \"best_metric\": 0.82935211}, {\"run_id\": \"AutoML_fd09e4c0-7113-4758-9f30-187cfce35465_9\", \"run_number\": 45, \"metric\": null, \"status\": \"Completed\", \"run_type\": \"azureml.scriptrun\", \"training_percent\": \"100\", \"start_time\": \"2021-11-16T07:22:21.776866Z\", \"end_time\": \"2021-11-16T07:23:17.728056Z\", \"created_time\": \"2021-11-16T07:22:21.776866Z\", \"created_time_dt\": \"2021-11-16T07:22:21.776866Z\", \"duration\": \"0:00:55\", \"iteration\": \"9\", \"goal\": \"accuracy_max\", \"run_name\": \"SparseNormalizer, RandomForest\", \"run_properties\": \"copy=True, norm='l2'\", \"primary_metric\": 0.81843819, \"best_metric\": 0.82935211}, {\"run_id\": \"AutoML_fd09e4c0-7113-4758-9f30-187cfce35465_10\", \"run_number\": 46, \"metric\": null, \"status\": \"Completed\", \"run_type\": \"azureml.scriptrun\", \"training_percent\": \"100\", \"start_time\": \"2021-11-16T07:23:19.14963Z\", \"end_time\": \"2021-11-16T07:23:58.792249Z\", \"created_time\": \"2021-11-16T07:23:19.14963Z\", \"created_time_dt\": \"2021-11-16T07:23:19.14963Z\", \"duration\": \"0:00:39\", \"iteration\": \"10\", \"goal\": \"accuracy_max\", \"run_name\": \"StandardScalerWrapper, LogisticRegression\", \"run_properties\": \"\\n    copy=True,\\n    with_mean=False,\\n    with_std=False\\n\", \"primary_metric\": 0.82145059, \"best_metric\": 0.82935211}, {\"run_id\": \"AutoML_fd09e4c0-7113-4758-9f30-187cfce35465_11\", \"run_number\": 47, \"metric\": null, \"status\": \"Completed\", \"run_type\": \"azureml.scriptrun\", \"training_percent\": \"100\", \"start_time\": \"2021-11-16T07:24:00.448349Z\", \"end_time\": \"2021-11-16T07:24:44.389883Z\", \"created_time\": \"2021-11-16T07:24:00.448349Z\", \"created_time_dt\": \"2021-11-16T07:24:00.448349Z\", \"duration\": \"0:00:43\", \"iteration\": \"11\", \"goal\": \"accuracy_max\", \"run_name\": \"StandardScalerWrapper, RandomForest\", \"run_properties\": \"\\n    copy=True,\\n    with_mean=False,\\n    with_std=False\\n\", \"primary_metric\": 0.82038232, \"best_metric\": 0.82935211}, {\"run_id\": \"AutoML_fd09e4c0-7113-4758-9f30-187cfce35465_12\", \"run_number\": 48, \"metric\": null, \"status\": \"Completed\", \"run_type\": \"azureml.scriptrun\", \"training_percent\": \"100\", \"start_time\": \"2021-11-16T07:24:45.74149Z\", \"end_time\": \"2021-11-16T07:25:38.311346Z\", \"created_time\": \"2021-11-16T07:24:45.74149Z\", \"created_time_dt\": \"2021-11-16T07:24:45.74149Z\", \"duration\": \"0:00:52\", \"iteration\": \"12\", \"goal\": \"accuracy_max\", \"run_name\": \"TruncatedSVDWrapper, RandomForest\", \"run_properties\": \"n_components=0.8015789473684211, random_state=None\", \"primary_metric\": 0.822567, \"best_metric\": 0.82935211}, {\"run_id\": \"AutoML_fd09e4c0-7113-4758-9f30-187cfce35465_13\", \"run_number\": 49, \"metric\": null, \"status\": \"Completed\", \"run_type\": \"azureml.scriptrun\", \"training_percent\": \"100\", \"start_time\": \"2021-11-16T07:25:39.630877Z\", \"end_time\": \"2021-11-16T07:26:48.177573Z\", \"created_time\": \"2021-11-16T07:25:39.630877Z\", \"created_time_dt\": \"2021-11-16T07:25:39.630877Z\", \"duration\": \"0:01:08\", \"iteration\": \"13\", \"goal\": \"accuracy_max\", \"run_name\": \"TruncatedSVDWrapper, RandomForest\", \"run_properties\": \"n_components=0.7026315789473684, random_state=None\", \"primary_metric\": 0.82935211, \"best_metric\": 0.82935211}, {\"run_id\": \"AutoML_fd09e4c0-7113-4758-9f30-187cfce35465_14\", \"run_number\": 50, \"metric\": null, \"status\": \"Completed\", \"run_type\": \"azureml.scriptrun\", \"training_percent\": \"100\", \"start_time\": \"2021-11-16T07:26:49.586551Z\", \"end_time\": \"2021-11-16T07:27:29.809921Z\", \"created_time\": \"2021-11-16T07:26:49.586551Z\", \"created_time_dt\": \"2021-11-16T07:26:49.586551Z\", \"duration\": \"0:00:40\", \"iteration\": \"14\", \"goal\": \"accuracy_max\", \"run_name\": \"StandardScalerWrapper, LogisticRegression\", \"run_properties\": \"\\n    copy=True,\\n    with_mean=False,\\n    with_std=True\\n\", \"primary_metric\": 0.82145059, \"best_metric\": 0.82935211}, {\"run_id\": \"AutoML_fd09e4c0-7113-4758-9f30-187cfce35465_15\", \"run_number\": 51, \"metric\": null, \"status\": \"Completed\", \"run_type\": \"azureml.scriptrun\", \"training_percent\": \"100\", \"start_time\": \"2021-11-16T07:27:31.362906Z\", \"end_time\": \"2021-11-16T07:28:09.97755Z\", \"created_time\": \"2021-11-16T07:27:31.362906Z\", \"created_time_dt\": \"2021-11-16T07:27:31.362906Z\", \"duration\": \"0:00:38\", \"iteration\": \"15\", \"goal\": \"accuracy_max\", \"run_name\": \"StandardScalerWrapper, RandomForest\", \"run_properties\": \"\\n    copy=True,\\n    with_mean=False,\\n    with_std=False\\n\", \"primary_metric\": 0.81011323, \"best_metric\": 0.82935211}, {\"run_id\": \"AutoML_fd09e4c0-7113-4758-9f30-187cfce35465_16\", \"run_number\": 52, \"metric\": null, \"status\": \"Completed\", \"run_type\": \"azureml.scriptrun\", \"training_percent\": \"100\", \"start_time\": \"2021-11-16T07:28:11.634014Z\", \"end_time\": \"2021-11-16T07:28:54.81174Z\", \"created_time\": \"2021-11-16T07:28:11.634014Z\", \"created_time_dt\": \"2021-11-16T07:28:11.634014Z\", \"duration\": \"0:00:43\", \"iteration\": \"16\", \"goal\": \"accuracy_max\", \"run_name\": \"MaxAbsScaler, LightGBM\", \"run_properties\": \"copy=True\", \"primary_metric\": 0.79996923, \"best_metric\": 0.82935211}, {\"run_id\": \"AutoML_fd09e4c0-7113-4758-9f30-187cfce35465_17\", \"run_number\": 53, \"metric\": null, \"status\": \"Completed\", \"run_type\": \"azureml.scriptrun\", \"training_percent\": \"100\", \"start_time\": \"2021-11-16T07:28:56.566273Z\", \"end_time\": \"2021-11-16T07:29:50.191627Z\", \"created_time\": \"2021-11-16T07:28:56.566273Z\", \"created_time_dt\": \"2021-11-16T07:28:56.566273Z\", \"duration\": \"0:00:53\", \"iteration\": \"17\", \"goal\": \"accuracy_max\", \"run_name\": \"StandardScalerWrapper, LogisticRegression\", \"run_properties\": \"\\n    copy=True,\\n    with_mean=False,\\n    with_std=False\\n\", \"primary_metric\": 0.82145059, \"best_metric\": 0.82935211}, {\"run_id\": \"AutoML_fd09e4c0-7113-4758-9f30-187cfce35465_18\", \"run_number\": 54, \"metric\": null, \"status\": \"Completed\", \"run_type\": \"azureml.scriptrun\", \"training_percent\": \"100\", \"start_time\": \"2021-11-16T07:29:51.934216Z\", \"end_time\": \"2021-11-16T07:30:56.588576Z\", \"created_time\": \"2021-11-16T07:29:51.934216Z\", \"created_time_dt\": \"2021-11-16T07:29:51.934216Z\", \"duration\": \"0:01:04\", \"iteration\": \"18\", \"goal\": \"accuracy_max\", \"run_name\": \"SparseNormalizer, LightGBM\", \"run_properties\": \"copy=True, norm='l1'\", \"primary_metric\": 0.81161459, \"best_metric\": 0.82935211}, {\"run_id\": \"AutoML_fd09e4c0-7113-4758-9f30-187cfce35465_19\", \"run_number\": 55, \"metric\": null, \"status\": \"Completed\", \"run_type\": \"azureml.scriptrun\", \"training_percent\": \"100\", \"start_time\": \"2021-11-16T07:30:58.305989Z\", \"end_time\": \"2021-11-16T07:31:39.066491Z\", \"created_time\": \"2021-11-16T07:30:58.305989Z\", \"created_time_dt\": \"2021-11-16T07:30:58.305989Z\", \"duration\": \"0:00:40\", \"iteration\": \"19\", \"goal\": \"accuracy_max\", \"run_name\": \"TruncatedSVDWrapper, LogisticRegression\", \"run_properties\": \"n_components=0.95, random_state=None\", \"primary_metric\": 0.82145059, \"best_metric\": 0.82935211}, {\"run_id\": \"AutoML_fd09e4c0-7113-4758-9f30-187cfce35465_20\", \"run_number\": 56, \"metric\": null, \"status\": \"Completed\", \"run_type\": \"azureml.scriptrun\", \"training_percent\": \"100\", \"start_time\": \"2021-11-16T07:31:40.646822Z\", \"end_time\": \"2021-11-16T07:32:28.304532Z\", \"created_time\": \"2021-11-16T07:31:40.646822Z\", \"created_time_dt\": \"2021-11-16T07:31:40.646822Z\", \"duration\": \"0:00:47\", \"iteration\": \"20\", \"goal\": \"accuracy_max\", \"run_name\": \"StandardScalerWrapper, ExtremeRandomTrees\", \"run_properties\": \"\\n    copy=True,\\n    with_mean=False,\\n    with_std=True\\n\", \"primary_metric\": 0.76028834, \"best_metric\": 0.82935211}, {\"run_id\": \"AutoML_fd09e4c0-7113-4758-9f30-187cfce35465_21\", \"run_number\": 57, \"metric\": null, \"status\": \"Completed\", \"run_type\": \"azureml.scriptrun\", \"training_percent\": \"100\", \"start_time\": \"2021-11-16T07:32:29.674381Z\", \"end_time\": \"2021-11-16T07:33:42.321413Z\", \"created_time\": \"2021-11-16T07:32:29.674381Z\", \"created_time_dt\": \"2021-11-16T07:32:29.674381Z\", \"duration\": \"0:01:12\", \"iteration\": \"21\", \"goal\": \"accuracy_max\", \"run_name\": \"StandardScalerWrapper, ExtremeRandomTrees\", \"run_properties\": \"\\n    copy=True,\\n    with_mean=False,\\n    with_std=True\\n\", \"primary_metric\": 0.81019025, \"best_metric\": 0.82935211}, {\"run_id\": \"AutoML_fd09e4c0-7113-4758-9f30-187cfce35465_22\", \"run_number\": 58, \"metric\": null, \"status\": \"Completed\", \"run_type\": \"azureml.scriptrun\", \"training_percent\": \"100\", \"start_time\": \"2021-11-16T07:33:45.030472Z\", \"end_time\": \"2021-11-16T07:35:21.541719Z\", \"created_time\": \"2021-11-16T07:33:45.030472Z\", \"created_time_dt\": \"2021-11-16T07:33:45.030472Z\", \"duration\": \"0:01:36\", \"iteration\": \"22\", \"goal\": \"accuracy_max\", \"run_name\": \"StandardScalerWrapper, GradientBoosting\", \"run_properties\": \"\\n    copy=True,\\n    with_mean=False,\\n    with_std=False\\n\", \"primary_metric\": 0.7675547, \"best_metric\": 0.82935211}, {\"run_id\": \"AutoML_fd09e4c0-7113-4758-9f30-187cfce35465_23\", \"run_number\": 59, \"metric\": null, \"status\": \"Completed\", \"run_type\": \"azureml.scriptrun\", \"training_percent\": \"100\", \"start_time\": \"2021-11-16T07:35:22.686575Z\", \"end_time\": \"2021-11-16T07:36:39.329504Z\", \"created_time\": \"2021-11-16T07:35:22.686575Z\", \"created_time_dt\": \"2021-11-16T07:35:22.686575Z\", \"duration\": \"0:01:16\", \"iteration\": \"23\", \"goal\": \"accuracy_max\", \"run_name\": \"VotingEnsemble\", \"run_properties\": \"\\n    estimators=[('13', Pipeline(\\n        memory=None,\\n        steps=[('truncatedsvdwrapper', TruncatedSVDWrapper(\\n            n_components=0.7026315789473684,\\n            random_state=None\\n        \", \"primary_metric\": 0.82935211, \"best_metric\": 0.82935211}, {\"run_id\": \"AutoML_fd09e4c0-7113-4758-9f30-187cfce35465_24\", \"run_number\": 60, \"metric\": null, \"status\": \"Completed\", \"run_type\": \"azureml.scriptrun\", \"training_percent\": \"100\", \"start_time\": \"2021-11-16T07:36:40.010083Z\", \"end_time\": \"2021-11-16T07:38:41.886506Z\", \"created_time\": \"2021-11-16T07:36:40.010083Z\", \"created_time_dt\": \"2021-11-16T07:36:40.010083Z\", \"duration\": \"0:02:01\", \"iteration\": \"24\", \"goal\": \"accuracy_max\", \"run_name\": \"StackEnsemble\", \"run_properties\": \"\\n    base_learners=[('13', Pipeline(\\n        memory=None,\\n        steps=[('truncatedsvdwrapper', TruncatedSVDWrapper(\\n            n_components=0.7026315789473684,\\n            random_state=None\\n        \", \"primary_metric\": 0.82761013, \"best_metric\": 0.82935211}], \"children_metrics\": {\"categories\": [0], \"series\": {\"norm_macro_recall\": [{\"categories\": [\"0\", \"1\", \"2\", \"3\", \"4\", \"5\", \"6\", \"7\", \"8\", \"9\", \"10\", \"11\", \"12\", \"13\", \"14\", \"15\", \"16\", \"17\", \"18\", \"19\", \"20\", \"21\", \"22\", \"23\", \"24\"], \"mode\": \"markers\", \"name\": \"norm_macro_recall\", \"stepped\": false, \"type\": \"scatter\", \"data\": [0.688022874420356, 0.6277415612923605, 0.6820378261601913, 0.6489017034892178, 0.6607185303838475, 0.6572838430489298, 0.654213357267938, 0.6607185303838475, 0.6803046530870637, 0.6628083112823627, 0.6607185303838475, 0.6659744125034643, 0.671310218841679, 0.688022874420356, 0.6607185303838475, 0.6393899921193877, 0.6097506456633924, 0.6607185303838475, 0.6366247818420825, 0.6607185303838475, 0.5276993199683139, 0.6337348694387898, 0.5335975283580258, 0.688022874420356, 0.6820378261601913]}, {\"categories\": [\"0\", \"1\", \"2\", \"3\", \"4\", \"5\", \"6\", \"7\", \"8\", \"9\", \"10\", \"11\", \"12\", \"13\", \"14\", \"15\", \"16\", \"17\", \"18\", \"19\", \"20\", \"21\", \"22\", \"23\", \"24\"], \"mode\": \"lines\", \"name\": \"norm_macro_recall_max\", \"stepped\": true, \"type\": \"scatter\", \"data\": [0.688022874420356, 0.688022874420356, 0.688022874420356, 0.688022874420356, 0.688022874420356, 0.688022874420356, 0.688022874420356, 0.688022874420356, 0.688022874420356, 0.688022874420356, 0.688022874420356, 0.688022874420356, 0.688022874420356, 0.688022874420356, 0.688022874420356, 0.688022874420356, 0.688022874420356, 0.688022874420356, 0.688022874420356, 0.688022874420356, 0.688022874420356, 0.688022874420356, 0.688022874420356, 0.688022874420356, 0.688022874420356]}], \"precision_score_micro\": [{\"categories\": [\"0\", \"1\", \"2\", \"3\", \"4\", \"5\", \"6\", \"7\", \"8\", \"9\", \"10\", \"11\", \"12\", \"13\", \"14\", \"15\", \"16\", \"17\", \"18\", \"19\", \"20\", \"21\", \"22\", \"23\", \"24\"], \"mode\": \"markers\", \"name\": \"precision_score_micro\", \"stepped\": false, \"type\": \"scatter\", \"data\": [0.8293521100172063, 0.8085059583050873, 0.8276101341738877, 0.817668256693538, 0.8214505888647914, 0.8181108821779945, 0.8199588332590215, 0.8214505888647914, 0.8262723616778282, 0.8184381889153485, 0.8214505888647914, 0.8203823247887045, 0.822566997904125, 0.8293521100172063, 0.8214505888647914, 0.8101132271793213, 0.7999692294994979, 0.8214505888647914, 0.8116145875088849, 0.8214505888647914, 0.7602883422560746, 0.810190249764965, 0.7675547011436328, 0.8293521100172063, 0.8276101341738877]}, {\"categories\": [\"0\", \"1\", \"2\", \"3\", \"4\", \"5\", \"6\", \"7\", \"8\", \"9\", \"10\", \"11\", \"12\", \"13\", \"14\", \"15\", \"16\", \"17\", \"18\", \"19\", \"20\", \"21\", \"22\", \"23\", \"24\"], \"mode\": \"lines\", \"name\": \"precision_score_micro_max\", \"stepped\": true, \"type\": \"scatter\", \"data\": [0.8293521100172063, 0.8293521100172063, 0.8293521100172063, 0.8293521100172063, 0.8293521100172063, 0.8293521100172063, 0.8293521100172063, 0.8293521100172063, 0.8293521100172063, 0.8293521100172063, 0.8293521100172063, 0.8293521100172063, 0.8293521100172063, 0.8293521100172063, 0.8293521100172063, 0.8293521100172063, 0.8293521100172063, 0.8293521100172063, 0.8293521100172063, 0.8293521100172063, 0.8293521100172063, 0.8293521100172063, 0.8293521100172063, 0.8293521100172063, 0.8293521100172063]}], \"f1_score_micro\": [{\"categories\": [\"0\", \"1\", \"2\", \"3\", \"4\", \"5\", \"6\", \"7\", \"8\", \"9\", \"10\", \"11\", \"12\", \"13\", \"14\", \"15\", \"16\", \"17\", \"18\", \"19\", \"20\", \"21\", \"22\", \"23\", \"24\"], \"mode\": \"markers\", \"name\": \"f1_score_micro\", \"stepped\": false, \"type\": \"scatter\", \"data\": [0.8293521100172064, 0.8085059583050873, 0.827610134173888, 0.817668256693538, 0.8214505888647914, 0.8181108821779945, 0.8199588332590215, 0.8214505888647914, 0.8262723616778282, 0.8184381889153485, 0.8214505888647914, 0.8203823247887045, 0.822566997904125, 0.8293521100172064, 0.8214505888647914, 0.8101132271793213, 0.7999692294994979, 0.8214505888647914, 0.8116145875088849, 0.8214505888647914, 0.7602883422560744, 0.810190249764965, 0.7675547011436328, 0.8293521100172064, 0.827610134173888]}, {\"categories\": [\"0\", \"1\", \"2\", \"3\", \"4\", \"5\", \"6\", \"7\", \"8\", \"9\", \"10\", \"11\", \"12\", \"13\", \"14\", \"15\", \"16\", \"17\", \"18\", \"19\", \"20\", \"21\", \"22\", \"23\", \"24\"], \"mode\": \"lines\", \"name\": \"f1_score_micro_max\", \"stepped\": true, \"type\": \"scatter\", \"data\": [0.8293521100172064, 0.8293521100172064, 0.8293521100172064, 0.8293521100172064, 0.8293521100172064, 0.8293521100172064, 0.8293521100172064, 0.8293521100172064, 0.8293521100172064, 0.8293521100172064, 0.8293521100172064, 0.8293521100172064, 0.8293521100172064, 0.8293521100172064, 0.8293521100172064, 0.8293521100172064, 0.8293521100172064, 0.8293521100172064, 0.8293521100172064, 0.8293521100172064, 0.8293521100172064, 0.8293521100172064, 0.8293521100172064, 0.8293521100172064, 0.8293521100172064]}], \"precision_score_weighted\": [{\"categories\": [\"0\", \"1\", \"2\", \"3\", \"4\", \"5\", \"6\", \"7\", \"8\", \"9\", \"10\", \"11\", \"12\", \"13\", \"14\", \"15\", \"16\", \"17\", \"18\", \"19\", \"20\", \"21\", \"22\", \"23\", \"24\"], \"mode\": \"markers\", \"name\": \"precision_score_weighted\", \"stepped\": false, \"type\": \"scatter\", \"data\": [0.858307368566232, 0.8170697087565084, 0.8536358334690857, 0.8283066706166912, 0.8360344491459873, 0.8372481836320341, 0.8311811995478136, 0.8360344491459873, 0.8536629398583564, 0.842775941402954, 0.8360344491459873, 0.8437387384668338, 0.8472057926637955, 0.858307368566232, 0.8360344491459873, 0.8270830439491107, 0.8080683776307811, 0.8360344491459873, 0.8222797788699362, 0.8360344491459873, 0.767638797842528, 0.8213080327484678, 0.769859424964967, 0.858307368566232, 0.8536358334690857]}, {\"categories\": [\"0\", \"1\", \"2\", \"3\", \"4\", \"5\", \"6\", \"7\", \"8\", \"9\", \"10\", \"11\", \"12\", \"13\", \"14\", \"15\", \"16\", \"17\", \"18\", \"19\", \"20\", \"21\", \"22\", \"23\", \"24\"], \"mode\": \"lines\", \"name\": \"precision_score_weighted_max\", \"stepped\": true, \"type\": \"scatter\", \"data\": [0.858307368566232, 0.858307368566232, 0.858307368566232, 0.858307368566232, 0.858307368566232, 0.858307368566232, 0.858307368566232, 0.858307368566232, 0.858307368566232, 0.858307368566232, 0.858307368566232, 0.858307368566232, 0.858307368566232, 0.858307368566232, 0.858307368566232, 0.858307368566232, 0.858307368566232, 0.858307368566232, 0.858307368566232, 0.858307368566232, 0.858307368566232, 0.858307368566232, 0.858307368566232, 0.858307368566232, 0.858307368566232]}], \"precision_score_macro\": [{\"categories\": [\"0\", \"1\", \"2\", \"3\", \"4\", \"5\", \"6\", \"7\", \"8\", \"9\", \"10\", \"11\", \"12\", \"13\", \"14\", \"15\", \"16\", \"17\", \"18\", \"19\", \"20\", \"21\", \"22\", \"23\", \"24\"], \"mode\": \"markers\", \"name\": \"precision_score_macro\", \"stepped\": false, \"type\": \"scatter\", \"data\": [0.8435483780029547, 0.8083125474225721, 0.8397183751941949, 0.8187706251910345, 0.8251708314015229, 0.8252443776156151, 0.8214351526527992, 0.8251708314015229, 0.8394182933309512, 0.8292290183960918, 0.8251708314015229, 0.8304282727312644, 0.8335631430531674, 0.8435483780029547, 0.8251708314015229, 0.8156996563152585, 0.7994866686790323, 0.8251708314015229, 0.8127407530829582, 0.8251708314015229, 0.7593403181126864, 0.8117340258224301, 0.7638739559272955, 0.8435483780029547, 0.8397183751941949]}, {\"categories\": [\"0\", \"1\", \"2\", \"3\", \"4\", \"5\", \"6\", \"7\", \"8\", \"9\", \"10\", \"11\", \"12\", \"13\", \"14\", \"15\", \"16\", \"17\", \"18\", \"19\", \"20\", \"21\", \"22\", \"23\", \"24\"], \"mode\": \"lines\", \"name\": \"precision_score_macro_max\", \"stepped\": true, \"type\": \"scatter\", \"data\": [0.8435483780029547, 0.8435483780029547, 0.8435483780029547, 0.8435483780029547, 0.8435483780029547, 0.8435483780029547, 0.8435483780029547, 0.8435483780029547, 0.8435483780029547, 0.8435483780029547, 0.8435483780029547, 0.8435483780029547, 0.8435483780029547, 0.8435483780029547, 0.8435483780029547, 0.8435483780029547, 0.8435483780029547, 0.8435483780029547, 0.8435483780029547, 0.8435483780029547, 0.8435483780029547, 0.8435483780029547, 0.8435483780029547, 0.8435483780029547, 0.8435483780029547]}], \"AUC_micro\": [{\"categories\": [\"0\", \"1\", \"2\", \"3\", \"4\", \"5\", \"6\", \"7\", \"8\", \"9\", \"10\", \"11\", \"12\", \"13\", \"14\", \"15\", \"16\", \"17\", \"18\", \"19\", \"20\", \"21\", \"22\", \"23\", \"24\"], \"mode\": \"markers\", \"name\": \"AUC_micro\", \"stepped\": false, \"type\": \"scatter\", \"data\": [0.9244778383887777, 0.9019716381710321, 0.9235452601286139, 0.9124609652092804, 0.9164569486926754, 0.9149037925037573, 0.9190034491190133, 0.9164156436104409, 0.9164942033469525, 0.9139698939373929, 0.9164156436104409, 0.9167122275234572, 0.9086282736312749, 0.9220006772942945, 0.9164156436104409, 0.9021105087997114, 0.9002694011044003, 0.9164570088987709, 0.9067342734613046, 0.9164570088987709, 0.834092237680624, 0.9114996891270426, 0.8286018045508131, 0.9226016970875831, 0.9221741492551494]}, {\"categories\": [\"0\", \"1\", \"2\", \"3\", \"4\", \"5\", \"6\", \"7\", \"8\", \"9\", \"10\", \"11\", \"12\", \"13\", \"14\", \"15\", \"16\", \"17\", \"18\", \"19\", \"20\", \"21\", \"22\", \"23\", \"24\"], \"mode\": \"lines\", \"name\": \"AUC_micro_max\", \"stepped\": true, \"type\": \"scatter\", \"data\": [0.9244778383887777, 0.9244778383887777, 0.9244778383887777, 0.9244778383887777, 0.9244778383887777, 0.9244778383887777, 0.9244778383887777, 0.9244778383887777, 0.9244778383887777, 0.9244778383887777, 0.9244778383887777, 0.9244778383887777, 0.9244778383887777, 0.9244778383887777, 0.9244778383887777, 0.9244778383887777, 0.9244778383887777, 0.9244778383887777, 0.9244778383887777, 0.9244778383887777, 0.9244778383887777, 0.9244778383887777, 0.9244778383887777, 0.9244778383887777, 0.9244778383887777]}], \"accuracy\": [{\"categories\": [\"0\", \"1\", \"2\", \"3\", \"4\", \"5\", \"6\", \"7\", \"8\", \"9\", \"10\", \"11\", \"12\", \"13\", \"14\", \"15\", \"16\", \"17\", \"18\", \"19\", \"20\", \"21\", \"22\", \"23\", \"24\"], \"mode\": \"markers\", \"name\": \"accuracy\", \"stepped\": false, \"type\": \"scatter\", \"data\": [0.8293521100172063, 0.8085059583050873, 0.8276101341738877, 0.817668256693538, 0.8214505888647914, 0.8181108821779945, 0.8199588332590215, 0.8214505888647914, 0.8262723616778282, 0.8184381889153485, 0.8214505888647914, 0.8203823247887045, 0.822566997904125, 0.8293521100172063, 0.8214505888647914, 0.8101132271793213, 0.7999692294994979, 0.8214505888647914, 0.8116145875088849, 0.8214505888647914, 0.7602883422560746, 0.810190249764965, 0.7675547011436328, 0.8293521100172063, 0.8276101341738877]}, {\"categories\": [\"0\", \"1\", \"2\", \"3\", \"4\", \"5\", \"6\", \"7\", \"8\", \"9\", \"10\", \"11\", \"12\", \"13\", \"14\", \"15\", \"16\", \"17\", \"18\", \"19\", \"20\", \"21\", \"22\", \"23\", \"24\"], \"mode\": \"lines\", \"name\": \"accuracy_max\", \"stepped\": true, \"type\": \"scatter\", \"data\": [0.8293521100172063, 0.8293521100172063, 0.8293521100172063, 0.8293521100172063, 0.8293521100172063, 0.8293521100172063, 0.8293521100172063, 0.8293521100172063, 0.8293521100172063, 0.8293521100172063, 0.8293521100172063, 0.8293521100172063, 0.8293521100172063, 0.8293521100172063, 0.8293521100172063, 0.8293521100172063, 0.8293521100172063, 0.8293521100172063, 0.8293521100172063, 0.8293521100172063, 0.8293521100172063, 0.8293521100172063, 0.8293521100172063, 0.8293521100172063, 0.8293521100172063]}], \"AUC_weighted\": [{\"categories\": [\"0\", \"1\", \"2\", \"3\", \"4\", \"5\", \"6\", \"7\", \"8\", \"9\", \"10\", \"11\", \"12\", \"13\", \"14\", \"15\", \"16\", \"17\", \"18\", \"19\", \"20\", \"21\", \"22\", \"23\", \"24\"], \"mode\": \"markers\", \"name\": \"AUC_weighted\", \"stepped\": false, \"type\": \"scatter\", \"data\": [0.9152043321420225, 0.8945728637373392, 0.9147867411631989, 0.91159202387297, 0.909988149602237, 0.9043947260459649, 0.9090693549875237, 0.9099040003185843, 0.9097885086365677, 0.9031170889363231, 0.9099040003185843, 0.9061017910562658, 0.900947294731757, 0.9126780552832547, 0.9099040003185843, 0.8933391784215953, 0.8914962980611658, 0.9099882722913755, 0.9017452509721199, 0.9099882722913755, 0.8361790856027055, 0.9032774907480625, 0.8386183200346741, 0.9133602353681795, 0.9143689322282219]}, {\"categories\": [\"0\", \"1\", \"2\", \"3\", \"4\", \"5\", \"6\", \"7\", \"8\", \"9\", \"10\", \"11\", \"12\", \"13\", \"14\", \"15\", \"16\", \"17\", \"18\", \"19\", \"20\", \"21\", \"22\", \"23\", \"24\"], \"mode\": \"lines\", \"name\": \"AUC_weighted_max\", \"stepped\": true, \"type\": \"scatter\", \"data\": [0.9152043321420225, 0.9152043321420225, 0.9152043321420225, 0.9152043321420225, 0.9152043321420225, 0.9152043321420225, 0.9152043321420225, 0.9152043321420225, 0.9152043321420225, 0.9152043321420225, 0.9152043321420225, 0.9152043321420225, 0.9152043321420225, 0.9152043321420225, 0.9152043321420225, 0.9152043321420225, 0.9152043321420225, 0.9152043321420225, 0.9152043321420225, 0.9152043321420225, 0.9152043321420225, 0.9152043321420225, 0.9152043321420225, 0.9152043321420225, 0.9152043321420225]}], \"average_precision_score_macro\": [{\"categories\": [\"0\", \"1\", \"2\", \"3\", \"4\", \"5\", \"6\", \"7\", \"8\", \"9\", \"10\", \"11\", \"12\", \"13\", \"14\", \"15\", \"16\", \"17\", \"18\", \"19\", \"20\", \"21\", \"22\", \"23\", \"24\"], \"mode\": \"markers\", \"name\": \"average_precision_score_macro\", \"stepped\": false, \"type\": \"scatter\", \"data\": [0.9024802394400776, 0.8788764556161894, 0.9014081118066665, 0.8979062626233312, 0.8975990452753825, 0.8898420690593806, 0.8954973772220021, 0.8975267569272987, 0.8964956602766556, 0.8891512690728123, 0.8975267569272987, 0.8918756719535388, 0.886952028275006, 0.8990582702287909, 0.8975267569272987, 0.8763194591441511, 0.8746674281239226, 0.8975993399711699, 0.8868910631607012, 0.8975993399711699, 0.8054002101554338, 0.8891999004315106, 0.8072136809652098, 0.8996099244165213, 0.9011206085203399]}, {\"categories\": [\"0\", \"1\", \"2\", \"3\", \"4\", \"5\", \"6\", \"7\", \"8\", \"9\", \"10\", \"11\", \"12\", \"13\", \"14\", \"15\", \"16\", \"17\", \"18\", \"19\", \"20\", \"21\", \"22\", \"23\", \"24\"], \"mode\": \"lines\", \"name\": \"average_precision_score_macro_max\", \"stepped\": true, \"type\": \"scatter\", \"data\": [0.9024802394400776, 0.9024802394400776, 0.9024802394400776, 0.9024802394400776, 0.9024802394400776, 0.9024802394400776, 0.9024802394400776, 0.9024802394400776, 0.9024802394400776, 0.9024802394400776, 0.9024802394400776, 0.9024802394400776, 0.9024802394400776, 0.9024802394400776, 0.9024802394400776, 0.9024802394400776, 0.9024802394400776, 0.9024802394400776, 0.9024802394400776, 0.9024802394400776, 0.9024802394400776, 0.9024802394400776, 0.9024802394400776, 0.9024802394400776, 0.9024802394400776]}], \"average_precision_score_micro\": [{\"categories\": [\"0\", \"1\", \"2\", \"3\", \"4\", \"5\", \"6\", \"7\", \"8\", \"9\", \"10\", \"11\", \"12\", \"13\", \"14\", \"15\", \"16\", \"17\", \"18\", \"19\", \"20\", \"21\", \"22\", \"23\", \"24\"], \"mode\": \"markers\", \"name\": \"average_precision_score_micro\", \"stepped\": false, \"type\": \"scatter\", \"data\": [0.9229154471403629, 0.8986523665702576, 0.9218824382210491, 0.9108987065379374, 0.9125622771787885, 0.9125642615533476, 0.9168044239706037, 0.9125171925784841, 0.9129749307318047, 0.9118712901602569, 0.9125171925784841, 0.9139351804852132, 0.9066172633852766, 0.9200871725118475, 0.9125171925784841, 0.9003098401416902, 0.8992274667802077, 0.9125616174633894, 0.9043221065297324, 0.9125616174633894, 0.8211982540487203, 0.9093898427241699, 0.8185625274685024, 0.9204722941286867, 0.9198335114625505]}, {\"categories\": [\"0\", \"1\", \"2\", \"3\", \"4\", \"5\", \"6\", \"7\", \"8\", \"9\", \"10\", \"11\", \"12\", \"13\", \"14\", \"15\", \"16\", \"17\", \"18\", \"19\", \"20\", \"21\", \"22\", \"23\", \"24\"], \"mode\": \"lines\", \"name\": \"average_precision_score_micro_max\", \"stepped\": true, \"type\": \"scatter\", \"data\": [0.9229154471403629, 0.9229154471403629, 0.9229154471403629, 0.9229154471403629, 0.9229154471403629, 0.9229154471403629, 0.9229154471403629, 0.9229154471403629, 0.9229154471403629, 0.9229154471403629, 0.9229154471403629, 0.9229154471403629, 0.9229154471403629, 0.9229154471403629, 0.9229154471403629, 0.9229154471403629, 0.9229154471403629, 0.9229154471403629, 0.9229154471403629, 0.9229154471403629, 0.9229154471403629, 0.9229154471403629, 0.9229154471403629, 0.9229154471403629, 0.9229154471403629]}], \"f1_score_weighted\": [{\"categories\": [\"0\", \"1\", \"2\", \"3\", \"4\", \"5\", \"6\", \"7\", \"8\", \"9\", \"10\", \"11\", \"12\", \"13\", \"14\", \"15\", \"16\", \"17\", \"18\", \"19\", \"20\", \"21\", \"22\", \"23\", \"24\"], \"mode\": \"markers\", \"name\": \"f1_score_weighted\", \"stepped\": false, \"type\": \"scatter\", \"data\": [0.8294074783467853, 0.8093577066272175, 0.8277806721000349, 0.818468794642525, 0.8221513398939375, 0.8185934263375112, 0.8207413408901324, 0.8221513398939375, 0.8263743802654566, 0.8187317630885712, 0.8221513398939375, 0.8207250044717316, 0.8228402283831272, 0.8294074783467853, 0.8221513398939375, 0.8107097355454812, 0.8008574877029876, 0.8221513398939375, 0.8124414931604758, 0.8221513398939375, 0.761319114776352, 0.8109671862467132, 0.7681960344721692, 0.8294074783467853, 0.8277806721000349]}, {\"categories\": [\"0\", \"1\", \"2\", \"3\", \"4\", \"5\", \"6\", \"7\", \"8\", \"9\", \"10\", \"11\", \"12\", \"13\", \"14\", \"15\", \"16\", \"17\", \"18\", \"19\", \"20\", \"21\", \"22\", \"23\", \"24\"], \"mode\": \"lines\", \"name\": \"f1_score_weighted_max\", \"stepped\": true, \"type\": \"scatter\", \"data\": [0.8294074783467853, 0.8294074783467853, 0.8294074783467853, 0.8294074783467853, 0.8294074783467853, 0.8294074783467853, 0.8294074783467853, 0.8294074783467853, 0.8294074783467853, 0.8294074783467853, 0.8294074783467853, 0.8294074783467853, 0.8294074783467853, 0.8294074783467853, 0.8294074783467853, 0.8294074783467853, 0.8294074783467853, 0.8294074783467853, 0.8294074783467853, 0.8294074783467853, 0.8294074783467853, 0.8294074783467853, 0.8294074783467853, 0.8294074783467853, 0.8294074783467853]}], \"balanced_accuracy\": [{\"categories\": [\"0\", \"1\", \"2\", \"3\", \"4\", \"5\", \"6\", \"7\", \"8\", \"9\", \"10\", \"11\", \"12\", \"13\", \"14\", \"15\", \"16\", \"17\", \"18\", \"19\", \"20\", \"21\", \"22\", \"23\", \"24\"], \"mode\": \"markers\", \"name\": \"balanced_accuracy\", \"stepped\": false, \"type\": \"scatter\", \"data\": [0.844011437210178, 0.8138707806461802, 0.8410189130800957, 0.824450851744609, 0.8303592651919238, 0.8286419215244649, 0.8271066786339689, 0.8303592651919238, 0.8401523265435318, 0.8314041556411814, 0.8303592651919238, 0.8329872062517321, 0.8356551094208395, 0.844011437210178, 0.8303592651919238, 0.8196949960596939, 0.8048753228316962, 0.8303592651919238, 0.8183123909210412, 0.8303592651919238, 0.763849659984157, 0.8168674347193949, 0.7667987641790129, 0.844011437210178, 0.8410189130800957]}, {\"categories\": [\"0\", \"1\", \"2\", \"3\", \"4\", \"5\", \"6\", \"7\", \"8\", \"9\", \"10\", \"11\", \"12\", \"13\", \"14\", \"15\", \"16\", \"17\", \"18\", \"19\", \"20\", \"21\", \"22\", \"23\", \"24\"], \"mode\": \"lines\", \"name\": \"balanced_accuracy_max\", \"stepped\": true, \"type\": \"scatter\", \"data\": [0.844011437210178, 0.844011437210178, 0.844011437210178, 0.844011437210178, 0.844011437210178, 0.844011437210178, 0.844011437210178, 0.844011437210178, 0.844011437210178, 0.844011437210178, 0.844011437210178, 0.844011437210178, 0.844011437210178, 0.844011437210178, 0.844011437210178, 0.844011437210178, 0.844011437210178, 0.844011437210178, 0.844011437210178, 0.844011437210178, 0.844011437210178, 0.844011437210178, 0.844011437210178, 0.844011437210178, 0.844011437210178]}], \"average_precision_score_weighted\": [{\"categories\": [\"0\", \"1\", \"2\", \"3\", \"4\", \"5\", \"6\", \"7\", \"8\", \"9\", \"10\", \"11\", \"12\", \"13\", \"14\", \"15\", \"16\", \"17\", \"18\", \"19\", \"20\", \"21\", \"22\", \"23\", \"24\"], \"mode\": \"markers\", \"name\": \"average_precision_score_weighted\", \"stepped\": false, \"type\": \"scatter\", \"data\": [0.9067786630576153, 0.8846495022530642, 0.9058299746084784, 0.902540903743315, 0.901837200860218, 0.8950172211390394, 0.900331353516852, 0.9017602845138807, 0.9009592155957803, 0.8943729245428669, 0.9017602845138807, 0.8968623404720318, 0.8920946438615454, 0.9036436014229855, 0.9017602845138807, 0.8823450559768424, 0.8807542986664787, 0.9018374604469426, 0.8920771625970886, 0.9018374604469426, 0.8128434476245652, 0.8942845880253557, 0.8147177841213595, 0.9041227592770413, 0.9055220513319746]}, {\"categories\": [\"0\", \"1\", \"2\", \"3\", \"4\", \"5\", \"6\", \"7\", \"8\", \"9\", \"10\", \"11\", \"12\", \"13\", \"14\", \"15\", \"16\", \"17\", \"18\", \"19\", \"20\", \"21\", \"22\", \"23\", \"24\"], \"mode\": \"lines\", \"name\": \"average_precision_score_weighted_max\", \"stepped\": true, \"type\": \"scatter\", \"data\": [0.9067786630576153, 0.9067786630576153, 0.9067786630576153, 0.9067786630576153, 0.9067786630576153, 0.9067786630576153, 0.9067786630576153, 0.9067786630576153, 0.9067786630576153, 0.9067786630576153, 0.9067786630576153, 0.9067786630576153, 0.9067786630576153, 0.9067786630576153, 0.9067786630576153, 0.9067786630576153, 0.9067786630576153, 0.9067786630576153, 0.9067786630576153, 0.9067786630576153, 0.9067786630576153, 0.9067786630576153, 0.9067786630576153, 0.9067786630576153, 0.9067786630576153]}], \"recall_score_macro\": [{\"categories\": [\"0\", \"1\", \"2\", \"3\", \"4\", \"5\", \"6\", \"7\", \"8\", \"9\", \"10\", \"11\", \"12\", \"13\", \"14\", \"15\", \"16\", \"17\", \"18\", \"19\", \"20\", \"21\", \"22\", \"23\", \"24\"], \"mode\": \"markers\", \"name\": \"recall_score_macro\", \"stepped\": false, \"type\": \"scatter\", \"data\": [0.844011437210178, 0.8138707806461802, 0.8410189130800957, 0.824450851744609, 0.8303592651919238, 0.8286419215244649, 0.8271066786339689, 0.8303592651919238, 0.8401523265435318, 0.8314041556411814, 0.8303592651919238, 0.8329872062517321, 0.8356551094208395, 0.844011437210178, 0.8303592651919238, 0.8196949960596939, 0.8048753228316962, 0.8303592651919238, 0.8183123909210412, 0.8303592651919238, 0.763849659984157, 0.8168674347193949, 0.7667987641790129, 0.844011437210178, 0.8410189130800957]}, {\"categories\": [\"0\", \"1\", \"2\", \"3\", \"4\", \"5\", \"6\", \"7\", \"8\", \"9\", \"10\", \"11\", \"12\", \"13\", \"14\", \"15\", \"16\", \"17\", \"18\", \"19\", \"20\", \"21\", \"22\", \"23\", \"24\"], \"mode\": \"lines\", \"name\": \"recall_score_macro_max\", \"stepped\": true, \"type\": \"scatter\", \"data\": [0.844011437210178, 0.844011437210178, 0.844011437210178, 0.844011437210178, 0.844011437210178, 0.844011437210178, 0.844011437210178, 0.844011437210178, 0.844011437210178, 0.844011437210178, 0.844011437210178, 0.844011437210178, 0.844011437210178, 0.844011437210178, 0.844011437210178, 0.844011437210178, 0.844011437210178, 0.844011437210178, 0.844011437210178, 0.844011437210178, 0.844011437210178, 0.844011437210178, 0.844011437210178, 0.844011437210178, 0.844011437210178]}], \"f1_score_macro\": [{\"categories\": [\"0\", \"1\", \"2\", \"3\", \"4\", \"5\", \"6\", \"7\", \"8\", \"9\", \"10\", \"11\", \"12\", \"13\", \"14\", \"15\", \"16\", \"17\", \"18\", \"19\", \"20\", \"21\", \"22\", \"23\", \"24\"], \"mode\": \"markers\", \"name\": \"f1_score_macro\", \"stepped\": false, \"type\": \"scatter\", \"data\": [0.829348896673084, 0.8076058347361587, 0.8275092631925398, 0.8170279904616964, 0.8211041042333636, 0.8178122118637701, 0.8193764349385955, 0.8211041042333636, 0.8261851682914572, 0.8184025659258525, 0.8211041042333636, 0.820328026785683, 0.8225265968238308, 0.829348896673084, 0.8211041042333636, 0.8097548352625872, 0.798966969492602, 0.8211041042333636, 0.8109574596594458, 0.8211041042333636, 0.7589073778884227, 0.8094624866875266, 0.7648128199034068, 0.829348896673084, 0.8275092631925398]}, {\"categories\": [\"0\", \"1\", \"2\", \"3\", \"4\", \"5\", \"6\", \"7\", \"8\", \"9\", \"10\", \"11\", \"12\", \"13\", \"14\", \"15\", \"16\", \"17\", \"18\", \"19\", \"20\", \"21\", \"22\", \"23\", \"24\"], \"mode\": \"lines\", \"name\": \"f1_score_macro_max\", \"stepped\": true, \"type\": \"scatter\", \"data\": [0.829348896673084, 0.829348896673084, 0.829348896673084, 0.829348896673084, 0.829348896673084, 0.829348896673084, 0.829348896673084, 0.829348896673084, 0.829348896673084, 0.829348896673084, 0.829348896673084, 0.829348896673084, 0.829348896673084, 0.829348896673084, 0.829348896673084, 0.829348896673084, 0.829348896673084, 0.829348896673084, 0.829348896673084, 0.829348896673084, 0.829348896673084, 0.829348896673084, 0.829348896673084, 0.829348896673084, 0.829348896673084]}], \"recall_score_micro\": [{\"categories\": [\"0\", \"1\", \"2\", \"3\", \"4\", \"5\", \"6\", \"7\", \"8\", \"9\", \"10\", \"11\", \"12\", \"13\", \"14\", \"15\", \"16\", \"17\", \"18\", \"19\", \"20\", \"21\", \"22\", \"23\", \"24\"], \"mode\": \"markers\", \"name\": \"recall_score_micro\", \"stepped\": false, \"type\": \"scatter\", \"data\": [0.8293521100172063, 0.8085059583050873, 0.8276101341738877, 0.817668256693538, 0.8214505888647914, 0.8181108821779945, 0.8199588332590215, 0.8214505888647914, 0.8262723616778282, 0.8184381889153485, 0.8214505888647914, 0.8203823247887045, 0.822566997904125, 0.8293521100172063, 0.8214505888647914, 0.8101132271793213, 0.7999692294994979, 0.8214505888647914, 0.8116145875088849, 0.8214505888647914, 0.7602883422560746, 0.810190249764965, 0.7675547011436328, 0.8293521100172063, 0.8276101341738877]}, {\"categories\": [\"0\", \"1\", \"2\", \"3\", \"4\", \"5\", \"6\", \"7\", \"8\", \"9\", \"10\", \"11\", \"12\", \"13\", \"14\", \"15\", \"16\", \"17\", \"18\", \"19\", \"20\", \"21\", \"22\", \"23\", \"24\"], \"mode\": \"lines\", \"name\": \"recall_score_micro_max\", \"stepped\": true, \"type\": \"scatter\", \"data\": [0.8293521100172063, 0.8293521100172063, 0.8293521100172063, 0.8293521100172063, 0.8293521100172063, 0.8293521100172063, 0.8293521100172063, 0.8293521100172063, 0.8293521100172063, 0.8293521100172063, 0.8293521100172063, 0.8293521100172063, 0.8293521100172063, 0.8293521100172063, 0.8293521100172063, 0.8293521100172063, 0.8293521100172063, 0.8293521100172063, 0.8293521100172063, 0.8293521100172063, 0.8293521100172063, 0.8293521100172063, 0.8293521100172063, 0.8293521100172063, 0.8293521100172063]}], \"recall_score_weighted\": [{\"categories\": [\"0\", \"1\", \"2\", \"3\", \"4\", \"5\", \"6\", \"7\", \"8\", \"9\", \"10\", \"11\", \"12\", \"13\", \"14\", \"15\", \"16\", \"17\", \"18\", \"19\", \"20\", \"21\", \"22\", \"23\", \"24\"], \"mode\": \"markers\", \"name\": \"recall_score_weighted\", \"stepped\": false, \"type\": \"scatter\", \"data\": [0.8293521100172063, 0.8085059583050873, 0.8276101341738877, 0.817668256693538, 0.8214505888647914, 0.8181108821779945, 0.8199588332590215, 0.8214505888647914, 0.8262723616778282, 0.8184381889153485, 0.8214505888647914, 0.8203823247887045, 0.822566997904125, 0.8293521100172063, 0.8214505888647914, 0.8101132271793213, 0.7999692294994979, 0.8214505888647914, 0.8116145875088849, 0.8214505888647914, 0.7602883422560746, 0.810190249764965, 0.7675547011436328, 0.8293521100172063, 0.8276101341738877]}, {\"categories\": [\"0\", \"1\", \"2\", \"3\", \"4\", \"5\", \"6\", \"7\", \"8\", \"9\", \"10\", \"11\", \"12\", \"13\", \"14\", \"15\", \"16\", \"17\", \"18\", \"19\", \"20\", \"21\", \"22\", \"23\", \"24\"], \"mode\": \"lines\", \"name\": \"recall_score_weighted_max\", \"stepped\": true, \"type\": \"scatter\", \"data\": [0.8293521100172063, 0.8293521100172063, 0.8293521100172063, 0.8293521100172063, 0.8293521100172063, 0.8293521100172063, 0.8293521100172063, 0.8293521100172063, 0.8293521100172063, 0.8293521100172063, 0.8293521100172063, 0.8293521100172063, 0.8293521100172063, 0.8293521100172063, 0.8293521100172063, 0.8293521100172063, 0.8293521100172063, 0.8293521100172063, 0.8293521100172063, 0.8293521100172063, 0.8293521100172063, 0.8293521100172063, 0.8293521100172063, 0.8293521100172063, 0.8293521100172063]}], \"AUC_macro\": [{\"categories\": [\"0\", \"1\", \"2\", \"3\", \"4\", \"5\", \"6\", \"7\", \"8\", \"9\", \"10\", \"11\", \"12\", \"13\", \"14\", \"15\", \"16\", \"17\", \"18\", \"19\", \"20\", \"21\", \"22\", \"23\", \"24\"], \"mode\": \"markers\", \"name\": \"AUC_macro\", \"stepped\": false, \"type\": \"scatter\", \"data\": [0.9152046532739725, 0.894572863737339, 0.9147867411631989, 0.91159202387297, 0.909988149602237, 0.9043947260459648, 0.9090693549875237, 0.9099040003185843, 0.9097885086365677, 0.9031170889363231, 0.9099040003185843, 0.9061017910562658, 0.900947294731757, 0.9126780552832547, 0.9099040003185843, 0.8933391784215953, 0.8914962980611658, 0.9099882722913755, 0.9017452509721201, 0.9099882722913755, 0.8361790856027055, 0.9032774907480625, 0.8386183200346741, 0.9133602353681795, 0.9143689322282219]}, {\"categories\": [\"0\", \"1\", \"2\", \"3\", \"4\", \"5\", \"6\", \"7\", \"8\", \"9\", \"10\", \"11\", \"12\", \"13\", \"14\", \"15\", \"16\", \"17\", \"18\", \"19\", \"20\", \"21\", \"22\", \"23\", \"24\"], \"mode\": \"lines\", \"name\": \"AUC_macro_max\", \"stepped\": true, \"type\": \"scatter\", \"data\": [0.9152046532739725, 0.9152046532739725, 0.9152046532739725, 0.9152046532739725, 0.9152046532739725, 0.9152046532739725, 0.9152046532739725, 0.9152046532739725, 0.9152046532739725, 0.9152046532739725, 0.9152046532739725, 0.9152046532739725, 0.9152046532739725, 0.9152046532739725, 0.9152046532739725, 0.9152046532739725, 0.9152046532739725, 0.9152046532739725, 0.9152046532739725, 0.9152046532739725, 0.9152046532739725, 0.9152046532739725, 0.9152046532739725, 0.9152046532739725, 0.9152046532739725]}], \"log_loss\": [{\"categories\": [\"0\", \"1\", \"2\", \"3\", \"4\", \"5\", \"6\", \"7\", \"8\", \"9\", \"10\", \"11\", \"12\", \"13\", \"14\", \"15\", \"16\", \"17\", \"18\", \"19\", \"20\", \"21\", \"22\", \"23\", \"24\"], \"mode\": \"markers\", \"name\": \"log_loss\", \"stepped\": false, \"type\": \"scatter\", \"data\": [0.32926851555806275, 0.4137364609293296, 0.35840190008728523, 0.4984083348592373, 0.35427041567910117, 0.3722572138788709, 0.38436994185628875, 0.3542734081387452, 0.39727410209834113, 0.36968963618166073, 0.35427282619271655, 0.3671944413767303, 0.3751898595992761, 0.3418172160709502, 0.35427335990176007, 0.4026963481655798, 0.45045060784074453, 0.3542707674046882, 0.3944331244091025, 0.3542706218696933, 0.5695561952529122, 0.3742263399181988, 0.5616763632492682, 0.34703713300170314, 0.35050562916049943]}, {\"categories\": [\"0\", \"1\", \"2\", \"3\", \"4\", \"5\", \"6\", \"7\", \"8\", \"9\", \"10\", \"11\", \"12\", \"13\", \"14\", \"15\", \"16\", \"17\", \"18\", \"19\", \"20\", \"21\", \"22\", \"23\", \"24\"], \"mode\": \"lines\", \"name\": \"log_loss_min\", \"stepped\": true, \"type\": \"scatter\", \"data\": [0.32926851555806275, 0.32926851555806275, 0.32926851555806275, 0.32926851555806275, 0.32926851555806275, 0.32926851555806275, 0.32926851555806275, 0.32926851555806275, 0.32926851555806275, 0.32926851555806275, 0.32926851555806275, 0.32926851555806275, 0.32926851555806275, 0.32926851555806275, 0.32926851555806275, 0.32926851555806275, 0.32926851555806275, 0.32926851555806275, 0.32926851555806275, 0.32926851555806275, 0.32926851555806275, 0.32926851555806275, 0.32926851555806275, 0.32926851555806275, 0.32926851555806275]}], \"weighted_accuracy\": [{\"categories\": [\"0\", \"1\", \"2\", \"3\", \"4\", \"5\", \"6\", \"7\", \"8\", \"9\", \"10\", \"11\", \"12\", \"13\", \"14\", \"15\", \"16\", \"17\", \"18\", \"19\", \"20\", \"21\", \"22\", \"23\", \"24\"], \"mode\": \"markers\", \"name\": \"weighted_accuracy\", \"stepped\": false, \"type\": \"scatter\", \"data\": [0.8152051926584534, 0.8033288786707852, 0.8146693874361226, 0.811122983826016, 0.8128535525637581, 0.8079488729209569, 0.8130610651388999, 0.8128535525637581, 0.8128769195411406, 0.8059255235099133, 0.8128535525637581, 0.8082180094291307, 0.8099364152836671, 0.8152051926584534, 0.8128535525637581, 0.8008660065924303, 0.7952348510872211, 0.8128535525637581, 0.8051511368628752, 0.8128535525637581, 0.7568510285568066, 0.8037463291557184, 0.7682841815391144, 0.8152051926584534, 0.8146693874361226]}, {\"categories\": [\"0\", \"1\", \"2\", \"3\", \"4\", \"5\", \"6\", \"7\", \"8\", \"9\", \"10\", \"11\", \"12\", \"13\", \"14\", \"15\", \"16\", \"17\", \"18\", \"19\", \"20\", \"21\", \"22\", \"23\", \"24\"], \"mode\": \"lines\", \"name\": \"weighted_accuracy_max\", \"stepped\": true, \"type\": \"scatter\", \"data\": [0.8152051926584534, 0.8152051926584534, 0.8152051926584534, 0.8152051926584534, 0.8152051926584534, 0.8152051926584534, 0.8152051926584534, 0.8152051926584534, 0.8152051926584534, 0.8152051926584534, 0.8152051926584534, 0.8152051926584534, 0.8152051926584534, 0.8152051926584534, 0.8152051926584534, 0.8152051926584534, 0.8152051926584534, 0.8152051926584534, 0.8152051926584534, 0.8152051926584534, 0.8152051926584534, 0.8152051926584534, 0.8152051926584534, 0.8152051926584534, 0.8152051926584534]}], \"matthews_correlation\": [{\"categories\": [\"0\", \"1\", \"2\", \"3\", \"4\", \"5\", \"6\", \"7\", \"8\", \"9\", \"10\", \"11\", \"12\", \"13\", \"14\", \"15\", \"16\", \"17\", \"18\", \"19\", \"20\", \"21\", \"22\", \"23\", \"24\"], \"mode\": \"markers\", \"name\": \"matthews_correlation\", \"stepped\": false, \"type\": \"scatter\", \"data\": [0.6875593760891453, 0.6221584826464557, 0.680732179683609, 0.6431963796306398, 0.6555095326792759, 0.6538740737706533, 0.6485170141943981, 0.6555095326792759, 0.6795657241511099, 0.6606294100564452, 0.6555095326792759, 0.6634101395227713, 0.6692141488647161, 0.6875593760891453, 0.6555095326792759, 0.6353805383174663, 0.6043379471509892, 0.6555095326792759, 0.6310285311143006, 0.6555095326792759, 0.5231705286070396, 0.6285797363469059, 0.5306645057153438, 0.6875593760891453, 0.680732179683609]}, {\"categories\": [\"0\", \"1\", \"2\", \"3\", \"4\", \"5\", \"6\", \"7\", \"8\", \"9\", \"10\", \"11\", \"12\", \"13\", \"14\", \"15\", \"16\", \"17\", \"18\", \"19\", \"20\", \"21\", \"22\", \"23\", \"24\"], \"mode\": \"lines\", \"name\": \"matthews_correlation_max\", \"stepped\": true, \"type\": \"scatter\", \"data\": [0.6875593760891453, 0.6875593760891453, 0.6875593760891453, 0.6875593760891453, 0.6875593760891453, 0.6875593760891453, 0.6875593760891453, 0.6875593760891453, 0.6875593760891453, 0.6875593760891453, 0.6875593760891453, 0.6875593760891453, 0.6875593760891453, 0.6875593760891453, 0.6875593760891453, 0.6875593760891453, 0.6875593760891453, 0.6875593760891453, 0.6875593760891453, 0.6875593760891453, 0.6875593760891453, 0.6875593760891453, 0.6875593760891453, 0.6875593760891453, 0.6875593760891453]}]}, \"metricName\": null, \"primaryMetricName\": \"accuracy\", \"showLegend\": false}, \"run_metrics\": [{\"name\": \"experiment_status\", \"run_id\": \"AutoML_fd09e4c0-7113-4758-9f30-187cfce35465\", \"categories\": [0, 1, 2, 3, 4, 5, 6, 7, 8, 9, 10, 11], \"series\": [{\"data\": [\"DatasetEvaluation\", \"FeaturesGeneration\", \"DatasetFeaturization\", \"DatasetFeaturizationCompleted\", \"DatasetCrossValidationSplit\", \"ModelSelection\", \"BestRunExplainModel\", \"ModelExplanationDataSetSetup\", \"PickSurrogateModel\", \"EngineeredFeatureExplanations\", \"EngineeredFeatureExplanations\", \"RawFeaturesExplanations\"]}]}, {\"name\": \"experiment_status_description\", \"run_id\": \"AutoML_fd09e4c0-7113-4758-9f30-187cfce35465\", \"categories\": [0, 1, 2, 3, 4, 5, 6, 7, 8, 9, 10, 11], \"series\": [{\"data\": [\"Gathering dataset statistics.\", \"Generating features for the dataset.\", \"Beginning to fit featurizers and featurize the dataset.\", \"Completed fit featurizers and featurizing the dataset.\", \"Generating individually featurized CV splits.\", \"Beginning model selection.\", \"Best run model explanations started\", \"Model explanations data setup completed\", \"Choosing LightGBM as the surrogate model for explanations\", \"Computation of engineered features started\", \"Computation of engineered features completed\", \"Computation of raw features started\"]}]}, {\"name\": \"f1_score_macro\", \"run_id\": \"AutoML_fd09e4c0-7113-4758-9f30-187cfce35465\", \"categories\": [0], \"series\": [{\"data\": [0.829348896673084]}]}, {\"name\": \"average_precision_score_weighted\", \"run_id\": \"AutoML_fd09e4c0-7113-4758-9f30-187cfce35465\", \"categories\": [0], \"series\": [{\"data\": [0.9067786630576153]}]}, {\"name\": \"recall_score_micro\", \"run_id\": \"AutoML_fd09e4c0-7113-4758-9f30-187cfce35465\", \"categories\": [0], \"series\": [{\"data\": [0.8293521100172063]}]}, {\"name\": \"f1_score_micro\", \"run_id\": \"AutoML_fd09e4c0-7113-4758-9f30-187cfce35465\", \"categories\": [0], \"series\": [{\"data\": [0.8293521100172064]}]}, {\"name\": \"precision_score_micro\", \"run_id\": \"AutoML_fd09e4c0-7113-4758-9f30-187cfce35465\", \"categories\": [0], \"series\": [{\"data\": [0.8293521100172063]}]}, {\"name\": \"accuracy\", \"run_id\": \"AutoML_fd09e4c0-7113-4758-9f30-187cfce35465\", \"categories\": [0], \"series\": [{\"data\": [0.8293521100172063]}]}, {\"name\": \"recall_score_weighted\", \"run_id\": \"AutoML_fd09e4c0-7113-4758-9f30-187cfce35465\", \"categories\": [0], \"series\": [{\"data\": [0.8293521100172063]}]}, {\"name\": \"AUC_micro\", \"run_id\": \"AutoML_fd09e4c0-7113-4758-9f30-187cfce35465\", \"categories\": [0], \"series\": [{\"data\": [0.9244778383887777]}]}, {\"name\": \"AUC_macro\", \"run_id\": \"AutoML_fd09e4c0-7113-4758-9f30-187cfce35465\", \"categories\": [0], \"series\": [{\"data\": [0.9152046532739725]}]}, {\"name\": \"precision_score_macro\", \"run_id\": \"AutoML_fd09e4c0-7113-4758-9f30-187cfce35465\", \"categories\": [0], \"series\": [{\"data\": [0.8435483780029547]}]}, {\"name\": \"precision_score_weighted\", \"run_id\": \"AutoML_fd09e4c0-7113-4758-9f30-187cfce35465\", \"categories\": [0], \"series\": [{\"data\": [0.858307368566232]}]}, {\"name\": \"average_precision_score_macro\", \"run_id\": \"AutoML_fd09e4c0-7113-4758-9f30-187cfce35465\", \"categories\": [0], \"series\": [{\"data\": [0.9024802394400776]}]}, {\"name\": \"weighted_accuracy\", \"run_id\": \"AutoML_fd09e4c0-7113-4758-9f30-187cfce35465\", \"categories\": [0], \"series\": [{\"data\": [0.8152051926584534]}]}, {\"name\": \"balanced_accuracy\", \"run_id\": \"AutoML_fd09e4c0-7113-4758-9f30-187cfce35465\", \"categories\": [0], \"series\": [{\"data\": [0.844011437210178]}]}, {\"name\": \"log_loss\", \"run_id\": \"AutoML_fd09e4c0-7113-4758-9f30-187cfce35465\", \"categories\": [0], \"series\": [{\"data\": [0.32926851555806275]}]}, {\"name\": \"f1_score_weighted\", \"run_id\": \"AutoML_fd09e4c0-7113-4758-9f30-187cfce35465\", \"categories\": [0], \"series\": [{\"data\": [0.8294074783467853]}]}, {\"name\": \"recall_score_macro\", \"run_id\": \"AutoML_fd09e4c0-7113-4758-9f30-187cfce35465\", \"categories\": [0], \"series\": [{\"data\": [0.844011437210178]}]}, {\"name\": \"average_precision_score_micro\", \"run_id\": \"AutoML_fd09e4c0-7113-4758-9f30-187cfce35465\", \"categories\": [0], \"series\": [{\"data\": [0.9229154471403629]}]}, {\"name\": \"AUC_weighted\", \"run_id\": \"AutoML_fd09e4c0-7113-4758-9f30-187cfce35465\", \"categories\": [0], \"series\": [{\"data\": [0.9152043321420225]}]}, {\"name\": \"matthews_correlation\", \"run_id\": \"AutoML_fd09e4c0-7113-4758-9f30-187cfce35465\", \"categories\": [0], \"series\": [{\"data\": [0.6875593760891453]}]}, {\"name\": \"norm_macro_recall\", \"run_id\": \"AutoML_fd09e4c0-7113-4758-9f30-187cfce35465\", \"categories\": [0], \"series\": [{\"data\": [0.688022874420356]}]}], \"run_logs\": \"\\nRun is completed.\", \"graph\": {}, \"widget_settings\": {\"childWidgetDisplay\": \"popup\", \"send_telemetry\": false, \"log_level\": \"INFO\", \"sdk_version\": \"1.36.0\"}, \"loading\": false}"
     },
     "metadata": {},
     "output_type": "display_data"
    },
    {
     "data": {
      "application/vnd.jupyter.widget-view+json": {
       "model_id": "01b9e08422f84adbb222fb4564bfe75a",
       "version_major": 2,
       "version_minor": 0
      },
      "text/plain": [
       "_UserRunWidget(widget_settings={'childWidgetDisplay': 'popup', 'send_telemetry': False, 'log_level': 'INFO', '…"
      ]
     },
     "metadata": {},
     "output_type": "display_data"
    },
    {
     "data": {
      "application/aml.mini.widget.v1": "{\"loading\": true}"
     },
     "metadata": {},
     "output_type": "display_data"
    }
   ],
   "source": [
    "RunDetails(local_run1).show()"
   ]
  },
  {
   "cell_type": "markdown",
   "metadata": {},
   "source": [
    "When sorting by validation score (interation metric), the top 3 models are: MaxAbsScaler/LightGBM, TruncatedSVDWrapper/RandomForest and VotingEnsemble. \\\n",
    "When sorting by speed (duration), the top 3 models are: MaxAbsScaler/SGD, StandardScalerWrapper/RandomForest and MaxAbsScaler/LightGBM."
   ]
  },
  {
   "cell_type": "markdown",
   "metadata": {},
   "source": [
    "The highest accuracy score from automl is 0.965 and the corresponding runtime is 1 minute 39 seconds. \\\n",
    "The highest accuracy score from assignment 2 is 0.928 and the corresponding runtime is 6 minute 10 seconds. \\\n",
    "The highest accuracy score from assignment 1 is 0.928 and the corresponding runtime is 1 minute 04 seconds."
   ]
  },
  {
   "cell_type": "code",
   "execution_count": null,
   "metadata": {},
   "outputs": [],
   "source": []
  }
 ],
 "metadata": {
  "anaconda-cloud": {},
  "kernelspec": {
   "display_name": "Python 3 (ipykernel)",
   "language": "python",
   "name": "python3"
  },
  "language_info": {
   "codemirror_mode": {
    "name": "ipython",
    "version": 3
   },
   "file_extension": ".py",
   "mimetype": "text/x-python",
   "name": "python",
   "nbconvert_exporter": "python",
   "pygments_lexer": "ipython3",
   "version": "3.7.4"
  }
 },
 "nbformat": 4,
 "nbformat_minor": 1
}
